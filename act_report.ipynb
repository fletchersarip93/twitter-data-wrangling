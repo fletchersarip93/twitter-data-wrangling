{
 "cells": [
  {
   "cell_type": "markdown",
   "metadata": {},
   "source": [
    "# WeRateDogs Twitter - Data Analysis\n",
    "In this data analysis on the WeRateDogs twitter statuses, we'll answer the following questions:\n",
    "- How does the dog rating relate with the audience score of the tweet?\n",
    "- What is the most favored dog stage?\n",
    "- Which one does the public audience favors more, tweets with videos or photos?"
   ]
  },
  {
   "cell_type": "markdown",
   "metadata": {},
   "source": [
    "## Audience Score\n",
    "To give a fair assessment of the score of each tweet status to actual public audience, the \"audience score\" column is created. This score is different from the dog rating that the dog owner gave to their own dog in the tweet status. This score will be used to assess unbiased scoring for the dog in each tweet status. The reason why we need this separate scoring is because the rating given by the dog's owner will have a certain bias (because the owners will of course love their own dogs!).\n",
    "\n",
    "Audience score (with column name `audience_score`) is the sum of `favorite_count` and `retweet_count` of the tweet status. This calculation is based on the assumption that sometimes when people likes a tweet, they will retweet it but forgot to click on the favorite button, so it makes sense to assume that the people who retweets a status also likes the status as well. And if the person even remembers to click on the favorite button before retweeting, means the status was indeed awesome! So adding those as \"audience score\" makes more sense."
   ]
  },
  {
   "cell_type": "markdown",
   "metadata": {},
   "source": [
    "## Question: How does the dog rating relate with the audience score of the tweet?\n",
    "Before discussing the analysis result, note that we considered rating numerator values whose number of tweets are too low as outliers. Specifically, if the number of tweets with the corresponding rating numerator is less than 10, then the rating numerator is considered as outlier. These outliers were then removed. The rating numerator outliers are:\n",
    "- 19.75\n",
    "- 10.00\n",
    "- 11.27\n",
    "- 13.50\n",
    "\n",
    "Hence, the rows with the rating numerator values shown above are considered as outliers and removed.\n",
    "\n",
    "Also, another note is, since a single tweet can have multiple dog ratings, we'll only take the highest rating for each tweet to represent the tweet's dog rating. The reason for this is we hypothesized that the highest rating should be the one that impacts the audience score. For simplicity, we'll still call this as the \"tweet's dog rating numerator\" instead of the verbose \"tweet's maximum dog rating numerator\".\n",
    "\n",
    "To answer the question then, it is found that in general, the dog rating value given by the dog owner does not predict the audience score of the tweet status. It can be seen from the correlation value of **-0.22** between the audience score and the dog rating numerator, which shows that the **there is no linear relationship between the audience score and the dog rating**.\n",
    "\n",
    "However, this is not the entire story. Below we'll show the plot showing that the relationship between the mean value of the audience score with the corresponding maximum dog rating numerator (for simplicity, the \"maximum\" word is omitted from the graph).  \n",
    "![Mean Audience Score for each Dog Rating Numerator bar plot](images/mean_audience_score_for_each_dog_rating_numerator.png)\n",
    "\n",
    "Based on the plot above, we can see that there is positive linear relationship (with calculated correlation value of **0.31**) between audience score and dog rating numerator for numerator values between 11 to 14, with some degree of variance at numerator value of 14. Higher than 14, there is no more significant trend.\n",
    "\n",
    "So in conclusion, it is observed that there is a weak positive linear relationship between audience score and dog rating numerator for numerator values of 11 up to 14, with some variance at numerator value of 14. However, in general, we can say that the dog rating is not a reliable source to predict the audience score of the tweet."
   ]
  },
  {
   "cell_type": "markdown",
   "metadata": {},
   "source": [
    "## Question: What is the most favored dog stage?\n",
    "To answer this question, only the tweets that have dog stage word mentioned in the status are considered. This is because the dog stage detection is done simply by checking the dog stage word existence in the status, which is the current limitation of this analysis.\n",
    "\n",
    "Aside from that, median audience score is chosen as the evaluation metric for each dog stage. This is because of the highly right skewed distribution of the audience score for each dog stage, as shown below.  \n",
    "![distribution of audience score for each dog stage](images/histogram_of_audience_score_for_each_dog_stage.png)  \n",
    "As can be seen above, the audience score for each dog stage is highly right skewed. Using median is then more appropriate, and will also eliminate the effect of the outliers observed in each dog stage as well.\n",
    "\n",
    "The plot of median audience score for each dog stage is then presented below.  \n",
    "![median_audience_score_for_each_dog_stage](images/median_audience_score_for_each_dog_stage.png)  \n",
    "As can be seen above, Floofer is the most favored dog stage (or type in this case). This is possibly due to the excessive furs that these dogs have, which makes them cute!"
   ]
  },
  {
   "cell_type": "markdown",
   "metadata": {},
   "source": [
    "## Question: Which one does the public audience favors more, tweets with videos or photos?\n",
    "To answer this question, each tweet was classified to be having photo or video. The classification is done simply by checking the url of the tweet. If the url contains \"video\", then it is assumed the tweet has video in it. Else, it is assumed the tweet has photo.\n",
    "\n",
    "The median audience score will again be used as the evaluation metric. This is because of the highly skewed distribution of audience score for both tweets with photo and video. Histogram of the audience score for tweet with photo and video is presented below.  \n",
    "![histogram_of_audience_score_photo_vs_video](images/histogram_of_audience_score_photo_vs_video.png)  \n",
    "As can be seen, the distribution is right-skewed, hence median is more appropriate than mean value. Using median will also remove the effect of outliers from the analysis.\n",
    "\n",
    "Below the median audience score for tweets with photo vs video is presented.  \n",
    "![median_audience_score_photo_vs_video](images/median_audience_score_photo_vs_video.png)  \n",
    "As can be seen, the tweets with video has higher median audience score than the tweets with photo. Thus in conclusion, tweets with video in general is more favored by public audience than tweets with photo, possibly due to higher expresiveness of videos."
   ]
  },
  {
   "cell_type": "markdown",
   "metadata": {},
   "source": [
    "## Conclusion\n",
    "Based on the above analyses, the following conclusions are made:\n",
    "- In general, dog rating is not a reliable source to predict audience score of the tweet. However, a notable positive linear relationship occurs for dog rating values from 11 to 14, where the audience score increases linearly with the dog rating within this range. Higher than 14, there is no more linear relationship between audience score and dog rating.\n",
    "- The dog stage that is generally most favored by public audience is Floofer.\n",
    "- Tweets with videos is generally more favored by public audience than tweets with photos."
   ]
  }
 ],
 "metadata": {
  "kernelspec": {
   "display_name": "Python 3",
   "language": "python",
   "name": "python3"
  },
  "language_info": {
   "codemirror_mode": {
    "name": "ipython",
    "version": 3
   },
   "file_extension": ".py",
   "mimetype": "text/x-python",
   "name": "python",
   "nbconvert_exporter": "python",
   "pygments_lexer": "ipython3",
   "version": "3.7.9"
  }
 },
 "nbformat": 4,
 "nbformat_minor": 4
}
