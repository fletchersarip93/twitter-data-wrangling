{
 "cells": [
  {
   "cell_type": "markdown",
   "metadata": {},
   "source": [
    "# WeRateDogs Twitter Data Analysis"
   ]
  },
  {
   "cell_type": "code",
   "execution_count": 1,
   "metadata": {},
   "outputs": [],
   "source": [
    "import pandas as pd\n",
    "import tweepy\n",
    "import numpy as np\n",
    "import json\n",
    "import os\n",
    "import requests\n",
    "import pandas.api.types as ptypes\n",
    "import seaborn as sb\n",
    "import matplotlib.pyplot as plt\n",
    "%matplotlib inline"
   ]
  },
  {
   "cell_type": "markdown",
   "metadata": {},
   "source": [
    "## Gather Data\n",
    "\n",
    "In this section we'll gather the data from multiple sources:\n",
    "- WeRateDogs Twitter archive\n",
    "- Tweet images classification (in context of dog breed)\n",
    "- Retweet and favorite counts from Twitter API\n",
    "\n",
    "Note that after gathering each data into a dataframe, each dataframe will be copied as \"\\<dataframe_name\\>_unclean\" to backup the original uncleaned version of the data. Cleaning operation will not be done to these \"unclean\" dataframe.\n",
    "\n",
    "### WeRateDogs Twitter Archive\n",
    "\n",
    "The data will be loaded from the CSV file `twitter-archive-enhanced.csv`."
   ]
  },
  {
   "cell_type": "code",
   "execution_count": 2,
   "metadata": {},
   "outputs": [
    {
     "data": {
      "text/html": [
       "<div>\n",
       "<style scoped>\n",
       "    .dataframe tbody tr th:only-of-type {\n",
       "        vertical-align: middle;\n",
       "    }\n",
       "\n",
       "    .dataframe tbody tr th {\n",
       "        vertical-align: top;\n",
       "    }\n",
       "\n",
       "    .dataframe thead th {\n",
       "        text-align: right;\n",
       "    }\n",
       "</style>\n",
       "<table border=\"1\" class=\"dataframe\">\n",
       "  <thead>\n",
       "    <tr style=\"text-align: right;\">\n",
       "      <th></th>\n",
       "      <th>tweet_id</th>\n",
       "      <th>in_reply_to_status_id</th>\n",
       "      <th>in_reply_to_user_id</th>\n",
       "      <th>timestamp</th>\n",
       "      <th>source</th>\n",
       "      <th>text</th>\n",
       "      <th>retweeted_status_id</th>\n",
       "      <th>retweeted_status_user_id</th>\n",
       "      <th>retweeted_status_timestamp</th>\n",
       "      <th>expanded_urls</th>\n",
       "      <th>rating_numerator</th>\n",
       "      <th>rating_denominator</th>\n",
       "      <th>name</th>\n",
       "      <th>doggo</th>\n",
       "      <th>floofer</th>\n",
       "      <th>pupper</th>\n",
       "      <th>puppo</th>\n",
       "    </tr>\n",
       "  </thead>\n",
       "  <tbody>\n",
       "    <tr>\n",
       "      <th>0</th>\n",
       "      <td>892420643555336193</td>\n",
       "      <td>NaN</td>\n",
       "      <td>NaN</td>\n",
       "      <td>2017-08-01 16:23:56 +0000</td>\n",
       "      <td>&lt;a href=\"http://twitter.com/download/iphone\" r...</td>\n",
       "      <td>This is Phineas. He's a mystical boy. Only eve...</td>\n",
       "      <td>NaN</td>\n",
       "      <td>NaN</td>\n",
       "      <td>NaN</td>\n",
       "      <td>https://twitter.com/dog_rates/status/892420643...</td>\n",
       "      <td>13</td>\n",
       "      <td>10</td>\n",
       "      <td>Phineas</td>\n",
       "      <td>None</td>\n",
       "      <td>None</td>\n",
       "      <td>None</td>\n",
       "      <td>None</td>\n",
       "    </tr>\n",
       "    <tr>\n",
       "      <th>1</th>\n",
       "      <td>892177421306343426</td>\n",
       "      <td>NaN</td>\n",
       "      <td>NaN</td>\n",
       "      <td>2017-08-01 00:17:27 +0000</td>\n",
       "      <td>&lt;a href=\"http://twitter.com/download/iphone\" r...</td>\n",
       "      <td>This is Tilly. She's just checking pup on you....</td>\n",
       "      <td>NaN</td>\n",
       "      <td>NaN</td>\n",
       "      <td>NaN</td>\n",
       "      <td>https://twitter.com/dog_rates/status/892177421...</td>\n",
       "      <td>13</td>\n",
       "      <td>10</td>\n",
       "      <td>Tilly</td>\n",
       "      <td>None</td>\n",
       "      <td>None</td>\n",
       "      <td>None</td>\n",
       "      <td>None</td>\n",
       "    </tr>\n",
       "    <tr>\n",
       "      <th>2</th>\n",
       "      <td>891815181378084864</td>\n",
       "      <td>NaN</td>\n",
       "      <td>NaN</td>\n",
       "      <td>2017-07-31 00:18:03 +0000</td>\n",
       "      <td>&lt;a href=\"http://twitter.com/download/iphone\" r...</td>\n",
       "      <td>This is Archie. He is a rare Norwegian Pouncin...</td>\n",
       "      <td>NaN</td>\n",
       "      <td>NaN</td>\n",
       "      <td>NaN</td>\n",
       "      <td>https://twitter.com/dog_rates/status/891815181...</td>\n",
       "      <td>12</td>\n",
       "      <td>10</td>\n",
       "      <td>Archie</td>\n",
       "      <td>None</td>\n",
       "      <td>None</td>\n",
       "      <td>None</td>\n",
       "      <td>None</td>\n",
       "    </tr>\n",
       "    <tr>\n",
       "      <th>3</th>\n",
       "      <td>891689557279858688</td>\n",
       "      <td>NaN</td>\n",
       "      <td>NaN</td>\n",
       "      <td>2017-07-30 15:58:51 +0000</td>\n",
       "      <td>&lt;a href=\"http://twitter.com/download/iphone\" r...</td>\n",
       "      <td>This is Darla. She commenced a snooze mid meal...</td>\n",
       "      <td>NaN</td>\n",
       "      <td>NaN</td>\n",
       "      <td>NaN</td>\n",
       "      <td>https://twitter.com/dog_rates/status/891689557...</td>\n",
       "      <td>13</td>\n",
       "      <td>10</td>\n",
       "      <td>Darla</td>\n",
       "      <td>None</td>\n",
       "      <td>None</td>\n",
       "      <td>None</td>\n",
       "      <td>None</td>\n",
       "    </tr>\n",
       "    <tr>\n",
       "      <th>4</th>\n",
       "      <td>891327558926688256</td>\n",
       "      <td>NaN</td>\n",
       "      <td>NaN</td>\n",
       "      <td>2017-07-29 16:00:24 +0000</td>\n",
       "      <td>&lt;a href=\"http://twitter.com/download/iphone\" r...</td>\n",
       "      <td>This is Franklin. He would like you to stop ca...</td>\n",
       "      <td>NaN</td>\n",
       "      <td>NaN</td>\n",
       "      <td>NaN</td>\n",
       "      <td>https://twitter.com/dog_rates/status/891327558...</td>\n",
       "      <td>12</td>\n",
       "      <td>10</td>\n",
       "      <td>Franklin</td>\n",
       "      <td>None</td>\n",
       "      <td>None</td>\n",
       "      <td>None</td>\n",
       "      <td>None</td>\n",
       "    </tr>\n",
       "  </tbody>\n",
       "</table>\n",
       "</div>"
      ],
      "text/plain": [
       "             tweet_id  in_reply_to_status_id  in_reply_to_user_id  \\\n",
       "0  892420643555336193                    NaN                  NaN   \n",
       "1  892177421306343426                    NaN                  NaN   \n",
       "2  891815181378084864                    NaN                  NaN   \n",
       "3  891689557279858688                    NaN                  NaN   \n",
       "4  891327558926688256                    NaN                  NaN   \n",
       "\n",
       "                   timestamp  \\\n",
       "0  2017-08-01 16:23:56 +0000   \n",
       "1  2017-08-01 00:17:27 +0000   \n",
       "2  2017-07-31 00:18:03 +0000   \n",
       "3  2017-07-30 15:58:51 +0000   \n",
       "4  2017-07-29 16:00:24 +0000   \n",
       "\n",
       "                                              source  \\\n",
       "0  <a href=\"http://twitter.com/download/iphone\" r...   \n",
       "1  <a href=\"http://twitter.com/download/iphone\" r...   \n",
       "2  <a href=\"http://twitter.com/download/iphone\" r...   \n",
       "3  <a href=\"http://twitter.com/download/iphone\" r...   \n",
       "4  <a href=\"http://twitter.com/download/iphone\" r...   \n",
       "\n",
       "                                                text  retweeted_status_id  \\\n",
       "0  This is Phineas. He's a mystical boy. Only eve...                  NaN   \n",
       "1  This is Tilly. She's just checking pup on you....                  NaN   \n",
       "2  This is Archie. He is a rare Norwegian Pouncin...                  NaN   \n",
       "3  This is Darla. She commenced a snooze mid meal...                  NaN   \n",
       "4  This is Franklin. He would like you to stop ca...                  NaN   \n",
       "\n",
       "   retweeted_status_user_id retweeted_status_timestamp  \\\n",
       "0                       NaN                        NaN   \n",
       "1                       NaN                        NaN   \n",
       "2                       NaN                        NaN   \n",
       "3                       NaN                        NaN   \n",
       "4                       NaN                        NaN   \n",
       "\n",
       "                                       expanded_urls  rating_numerator  \\\n",
       "0  https://twitter.com/dog_rates/status/892420643...                13   \n",
       "1  https://twitter.com/dog_rates/status/892177421...                13   \n",
       "2  https://twitter.com/dog_rates/status/891815181...                12   \n",
       "3  https://twitter.com/dog_rates/status/891689557...                13   \n",
       "4  https://twitter.com/dog_rates/status/891327558...                12   \n",
       "\n",
       "   rating_denominator      name doggo floofer pupper puppo  \n",
       "0                  10   Phineas  None    None   None  None  \n",
       "1                  10     Tilly  None    None   None  None  \n",
       "2                  10    Archie  None    None   None  None  \n",
       "3                  10     Darla  None    None   None  None  \n",
       "4                  10  Franklin  None    None   None  None  "
      ]
     },
     "execution_count": 2,
     "metadata": {},
     "output_type": "execute_result"
    }
   ],
   "source": [
    "twitter_df = pd.read_csv('twitter-archive-enhanced.csv')\n",
    "twitter_df_unclean = twitter_df.copy() # to backup the raw uncleaned version of the data\n",
    "twitter_df.head()"
   ]
  },
  {
   "cell_type": "markdown",
   "metadata": {},
   "source": [
    "### Tweet Image Predictions\n",
    "\n",
    "The data will be retrieved from the following URL:  \n",
    "https://d17h27t6h515a5.cloudfront.net/topher/2017/August/599fd2ad_image-predictions/image-predictions.tsv"
   ]
  },
  {
   "cell_type": "code",
   "execution_count": 3,
   "metadata": {},
   "outputs": [
    {
     "name": "stdout",
     "output_type": "stream",
     "text": [
      "\"image_predictions.tsv\" file already exists, retrieval will be skipped.\n"
     ]
    }
   ],
   "source": [
    "if 'image_predictions.tsv' in os.listdir():\n",
    "    print('\"image_predictions.tsv\" file already exists, retrieval will be skipped.')\n",
    "else:\n",
    "    response = requests.get('https://d17h27t6h515a5.cloudfront.net/topher/2017/August/599fd2ad_image-predictions/image-predictions.tsv')\n",
    "    with open('image_predictions.tsv', 'wb') as file:\n",
    "        file.write(response.content)"
   ]
  },
  {
   "cell_type": "code",
   "execution_count": 4,
   "metadata": {},
   "outputs": [
    {
     "data": {
      "text/html": [
       "<div>\n",
       "<style scoped>\n",
       "    .dataframe tbody tr th:only-of-type {\n",
       "        vertical-align: middle;\n",
       "    }\n",
       "\n",
       "    .dataframe tbody tr th {\n",
       "        vertical-align: top;\n",
       "    }\n",
       "\n",
       "    .dataframe thead th {\n",
       "        text-align: right;\n",
       "    }\n",
       "</style>\n",
       "<table border=\"1\" class=\"dataframe\">\n",
       "  <thead>\n",
       "    <tr style=\"text-align: right;\">\n",
       "      <th></th>\n",
       "      <th>tweet_id</th>\n",
       "      <th>jpg_url</th>\n",
       "      <th>img_num</th>\n",
       "      <th>p1</th>\n",
       "      <th>p1_conf</th>\n",
       "      <th>p1_dog</th>\n",
       "      <th>p2</th>\n",
       "      <th>p2_conf</th>\n",
       "      <th>p2_dog</th>\n",
       "      <th>p3</th>\n",
       "      <th>p3_conf</th>\n",
       "      <th>p3_dog</th>\n",
       "    </tr>\n",
       "  </thead>\n",
       "  <tbody>\n",
       "    <tr>\n",
       "      <th>0</th>\n",
       "      <td>666020888022790149</td>\n",
       "      <td>https://pbs.twimg.com/media/CT4udn0WwAA0aMy.jpg</td>\n",
       "      <td>1</td>\n",
       "      <td>Welsh_springer_spaniel</td>\n",
       "      <td>0.465074</td>\n",
       "      <td>True</td>\n",
       "      <td>collie</td>\n",
       "      <td>0.156665</td>\n",
       "      <td>True</td>\n",
       "      <td>Shetland_sheepdog</td>\n",
       "      <td>0.061428</td>\n",
       "      <td>True</td>\n",
       "    </tr>\n",
       "    <tr>\n",
       "      <th>1</th>\n",
       "      <td>666029285002620928</td>\n",
       "      <td>https://pbs.twimg.com/media/CT42GRgUYAA5iDo.jpg</td>\n",
       "      <td>1</td>\n",
       "      <td>redbone</td>\n",
       "      <td>0.506826</td>\n",
       "      <td>True</td>\n",
       "      <td>miniature_pinscher</td>\n",
       "      <td>0.074192</td>\n",
       "      <td>True</td>\n",
       "      <td>Rhodesian_ridgeback</td>\n",
       "      <td>0.072010</td>\n",
       "      <td>True</td>\n",
       "    </tr>\n",
       "    <tr>\n",
       "      <th>2</th>\n",
       "      <td>666033412701032449</td>\n",
       "      <td>https://pbs.twimg.com/media/CT4521TWwAEvMyu.jpg</td>\n",
       "      <td>1</td>\n",
       "      <td>German_shepherd</td>\n",
       "      <td>0.596461</td>\n",
       "      <td>True</td>\n",
       "      <td>malinois</td>\n",
       "      <td>0.138584</td>\n",
       "      <td>True</td>\n",
       "      <td>bloodhound</td>\n",
       "      <td>0.116197</td>\n",
       "      <td>True</td>\n",
       "    </tr>\n",
       "    <tr>\n",
       "      <th>3</th>\n",
       "      <td>666044226329800704</td>\n",
       "      <td>https://pbs.twimg.com/media/CT5Dr8HUEAA-lEu.jpg</td>\n",
       "      <td>1</td>\n",
       "      <td>Rhodesian_ridgeback</td>\n",
       "      <td>0.408143</td>\n",
       "      <td>True</td>\n",
       "      <td>redbone</td>\n",
       "      <td>0.360687</td>\n",
       "      <td>True</td>\n",
       "      <td>miniature_pinscher</td>\n",
       "      <td>0.222752</td>\n",
       "      <td>True</td>\n",
       "    </tr>\n",
       "    <tr>\n",
       "      <th>4</th>\n",
       "      <td>666049248165822465</td>\n",
       "      <td>https://pbs.twimg.com/media/CT5IQmsXIAAKY4A.jpg</td>\n",
       "      <td>1</td>\n",
       "      <td>miniature_pinscher</td>\n",
       "      <td>0.560311</td>\n",
       "      <td>True</td>\n",
       "      <td>Rottweiler</td>\n",
       "      <td>0.243682</td>\n",
       "      <td>True</td>\n",
       "      <td>Doberman</td>\n",
       "      <td>0.154629</td>\n",
       "      <td>True</td>\n",
       "    </tr>\n",
       "  </tbody>\n",
       "</table>\n",
       "</div>"
      ],
      "text/plain": [
       "             tweet_id                                          jpg_url  \\\n",
       "0  666020888022790149  https://pbs.twimg.com/media/CT4udn0WwAA0aMy.jpg   \n",
       "1  666029285002620928  https://pbs.twimg.com/media/CT42GRgUYAA5iDo.jpg   \n",
       "2  666033412701032449  https://pbs.twimg.com/media/CT4521TWwAEvMyu.jpg   \n",
       "3  666044226329800704  https://pbs.twimg.com/media/CT5Dr8HUEAA-lEu.jpg   \n",
       "4  666049248165822465  https://pbs.twimg.com/media/CT5IQmsXIAAKY4A.jpg   \n",
       "\n",
       "   img_num                      p1   p1_conf  p1_dog                  p2  \\\n",
       "0        1  Welsh_springer_spaniel  0.465074    True              collie   \n",
       "1        1                 redbone  0.506826    True  miniature_pinscher   \n",
       "2        1         German_shepherd  0.596461    True            malinois   \n",
       "3        1     Rhodesian_ridgeback  0.408143    True             redbone   \n",
       "4        1      miniature_pinscher  0.560311    True          Rottweiler   \n",
       "\n",
       "    p2_conf  p2_dog                   p3   p3_conf  p3_dog  \n",
       "0  0.156665    True    Shetland_sheepdog  0.061428    True  \n",
       "1  0.074192    True  Rhodesian_ridgeback  0.072010    True  \n",
       "2  0.138584    True           bloodhound  0.116197    True  \n",
       "3  0.360687    True   miniature_pinscher  0.222752    True  \n",
       "4  0.243682    True             Doberman  0.154629    True  "
      ]
     },
     "execution_count": 4,
     "metadata": {},
     "output_type": "execute_result"
    }
   ],
   "source": [
    "image_pred_df = pd.read_csv('image_predictions.tsv', sep='\\t')\n",
    "image_pred_df_unclean = image_pred_df.copy() # to backup the raw uncleaned version of the data\n",
    "image_pred_df.head()"
   ]
  },
  {
   "cell_type": "markdown",
   "metadata": {},
   "source": [
    "### Get Retweet Counts and Like Counts from Tweepy\n",
    "\n",
    "We'll use Tweepy to get the `retweet_count` and `favorite_count` of every tweet in `twitter_df`. Note that some of the tweets may no longer exists, and for these the `retweet_count` and `favorite_count` will not be available."
   ]
  },
  {
   "cell_type": "code",
   "execution_count": 5,
   "metadata": {},
   "outputs": [
    {
     "name": "stdout",
     "output_type": "stream",
     "text": [
      "\"tweet_json.txt\" file already exists, retrieval will be skipped.\n"
     ]
    }
   ],
   "source": [
    "if 'tweet_json.txt' in os.listdir():\n",
    "    print('\"tweet_json.txt\" file already exists, retrieval will be skipped.')\n",
    "else:\n",
    "    tweepy_auth_dir = 'auth/tweepy_auth.json'\n",
    "    with open(tweepy_auth_dir, 'r') as file:\n",
    "        tweepy_auth_json = json.load(file)\n",
    "\n",
    "    key = tweepy_auth_json['key']\n",
    "    secret = tweepy_auth_json['secret']\n",
    "    auth = tweepy.OAuthHandler(key, secret)\n",
    "    api = tweepy.API(auth)\n",
    "    \n",
    "    for tweet_id in twitter_df.tweet_id:\n",
    "        try:\n",
    "            status = api.get_status(tweet_id, tweet_mode='extended')\n",
    "            with open('tweet_json.txt', 'a+') as out_file:\n",
    "                json.dump(status._json, out_file)\n",
    "                out_file.write('\\n')\n",
    "        except:\n",
    "            pass"
   ]
  },
  {
   "cell_type": "code",
   "execution_count": 6,
   "metadata": {},
   "outputs": [
    {
     "data": {
      "text/html": [
       "<div>\n",
       "<style scoped>\n",
       "    .dataframe tbody tr th:only-of-type {\n",
       "        vertical-align: middle;\n",
       "    }\n",
       "\n",
       "    .dataframe tbody tr th {\n",
       "        vertical-align: top;\n",
       "    }\n",
       "\n",
       "    .dataframe thead th {\n",
       "        text-align: right;\n",
       "    }\n",
       "</style>\n",
       "<table border=\"1\" class=\"dataframe\">\n",
       "  <thead>\n",
       "    <tr style=\"text-align: right;\">\n",
       "      <th></th>\n",
       "      <th>tweet_id</th>\n",
       "      <th>retweet_count</th>\n",
       "      <th>favorite_count</th>\n",
       "    </tr>\n",
       "  </thead>\n",
       "  <tbody>\n",
       "    <tr>\n",
       "      <th>0</th>\n",
       "      <td>892420643555336193</td>\n",
       "      <td>7417</td>\n",
       "      <td>35140</td>\n",
       "    </tr>\n",
       "    <tr>\n",
       "      <th>1</th>\n",
       "      <td>892177421306343426</td>\n",
       "      <td>5517</td>\n",
       "      <td>30411</td>\n",
       "    </tr>\n",
       "    <tr>\n",
       "      <th>2</th>\n",
       "      <td>891815181378084864</td>\n",
       "      <td>3640</td>\n",
       "      <td>22869</td>\n",
       "    </tr>\n",
       "    <tr>\n",
       "      <th>3</th>\n",
       "      <td>891689557279858688</td>\n",
       "      <td>7584</td>\n",
       "      <td>38400</td>\n",
       "    </tr>\n",
       "    <tr>\n",
       "      <th>4</th>\n",
       "      <td>891327558926688256</td>\n",
       "      <td>8166</td>\n",
       "      <td>36651</td>\n",
       "    </tr>\n",
       "  </tbody>\n",
       "</table>\n",
       "</div>"
      ],
      "text/plain": [
       "             tweet_id  retweet_count  favorite_count\n",
       "0  892420643555336193           7417           35140\n",
       "1  892177421306343426           5517           30411\n",
       "2  891815181378084864           3640           22869\n",
       "3  891689557279858688           7584           38400\n",
       "4  891327558926688256           8166           36651"
      ]
     },
     "execution_count": 6,
     "metadata": {},
     "output_type": "execute_result"
    }
   ],
   "source": [
    "tweet_infos = []\n",
    "with open('tweet_json.txt', 'r') as file:\n",
    "    for line in file:\n",
    "        tweet_json = json.loads(line)\n",
    "        tweet_infos.append({'tweet_id': tweet_json['id_str'],\n",
    "                           'retweet_count': tweet_json['retweet_count'],\n",
    "                           'favorite_count': tweet_json['favorite_count']})\n",
    "tweet_infos_df = pd.DataFrame(tweet_infos)\n",
    "tweet_infos_df_unclean = tweet_infos_df.copy() # to backup the raw uncleaned version of the data\n",
    "tweet_infos_df.to_csv('tweet_infos.csv', index=False)\n",
    "tweet_infos_df.head()"
   ]
  },
  {
   "cell_type": "markdown",
   "metadata": {},
   "source": [
    "## Data Assessment and Cleaning\n",
    "\n",
    "### Data Completeness - `twitter_df`\n",
    "\n",
    "#### Assessment"
   ]
  },
  {
   "cell_type": "code",
   "execution_count": 7,
   "metadata": {},
   "outputs": [
    {
     "name": "stdout",
     "output_type": "stream",
     "text": [
      "<class 'pandas.core.frame.DataFrame'>\n",
      "RangeIndex: 2356 entries, 0 to 2355\n",
      "Data columns (total 17 columns):\n",
      " #   Column                      Non-Null Count  Dtype  \n",
      "---  ------                      --------------  -----  \n",
      " 0   tweet_id                    2356 non-null   int64  \n",
      " 1   in_reply_to_status_id       78 non-null     float64\n",
      " 2   in_reply_to_user_id         78 non-null     float64\n",
      " 3   timestamp                   2356 non-null   object \n",
      " 4   source                      2356 non-null   object \n",
      " 5   text                        2356 non-null   object \n",
      " 6   retweeted_status_id         181 non-null    float64\n",
      " 7   retweeted_status_user_id    181 non-null    float64\n",
      " 8   retweeted_status_timestamp  181 non-null    object \n",
      " 9   expanded_urls               2297 non-null   object \n",
      " 10  rating_numerator            2356 non-null   int64  \n",
      " 11  rating_denominator          2356 non-null   int64  \n",
      " 12  name                        2356 non-null   object \n",
      " 13  doggo                       2356 non-null   object \n",
      " 14  floofer                     2356 non-null   object \n",
      " 15  pupper                      2356 non-null   object \n",
      " 16  puppo                       2356 non-null   object \n",
      "dtypes: float64(4), int64(3), object(10)\n",
      "memory usage: 313.0+ KB\n"
     ]
    }
   ],
   "source": [
    "twitter_df.info()"
   ]
  },
  {
   "cell_type": "markdown",
   "metadata": {},
   "source": [
    "As you can see above, the following columns have null values: \n",
    "- `in_reply_to_status_id`\n",
    "- `in_reply_to_user_id`\n",
    "- `retweeted_status_id`\n",
    "- `retweeted_status_user_id`\n",
    "- `retweeted_status_timestamp`\n",
    "- `expanded_urls`\n",
    "\n",
    "For the `in_reply...` and `retweeted_...` columns, they make sense to have null values, because not all statuses are replying or retweeting another status. As for `expanded_urls`, having null values in them is not an issue, because we most likely won't use this column. So in conclusion, no cleaning action to be done relating to missing data."
   ]
  },
  {
   "cell_type": "markdown",
   "metadata": {},
   "source": [
    "### Data Completeness - `tweet_infos_df`\n",
    "\n",
    "#### Assessment"
   ]
  },
  {
   "cell_type": "code",
   "execution_count": 8,
   "metadata": {},
   "outputs": [
    {
     "name": "stdout",
     "output_type": "stream",
     "text": [
      "<class 'pandas.core.frame.DataFrame'>\n",
      "RangeIndex: 2043 entries, 0 to 2042\n",
      "Data columns (total 3 columns):\n",
      " #   Column          Non-Null Count  Dtype \n",
      "---  ------          --------------  ----- \n",
      " 0   tweet_id        2043 non-null   object\n",
      " 1   retweet_count   2043 non-null   int64 \n",
      " 2   favorite_count  2043 non-null   int64 \n",
      "dtypes: int64(2), object(1)\n",
      "memory usage: 48.0+ KB\n"
     ]
    }
   ],
   "source": [
    "tweet_infos_df.info()"
   ]
  },
  {
   "cell_type": "markdown",
   "metadata": {},
   "source": [
    "No missing value found, hence no cleaning needed."
   ]
  },
  {
   "cell_type": "markdown",
   "metadata": {},
   "source": [
    "### Data Completeness - `image_pred_df`\n",
    "#### Assessment"
   ]
  },
  {
   "cell_type": "code",
   "execution_count": 9,
   "metadata": {},
   "outputs": [
    {
     "name": "stdout",
     "output_type": "stream",
     "text": [
      "<class 'pandas.core.frame.DataFrame'>\n",
      "RangeIndex: 2075 entries, 0 to 2074\n",
      "Data columns (total 12 columns):\n",
      " #   Column    Non-Null Count  Dtype  \n",
      "---  ------    --------------  -----  \n",
      " 0   tweet_id  2075 non-null   int64  \n",
      " 1   jpg_url   2075 non-null   object \n",
      " 2   img_num   2075 non-null   int64  \n",
      " 3   p1        2075 non-null   object \n",
      " 4   p1_conf   2075 non-null   float64\n",
      " 5   p1_dog    2075 non-null   bool   \n",
      " 6   p2        2075 non-null   object \n",
      " 7   p2_conf   2075 non-null   float64\n",
      " 8   p2_dog    2075 non-null   bool   \n",
      " 9   p3        2075 non-null   object \n",
      " 10  p3_conf   2075 non-null   float64\n",
      " 11  p3_dog    2075 non-null   bool   \n",
      "dtypes: bool(3), float64(3), int64(2), object(4)\n",
      "memory usage: 152.1+ KB\n"
     ]
    }
   ],
   "source": [
    "image_pred_df.info()"
   ]
  },
  {
   "cell_type": "markdown",
   "metadata": {},
   "source": [
    "No missing value found, hence no cleaning needed."
   ]
  },
  {
   "cell_type": "markdown",
   "metadata": {},
   "source": [
    "### Column Data Types - `twitter_df`\n",
    "\n",
    "#### Assessment\n",
    "Below we'll evaluate the data type of the columns in `twitter_df`."
   ]
  },
  {
   "cell_type": "code",
   "execution_count": 10,
   "metadata": {},
   "outputs": [
    {
     "name": "stdout",
     "output_type": "stream",
     "text": [
      "<class 'pandas.core.frame.DataFrame'>\n",
      "RangeIndex: 2356 entries, 0 to 2355\n",
      "Data columns (total 17 columns):\n",
      " #   Column                      Non-Null Count  Dtype  \n",
      "---  ------                      --------------  -----  \n",
      " 0   tweet_id                    2356 non-null   int64  \n",
      " 1   in_reply_to_status_id       78 non-null     float64\n",
      " 2   in_reply_to_user_id         78 non-null     float64\n",
      " 3   timestamp                   2356 non-null   object \n",
      " 4   source                      2356 non-null   object \n",
      " 5   text                        2356 non-null   object \n",
      " 6   retweeted_status_id         181 non-null    float64\n",
      " 7   retweeted_status_user_id    181 non-null    float64\n",
      " 8   retweeted_status_timestamp  181 non-null    object \n",
      " 9   expanded_urls               2297 non-null   object \n",
      " 10  rating_numerator            2356 non-null   int64  \n",
      " 11  rating_denominator          2356 non-null   int64  \n",
      " 12  name                        2356 non-null   object \n",
      " 13  doggo                       2356 non-null   object \n",
      " 14  floofer                     2356 non-null   object \n",
      " 15  pupper                      2356 non-null   object \n",
      " 16  puppo                       2356 non-null   object \n",
      "dtypes: float64(4), int64(3), object(10)\n",
      "memory usage: 313.0+ KB\n"
     ]
    }
   ],
   "source": [
    "twitter_df.info()"
   ]
  },
  {
   "cell_type": "markdown",
   "metadata": {},
   "source": [
    "Here are the data types issues found from the `info()` above:\n",
    "- `tweet_id` is of type integer, while it should be string because it's an ID.\n",
    "- `in_reply_to_status_id`, `in_reply_to_user_id`, `retweeted_status_id`, `retweeted_status_user_id` are of type float, while they should be string because they are IDs.\n",
    "- `timestamp` and `retweeted_status_timestamp` are of type string, while they should be datetime.\n",
    "\n",
    "#### Cleaning\n",
    "Below we'll then convert the data types of the columns as described above."
   ]
  },
  {
   "cell_type": "code",
   "execution_count": 11,
   "metadata": {},
   "outputs": [],
   "source": [
    "twitter_df.tweet_id = twitter_df.tweet_id.astype(str)\n",
    "\n",
    "# test\n",
    "assert ptypes.is_string_dtype(twitter_df.tweet_id)"
   ]
  },
  {
   "cell_type": "code",
   "execution_count": 12,
   "metadata": {},
   "outputs": [],
   "source": [
    "float_to_string_cols = ['in_reply_to_status_id', 'in_reply_to_user_id', 'retweeted_status_id', 'retweeted_status_user_id']\n",
    "twitter_df[float_to_string_cols] = twitter_df[float_to_string_cols].applymap(lambda x: f'{x:.0f}' if pd.notna(x) else None)\n",
    "\n",
    "# test\n",
    "for c in float_to_string_cols:\n",
    "    assert ptypes.is_string_dtype(twitter_df[c])"
   ]
  },
  {
   "cell_type": "code",
   "execution_count": 13,
   "metadata": {},
   "outputs": [],
   "source": [
    "str_to_datetime_cols = ['timestamp', 'retweeted_status_timestamp']\n",
    "twitter_df[str_to_datetime_cols] = twitter_df[str_to_datetime_cols].applymap(pd.to_datetime)\n",
    "\n",
    "# test\n",
    "for c in str_to_datetime_cols:\n",
    "    assert ptypes.is_datetime64_any_dtype(twitter_df[c])"
   ]
  },
  {
   "cell_type": "markdown",
   "metadata": {},
   "source": [
    "#### Reassessment\n",
    "Below we'll reassess the new data types of the columns mentioned above, and evaluate their new values."
   ]
  },
  {
   "cell_type": "code",
   "execution_count": 14,
   "metadata": {},
   "outputs": [
    {
     "name": "stdout",
     "output_type": "stream",
     "text": [
      "<class 'pandas.core.frame.DataFrame'>\n",
      "RangeIndex: 2356 entries, 0 to 2355\n",
      "Data columns (total 17 columns):\n",
      " #   Column                      Non-Null Count  Dtype              \n",
      "---  ------                      --------------  -----              \n",
      " 0   tweet_id                    2356 non-null   object             \n",
      " 1   in_reply_to_status_id       78 non-null     object             \n",
      " 2   in_reply_to_user_id         78 non-null     object             \n",
      " 3   timestamp                   2356 non-null   datetime64[ns, UTC]\n",
      " 4   source                      2356 non-null   object             \n",
      " 5   text                        2356 non-null   object             \n",
      " 6   retweeted_status_id         181 non-null    object             \n",
      " 7   retweeted_status_user_id    181 non-null    object             \n",
      " 8   retweeted_status_timestamp  181 non-null    datetime64[ns, UTC]\n",
      " 9   expanded_urls               2297 non-null   object             \n",
      " 10  rating_numerator            2356 non-null   int64              \n",
      " 11  rating_denominator          2356 non-null   int64              \n",
      " 12  name                        2356 non-null   object             \n",
      " 13  doggo                       2356 non-null   object             \n",
      " 14  floofer                     2356 non-null   object             \n",
      " 15  pupper                      2356 non-null   object             \n",
      " 16  puppo                       2356 non-null   object             \n",
      "dtypes: datetime64[ns, UTC](2), int64(2), object(13)\n",
      "memory usage: 313.0+ KB\n"
     ]
    }
   ],
   "source": [
    "twitter_df.info()"
   ]
  },
  {
   "cell_type": "code",
   "execution_count": 15,
   "metadata": {},
   "outputs": [
    {
     "data": {
      "text/plain": [
       "946     752568224206688256\n",
       "1436    697255105972801536\n",
       "955     751598357617971201\n",
       "1888    674781762103414784\n",
       "418     822462944365645825\n",
       "Name: tweet_id, dtype: object"
      ]
     },
     "execution_count": 15,
     "metadata": {},
     "output_type": "execute_result"
    }
   ],
   "source": [
    "twitter_df.tweet_id.sample(5)"
   ]
  },
  {
   "cell_type": "code",
   "execution_count": 16,
   "metadata": {},
   "outputs": [
    {
     "data": {
      "text/plain": [
       "1452    675349384339542016\n",
       "234     847606175596138496\n",
       "1356    703041949650034688\n",
       "113     870726202742493184\n",
       "2189    668920717132582912\n",
       "Name: in_reply_to_status_id, dtype: object"
      ]
     },
     "execution_count": 16,
     "metadata": {},
     "output_type": "execute_result"
    }
   ],
   "source": [
    "twitter_df.in_reply_to_status_id[twitter_df.in_reply_to_status_id.notna()].sample(5)"
   ]
  },
  {
   "cell_type": "code",
   "execution_count": 17,
   "metadata": {},
   "outputs": [
    {
     "data": {
      "text/plain": [
       "1479    1198988510\n",
       "1885    4196983835\n",
       "1452    4196983835\n",
       "1523     467036706\n",
       "1474    4196983835\n",
       "Name: in_reply_to_user_id, dtype: object"
      ]
     },
     "execution_count": 17,
     "metadata": {},
     "output_type": "execute_result"
    }
   ],
   "source": [
    "twitter_df.in_reply_to_user_id[twitter_df.in_reply_to_user_id.notna()].sample(5)"
   ]
  },
  {
   "cell_type": "code",
   "execution_count": 18,
   "metadata": {},
   "outputs": [
    {
     "data": {
      "text/plain": [
       "212    848289382176100352\n",
       "450    808344865868283904\n",
       "767    750429297815552000\n",
       "382    694669722378485760\n",
       "615    780931614150983680\n",
       "Name: retweeted_status_id, dtype: object"
      ]
     },
     "execution_count": 18,
     "metadata": {},
     "output_type": "execute_result"
    }
   ],
   "source": [
    "twitter_df.retweeted_status_id[twitter_df.retweeted_status_id.notna()].sample(5)"
   ]
  },
  {
   "cell_type": "code",
   "execution_count": 19,
   "metadata": {},
   "outputs": [
    {
     "data": {
      "text/plain": [
       "908    4196983835\n",
       "749    4196983835\n",
       "286    4196983835\n",
       "583    4196983835\n",
       "97     4196983835\n",
       "Name: retweeted_status_user_id, dtype: object"
      ]
     },
     "execution_count": 19,
     "metadata": {},
     "output_type": "execute_result"
    }
   ],
   "source": [
    "twitter_df.retweeted_status_user_id[twitter_df.retweeted_status_user_id.notna()].sample(5)"
   ]
  },
  {
   "cell_type": "code",
   "execution_count": 20,
   "metadata": {},
   "outputs": [
    {
     "data": {
      "text/plain": [
       "463    2017-01-06 17:33:29+00:00\n",
       "685    2016-10-17 22:51:57+00:00\n",
       "2288   2015-11-19 03:02:47+00:00\n",
       "562    2016-11-26 19:50:26+00:00\n",
       "1338   2016-03-02 16:23:36+00:00\n",
       "Name: timestamp, dtype: datetime64[ns, UTC]"
      ]
     },
     "execution_count": 20,
     "metadata": {},
     "output_type": "execute_result"
    }
   ],
   "source": [
    "twitter_df.timestamp[twitter_df.timestamp.notna()].sample(5)"
   ]
  },
  {
   "cell_type": "code",
   "execution_count": 21,
   "metadata": {},
   "outputs": [
    {
     "data": {
      "text/plain": [
       "382   2016-02-02 23:52:22+00:00\n",
       "340   2016-10-13 23:23:56+00:00\n",
       "522   2016-11-02 23:45:19+00:00\n",
       "185   2017-04-24 02:13:14+00:00\n",
       "310   2016-07-13 01:34:21+00:00\n",
       "Name: retweeted_status_timestamp, dtype: datetime64[ns, UTC]"
      ]
     },
     "execution_count": 21,
     "metadata": {},
     "output_type": "execute_result"
    }
   ],
   "source": [
    "twitter_df.retweeted_status_timestamp[twitter_df.retweeted_status_timestamp.notna()].sample(5)"
   ]
  },
  {
   "cell_type": "markdown",
   "metadata": {},
   "source": [
    "By looking at the assessments above, we can confirm that now the data types are correct and the values seems reasonable.\n",
    "\n",
    "You may notice that some of the IDs may have shorter length. This is normal, because based on [this documentation from Twitter](https://developer.twitter.com/en/docs/twitter-ids#:~:text=Today%2C%20Twitter%20IDs%20are%20unique,number%2C%20and%20a%20sequence%20number.), they represent ID as 64 bits integer number (but recommended to be stored as string to avoid losing accuracy in systems with lower bits integer representations). Hence, it is expected for the ID to have different lengths. No zero padding is required.\n",
    "\n",
    "There will be another data type conversion for the dog stage columns `doggo`, `floofer`, `pupper`, and `puppo` in latter section as well, where we'll convert the columns into boolean type."
   ]
  },
  {
   "cell_type": "markdown",
   "metadata": {},
   "source": [
    "### Column Data Types - `tweet_infos_df`\n",
    "\n",
    "#### Assessment"
   ]
  },
  {
   "cell_type": "code",
   "execution_count": 22,
   "metadata": {},
   "outputs": [
    {
     "name": "stdout",
     "output_type": "stream",
     "text": [
      "<class 'pandas.core.frame.DataFrame'>\n",
      "RangeIndex: 2043 entries, 0 to 2042\n",
      "Data columns (total 3 columns):\n",
      " #   Column          Non-Null Count  Dtype \n",
      "---  ------          --------------  ----- \n",
      " 0   tweet_id        2043 non-null   object\n",
      " 1   retweet_count   2043 non-null   int64 \n",
      " 2   favorite_count  2043 non-null   int64 \n",
      "dtypes: int64(2), object(1)\n",
      "memory usage: 48.0+ KB\n"
     ]
    }
   ],
   "source": [
    "tweet_infos_df.info()"
   ]
  },
  {
   "cell_type": "markdown",
   "metadata": {},
   "source": [
    "The data type of the columns above seems to be correct, hence no cleaning needed."
   ]
  },
  {
   "cell_type": "markdown",
   "metadata": {},
   "source": [
    "### Column Data Types - `image_pred_df`\n",
    "\n",
    "#### Assessment"
   ]
  },
  {
   "cell_type": "code",
   "execution_count": 23,
   "metadata": {},
   "outputs": [
    {
     "name": "stdout",
     "output_type": "stream",
     "text": [
      "<class 'pandas.core.frame.DataFrame'>\n",
      "RangeIndex: 2075 entries, 0 to 2074\n",
      "Data columns (total 12 columns):\n",
      " #   Column    Non-Null Count  Dtype  \n",
      "---  ------    --------------  -----  \n",
      " 0   tweet_id  2075 non-null   int64  \n",
      " 1   jpg_url   2075 non-null   object \n",
      " 2   img_num   2075 non-null   int64  \n",
      " 3   p1        2075 non-null   object \n",
      " 4   p1_conf   2075 non-null   float64\n",
      " 5   p1_dog    2075 non-null   bool   \n",
      " 6   p2        2075 non-null   object \n",
      " 7   p2_conf   2075 non-null   float64\n",
      " 8   p2_dog    2075 non-null   bool   \n",
      " 9   p3        2075 non-null   object \n",
      " 10  p3_conf   2075 non-null   float64\n",
      " 11  p3_dog    2075 non-null   bool   \n",
      "dtypes: bool(3), float64(3), int64(2), object(4)\n",
      "memory usage: 152.1+ KB\n"
     ]
    }
   ],
   "source": [
    "image_pred_df.info()"
   ]
  },
  {
   "cell_type": "markdown",
   "metadata": {},
   "source": [
    "Data type issues found:\n",
    "- `tweet_id` is integer, while it should be string since it is an ID.\n",
    "\n",
    "#### Cleaning\n",
    "Below we'll convert the `tweet_id` column to be string."
   ]
  },
  {
   "cell_type": "code",
   "execution_count": 24,
   "metadata": {},
   "outputs": [],
   "source": [
    "image_pred_df.tweet_id = image_pred_df.tweet_id.astype(str)\n",
    "\n",
    "# test\n",
    "assert ptypes.is_string_dtype(image_pred_df.tweet_id)"
   ]
  },
  {
   "cell_type": "markdown",
   "metadata": {},
   "source": [
    "#### Reassessment"
   ]
  },
  {
   "cell_type": "code",
   "execution_count": 25,
   "metadata": {},
   "outputs": [
    {
     "name": "stdout",
     "output_type": "stream",
     "text": [
      "<class 'pandas.core.frame.DataFrame'>\n",
      "RangeIndex: 2075 entries, 0 to 2074\n",
      "Data columns (total 12 columns):\n",
      " #   Column    Non-Null Count  Dtype  \n",
      "---  ------    --------------  -----  \n",
      " 0   tweet_id  2075 non-null   object \n",
      " 1   jpg_url   2075 non-null   object \n",
      " 2   img_num   2075 non-null   int64  \n",
      " 3   p1        2075 non-null   object \n",
      " 4   p1_conf   2075 non-null   float64\n",
      " 5   p1_dog    2075 non-null   bool   \n",
      " 6   p2        2075 non-null   object \n",
      " 7   p2_conf   2075 non-null   float64\n",
      " 8   p2_dog    2075 non-null   bool   \n",
      " 9   p3        2075 non-null   object \n",
      " 10  p3_conf   2075 non-null   float64\n",
      " 11  p3_dog    2075 non-null   bool   \n",
      "dtypes: bool(3), float64(3), int64(1), object(5)\n",
      "memory usage: 152.1+ KB\n"
     ]
    }
   ],
   "source": [
    "image_pred_df.info()"
   ]
  },
  {
   "cell_type": "code",
   "execution_count": 26,
   "metadata": {},
   "outputs": [
    {
     "data": {
      "text/plain": [
       "1937    860276583193509888\n",
       "86      667517642048163840\n",
       "1190    739844404073074688\n",
       "1532    789628658055020548\n",
       "351     672523490734551040\n",
       "Name: tweet_id, dtype: object"
      ]
     },
     "execution_count": 26,
     "metadata": {},
     "output_type": "execute_result"
    }
   ],
   "source": [
    "image_pred_df.tweet_id.sample(5)"
   ]
  },
  {
   "cell_type": "markdown",
   "metadata": {},
   "source": [
    "The above assessments show that the data type has been converted correctly."
   ]
  },
  {
   "cell_type": "markdown",
   "metadata": {},
   "source": [
    "### Data Tidiness - `tweet_infos_df` separated from `twitter_df`\n",
    "\n",
    "#### Assessment\n",
    "An obvious data tidiness issue is the `tweet_infos_df` being separated from the `twitter_df`. Both of them should be combined together, because the columns `retweet_count` and `favorite_count` should belong to `twitter_df`.\n",
    "\n",
    "#### Cleaning\n",
    "Below we'll merge the `tweet_infos_df` into `twitter_df`."
   ]
  },
  {
   "cell_type": "code",
   "execution_count": 27,
   "metadata": {},
   "outputs": [],
   "source": [
    "original_shape = twitter_df.shape # for testing\n",
    "\n",
    "# clean\n",
    "twitter_df = twitter_df.merge(tweet_infos_df, left_on='tweet_id', right_on='tweet_id', how='left')\n",
    "\n",
    "# test\n",
    "assert {'retweet_count', 'favorite_count'}.issubset(twitter_df.columns)\n",
    "assert twitter_df.shape == (original_shape[0], original_shape[1]+2)"
   ]
  },
  {
   "cell_type": "markdown",
   "metadata": {},
   "source": [
    "#### Reassessment"
   ]
  },
  {
   "cell_type": "code",
   "execution_count": 28,
   "metadata": {},
   "outputs": [
    {
     "name": "stdout",
     "output_type": "stream",
     "text": [
      "<class 'pandas.core.frame.DataFrame'>\n",
      "Int64Index: 2356 entries, 0 to 2355\n",
      "Data columns (total 19 columns):\n",
      " #   Column                      Non-Null Count  Dtype              \n",
      "---  ------                      --------------  -----              \n",
      " 0   tweet_id                    2356 non-null   object             \n",
      " 1   in_reply_to_status_id       78 non-null     object             \n",
      " 2   in_reply_to_user_id         78 non-null     object             \n",
      " 3   timestamp                   2356 non-null   datetime64[ns, UTC]\n",
      " 4   source                      2356 non-null   object             \n",
      " 5   text                        2356 non-null   object             \n",
      " 6   retweeted_status_id         181 non-null    object             \n",
      " 7   retweeted_status_user_id    181 non-null    object             \n",
      " 8   retweeted_status_timestamp  181 non-null    datetime64[ns, UTC]\n",
      " 9   expanded_urls               2297 non-null   object             \n",
      " 10  rating_numerator            2356 non-null   int64              \n",
      " 11  rating_denominator          2356 non-null   int64              \n",
      " 12  name                        2356 non-null   object             \n",
      " 13  doggo                       2356 non-null   object             \n",
      " 14  floofer                     2356 non-null   object             \n",
      " 15  pupper                      2356 non-null   object             \n",
      " 16  puppo                       2356 non-null   object             \n",
      " 17  retweet_count               2043 non-null   float64            \n",
      " 18  favorite_count              2043 non-null   float64            \n",
      "dtypes: datetime64[ns, UTC](2), float64(2), int64(2), object(13)\n",
      "memory usage: 368.1+ KB\n"
     ]
    }
   ],
   "source": [
    "twitter_df.info()"
   ]
  },
  {
   "cell_type": "code",
   "execution_count": 29,
   "metadata": {},
   "outputs": [
    {
     "data": {
      "text/html": [
       "<div>\n",
       "<style scoped>\n",
       "    .dataframe tbody tr th:only-of-type {\n",
       "        vertical-align: middle;\n",
       "    }\n",
       "\n",
       "    .dataframe tbody tr th {\n",
       "        vertical-align: top;\n",
       "    }\n",
       "\n",
       "    .dataframe thead th {\n",
       "        text-align: right;\n",
       "    }\n",
       "</style>\n",
       "<table border=\"1\" class=\"dataframe\">\n",
       "  <thead>\n",
       "    <tr style=\"text-align: right;\">\n",
       "      <th></th>\n",
       "      <th>tweet_id</th>\n",
       "      <th>in_reply_to_status_id</th>\n",
       "      <th>in_reply_to_user_id</th>\n",
       "      <th>timestamp</th>\n",
       "      <th>source</th>\n",
       "      <th>text</th>\n",
       "      <th>retweeted_status_id</th>\n",
       "      <th>retweeted_status_user_id</th>\n",
       "      <th>retweeted_status_timestamp</th>\n",
       "      <th>expanded_urls</th>\n",
       "      <th>rating_numerator</th>\n",
       "      <th>rating_denominator</th>\n",
       "      <th>name</th>\n",
       "      <th>doggo</th>\n",
       "      <th>floofer</th>\n",
       "      <th>pupper</th>\n",
       "      <th>puppo</th>\n",
       "      <th>retweet_count</th>\n",
       "      <th>favorite_count</th>\n",
       "    </tr>\n",
       "  </thead>\n",
       "  <tbody>\n",
       "    <tr>\n",
       "      <th>0</th>\n",
       "      <td>892420643555336193</td>\n",
       "      <td>None</td>\n",
       "      <td>None</td>\n",
       "      <td>2017-08-01 16:23:56+00:00</td>\n",
       "      <td>&lt;a href=\"http://twitter.com/download/iphone\" r...</td>\n",
       "      <td>This is Phineas. He's a mystical boy. Only eve...</td>\n",
       "      <td>None</td>\n",
       "      <td>None</td>\n",
       "      <td>NaT</td>\n",
       "      <td>https://twitter.com/dog_rates/status/892420643...</td>\n",
       "      <td>13</td>\n",
       "      <td>10</td>\n",
       "      <td>Phineas</td>\n",
       "      <td>None</td>\n",
       "      <td>None</td>\n",
       "      <td>None</td>\n",
       "      <td>None</td>\n",
       "      <td>7417.0</td>\n",
       "      <td>35140.0</td>\n",
       "    </tr>\n",
       "    <tr>\n",
       "      <th>1</th>\n",
       "      <td>892177421306343426</td>\n",
       "      <td>None</td>\n",
       "      <td>None</td>\n",
       "      <td>2017-08-01 00:17:27+00:00</td>\n",
       "      <td>&lt;a href=\"http://twitter.com/download/iphone\" r...</td>\n",
       "      <td>This is Tilly. She's just checking pup on you....</td>\n",
       "      <td>None</td>\n",
       "      <td>None</td>\n",
       "      <td>NaT</td>\n",
       "      <td>https://twitter.com/dog_rates/status/892177421...</td>\n",
       "      <td>13</td>\n",
       "      <td>10</td>\n",
       "      <td>Tilly</td>\n",
       "      <td>None</td>\n",
       "      <td>None</td>\n",
       "      <td>None</td>\n",
       "      <td>None</td>\n",
       "      <td>5517.0</td>\n",
       "      <td>30411.0</td>\n",
       "    </tr>\n",
       "    <tr>\n",
       "      <th>2</th>\n",
       "      <td>891815181378084864</td>\n",
       "      <td>None</td>\n",
       "      <td>None</td>\n",
       "      <td>2017-07-31 00:18:03+00:00</td>\n",
       "      <td>&lt;a href=\"http://twitter.com/download/iphone\" r...</td>\n",
       "      <td>This is Archie. He is a rare Norwegian Pouncin...</td>\n",
       "      <td>None</td>\n",
       "      <td>None</td>\n",
       "      <td>NaT</td>\n",
       "      <td>https://twitter.com/dog_rates/status/891815181...</td>\n",
       "      <td>12</td>\n",
       "      <td>10</td>\n",
       "      <td>Archie</td>\n",
       "      <td>None</td>\n",
       "      <td>None</td>\n",
       "      <td>None</td>\n",
       "      <td>None</td>\n",
       "      <td>3640.0</td>\n",
       "      <td>22869.0</td>\n",
       "    </tr>\n",
       "    <tr>\n",
       "      <th>3</th>\n",
       "      <td>891689557279858688</td>\n",
       "      <td>None</td>\n",
       "      <td>None</td>\n",
       "      <td>2017-07-30 15:58:51+00:00</td>\n",
       "      <td>&lt;a href=\"http://twitter.com/download/iphone\" r...</td>\n",
       "      <td>This is Darla. She commenced a snooze mid meal...</td>\n",
       "      <td>None</td>\n",
       "      <td>None</td>\n",
       "      <td>NaT</td>\n",
       "      <td>https://twitter.com/dog_rates/status/891689557...</td>\n",
       "      <td>13</td>\n",
       "      <td>10</td>\n",
       "      <td>Darla</td>\n",
       "      <td>None</td>\n",
       "      <td>None</td>\n",
       "      <td>None</td>\n",
       "      <td>None</td>\n",
       "      <td>7584.0</td>\n",
       "      <td>38400.0</td>\n",
       "    </tr>\n",
       "    <tr>\n",
       "      <th>4</th>\n",
       "      <td>891327558926688256</td>\n",
       "      <td>None</td>\n",
       "      <td>None</td>\n",
       "      <td>2017-07-29 16:00:24+00:00</td>\n",
       "      <td>&lt;a href=\"http://twitter.com/download/iphone\" r...</td>\n",
       "      <td>This is Franklin. He would like you to stop ca...</td>\n",
       "      <td>None</td>\n",
       "      <td>None</td>\n",
       "      <td>NaT</td>\n",
       "      <td>https://twitter.com/dog_rates/status/891327558...</td>\n",
       "      <td>12</td>\n",
       "      <td>10</td>\n",
       "      <td>Franklin</td>\n",
       "      <td>None</td>\n",
       "      <td>None</td>\n",
       "      <td>None</td>\n",
       "      <td>None</td>\n",
       "      <td>8166.0</td>\n",
       "      <td>36651.0</td>\n",
       "    </tr>\n",
       "  </tbody>\n",
       "</table>\n",
       "</div>"
      ],
      "text/plain": [
       "             tweet_id in_reply_to_status_id in_reply_to_user_id  \\\n",
       "0  892420643555336193                  None                None   \n",
       "1  892177421306343426                  None                None   \n",
       "2  891815181378084864                  None                None   \n",
       "3  891689557279858688                  None                None   \n",
       "4  891327558926688256                  None                None   \n",
       "\n",
       "                  timestamp  \\\n",
       "0 2017-08-01 16:23:56+00:00   \n",
       "1 2017-08-01 00:17:27+00:00   \n",
       "2 2017-07-31 00:18:03+00:00   \n",
       "3 2017-07-30 15:58:51+00:00   \n",
       "4 2017-07-29 16:00:24+00:00   \n",
       "\n",
       "                                              source  \\\n",
       "0  <a href=\"http://twitter.com/download/iphone\" r...   \n",
       "1  <a href=\"http://twitter.com/download/iphone\" r...   \n",
       "2  <a href=\"http://twitter.com/download/iphone\" r...   \n",
       "3  <a href=\"http://twitter.com/download/iphone\" r...   \n",
       "4  <a href=\"http://twitter.com/download/iphone\" r...   \n",
       "\n",
       "                                                text retweeted_status_id  \\\n",
       "0  This is Phineas. He's a mystical boy. Only eve...                None   \n",
       "1  This is Tilly. She's just checking pup on you....                None   \n",
       "2  This is Archie. He is a rare Norwegian Pouncin...                None   \n",
       "3  This is Darla. She commenced a snooze mid meal...                None   \n",
       "4  This is Franklin. He would like you to stop ca...                None   \n",
       "\n",
       "  retweeted_status_user_id retweeted_status_timestamp  \\\n",
       "0                     None                        NaT   \n",
       "1                     None                        NaT   \n",
       "2                     None                        NaT   \n",
       "3                     None                        NaT   \n",
       "4                     None                        NaT   \n",
       "\n",
       "                                       expanded_urls  rating_numerator  \\\n",
       "0  https://twitter.com/dog_rates/status/892420643...                13   \n",
       "1  https://twitter.com/dog_rates/status/892177421...                13   \n",
       "2  https://twitter.com/dog_rates/status/891815181...                12   \n",
       "3  https://twitter.com/dog_rates/status/891689557...                13   \n",
       "4  https://twitter.com/dog_rates/status/891327558...                12   \n",
       "\n",
       "   rating_denominator      name doggo floofer pupper puppo  retweet_count  \\\n",
       "0                  10   Phineas  None    None   None  None         7417.0   \n",
       "1                  10     Tilly  None    None   None  None         5517.0   \n",
       "2                  10    Archie  None    None   None  None         3640.0   \n",
       "3                  10     Darla  None    None   None  None         7584.0   \n",
       "4                  10  Franklin  None    None   None  None         8166.0   \n",
       "\n",
       "   favorite_count  \n",
       "0         35140.0  \n",
       "1         30411.0  \n",
       "2         22869.0  \n",
       "3         38400.0  \n",
       "4         36651.0  "
      ]
     },
     "execution_count": 29,
     "metadata": {},
     "output_type": "execute_result"
    }
   ],
   "source": [
    "twitter_df.head()"
   ]
  },
  {
   "cell_type": "markdown",
   "metadata": {},
   "source": [
    "The above assessment confirms that the merge is successful. Note that you may notice the data type of `retweet_count` and `favorite_count` is converted to float after the merge operation. This is a well-known problem in pandas library, and it is because the column contains NaN values. NaN values cannot be represented by integer, thus this is the reason the data type is converted to float after the merge operation. This is not an issue as the float type still allows numeric operation on those columns, while allowing NaN values in those columns as well. Hence, no cleaning needs to be done for this."
   ]
  },
  {
   "cell_type": "markdown",
   "metadata": {},
   "source": [
    "### Data Quality - Dog Stage Columns \"None\" String Values\n",
    "#### Assessment\n",
    "Let's now assess the `doggo`, `floofer`, `pupper`, and `puppo` columns in `twitter_df`, which represent the various dog \"stages\"."
   ]
  },
  {
   "cell_type": "code",
   "execution_count": 30,
   "metadata": {},
   "outputs": [
    {
     "name": "stdout",
     "output_type": "stream",
     "text": [
      "['None' 'doggo']\n",
      "['None' 'floofer']\n",
      "['None' 'pupper']\n",
      "['None' 'puppo']\n"
     ]
    }
   ],
   "source": [
    "print(twitter_df.doggo.unique())\n",
    "print(twitter_df.floofer.unique())\n",
    "print(twitter_df.pupper.unique())\n",
    "print(twitter_df.puppo.unique())"
   ]
  },
  {
   "cell_type": "markdown",
   "metadata": {},
   "source": [
    "As you can see, there are string \"None\" values in those columns, which are invalid and misleading. This can make it hard for programmatic analysis later on.\n",
    "\n",
    "#### Cleaning\n",
    "We'll replace the string \"None\" values to be actual `NaN` values to ease the analysis."
   ]
  },
  {
   "cell_type": "code",
   "execution_count": 31,
   "metadata": {},
   "outputs": [],
   "source": [
    "dog_stages_cols = ['doggo', 'floofer', 'pupper', 'puppo']\n",
    "twitter_df[dog_stages_cols] = twitter_df[dog_stages_cols].replace('None', np.nan)\n",
    "\n",
    "# test - ensure that there is no more 'None' string values\n",
    "assert (twitter_df[dog_stages_cols] == 'None').sum().sum() == 0"
   ]
  },
  {
   "cell_type": "markdown",
   "metadata": {},
   "source": [
    "#### Reassessment"
   ]
  },
  {
   "cell_type": "markdown",
   "metadata": {},
   "source": [
    "It is confirmed below that the \"None\" string values have been replaced with `NaN` values, shown by the `nan` in the list of unique values."
   ]
  },
  {
   "cell_type": "code",
   "execution_count": 32,
   "metadata": {},
   "outputs": [
    {
     "name": "stdout",
     "output_type": "stream",
     "text": [
      "[nan 'doggo']\n",
      "[nan 'floofer']\n",
      "[nan 'pupper']\n",
      "[nan 'puppo']\n"
     ]
    }
   ],
   "source": [
    "print(twitter_df.doggo.unique())\n",
    "print(twitter_df.floofer.unique())\n",
    "print(twitter_df.pupper.unique())\n",
    "print(twitter_df.puppo.unique())"
   ]
  },
  {
   "cell_type": "markdown",
   "metadata": {},
   "source": [
    "Below we'll reassess the actual number of null values for these dog stages columns."
   ]
  },
  {
   "cell_type": "code",
   "execution_count": 33,
   "metadata": {},
   "outputs": [
    {
     "name": "stdout",
     "output_type": "stream",
     "text": [
      "<class 'pandas.core.frame.DataFrame'>\n",
      "Int64Index: 2356 entries, 0 to 2355\n",
      "Data columns (total 4 columns):\n",
      " #   Column   Non-Null Count  Dtype \n",
      "---  ------   --------------  ----- \n",
      " 0   doggo    97 non-null     object\n",
      " 1   floofer  10 non-null     object\n",
      " 2   pupper   257 non-null    object\n",
      " 3   puppo    30 non-null     object\n",
      "dtypes: object(4)\n",
      "memory usage: 92.0+ KB\n"
     ]
    }
   ],
   "source": [
    "twitter_df[['doggo', 'floofer', 'pupper', 'puppo']].info()"
   ]
  },
  {
   "cell_type": "markdown",
   "metadata": {},
   "source": [
    "As you can see now apparently there are a lot of null values for the dog stages columns. However, as we'll see in the next section, these columns actually only represents the existence of those dog stages word in the tweet status. This means it makes sense to have a lot of null values, because not all tweets will mention those dog stages words. Hence no cleaning action will be done regarding these missing dog stages column values."
   ]
  },
  {
   "cell_type": "markdown",
   "metadata": {},
   "source": [
    "### Column Data Type - Dog Stages Columns in `twitter_df`\n",
    "\n",
    "#### Assessment\n",
    "As described in previous section, apparently the dog stages columns in `twitter_df` actually represents existence of the dog stage word in the tweet status. This column currently is weirdly represented using string, and the representation of the values are also weird. For example, existence of \"doggo\" word in the tweet status is represented by the column `doggo` having string value of \"doggo\", which is very redundant. I would expect their data types to be boolean instead, with value `True` if the corresponding dog stage appears in the tweet status.\n",
    "\n",
    "#### Cleaning\n",
    "Convert the data type and values of `doggo`, `floofer`, `pupper`, `puppo` in `twitter_df` into boolean. For the values, give value `True` if the value is non-null, and `False` if the value is null. This is safe to be done since in the above section, we've checked the unique values of each dog stage column to only contain either NaN or the dog stage name itself. There won't be any case where a dog stage column contains string value that represents the other dog stage name. For clarity, below we'll reproduce the unique values again."
   ]
  },
  {
   "cell_type": "code",
   "execution_count": 34,
   "metadata": {},
   "outputs": [
    {
     "name": "stdout",
     "output_type": "stream",
     "text": [
      "doggo unique values: [nan 'doggo']\n",
      "floofer unique values: [nan 'floofer']\n",
      "pupper unique values: [nan 'pupper']\n",
      "puppo unique values: [nan 'puppo']\n"
     ]
    }
   ],
   "source": [
    "dog_stages_cols = ['doggo', 'floofer', 'pupper', 'puppo']\n",
    "for c in dog_stages_cols:\n",
    "    print(f'{c} unique values: {twitter_df[c].unique()}')"
   ]
  },
  {
   "cell_type": "markdown",
   "metadata": {},
   "source": [
    "Below then we'll do the conversion to boolean."
   ]
  },
  {
   "cell_type": "code",
   "execution_count": 35,
   "metadata": {},
   "outputs": [],
   "source": [
    "twitter_df[dog_stages_cols] = twitter_df[dog_stages_cols].applymap(lambda x: False if pd.isna(x) else True)\n",
    "\n",
    "# test\n",
    "for c in dog_stages_cols:\n",
    "    assert ptypes.is_bool_dtype(twitter_df[c])\n",
    "assert twitter_df.doggo.sum() == 97\n",
    "assert twitter_df.floofer.sum() == 10\n",
    "assert twitter_df.pupper.sum() == 257\n",
    "assert twitter_df.puppo.sum() == 30"
   ]
  },
  {
   "cell_type": "markdown",
   "metadata": {},
   "source": [
    "#### Reassessment\n",
    "Below we'll check the data type of the dog stages columns."
   ]
  },
  {
   "cell_type": "code",
   "execution_count": 36,
   "metadata": {},
   "outputs": [
    {
     "name": "stdout",
     "output_type": "stream",
     "text": [
      "<class 'pandas.core.frame.DataFrame'>\n",
      "Int64Index: 2356 entries, 0 to 2355\n",
      "Data columns (total 4 columns):\n",
      " #   Column   Non-Null Count  Dtype\n",
      "---  ------   --------------  -----\n",
      " 0   doggo    2356 non-null   bool \n",
      " 1   floofer  2356 non-null   bool \n",
      " 2   pupper   2356 non-null   bool \n",
      " 3   puppo    2356 non-null   bool \n",
      "dtypes: bool(4)\n",
      "memory usage: 27.6 KB\n"
     ]
    }
   ],
   "source": [
    "twitter_df[dog_stages_cols].info()"
   ]
  },
  {
   "cell_type": "markdown",
   "metadata": {},
   "source": [
    "We'll also check the number of True values in those columns, which we expect to be the same as the previous non-null values count of those columns (because after our transformation, null should equal False and non-null should equal True)."
   ]
  },
  {
   "cell_type": "code",
   "execution_count": 37,
   "metadata": {},
   "outputs": [
    {
     "data": {
      "text/plain": [
       "doggo       97\n",
       "floofer     10\n",
       "pupper     257\n",
       "puppo       30\n",
       "dtype: int64"
      ]
     },
     "execution_count": 37,
     "metadata": {},
     "output_type": "execute_result"
    }
   ],
   "source": [
    "twitter_df[dog_stages_cols].sum()"
   ]
  },
  {
   "cell_type": "markdown",
   "metadata": {},
   "source": [
    "As can be seen, the number of True values matches the number of non-null values of the columns before the transformation (refer to the values presented in previous section)."
   ]
  },
  {
   "cell_type": "markdown",
   "metadata": {},
   "source": [
    "### Data Accuracy - Multiple Dog Stages in a Row (while actually there is only one dog)\n",
    "\n",
    "#### Assessment\n",
    "Next, let's see whether is it possible for a row to have multiple dog stages."
   ]
  },
  {
   "cell_type": "code",
   "execution_count": 38,
   "metadata": {},
   "outputs": [
    {
     "name": "stdout",
     "output_type": "stream",
     "text": [
      "Possible number of dog stages in a row: [0 1 2]\n"
     ]
    }
   ],
   "source": [
    "dog_stages_count = twitter_df[['doggo', 'floofer', 'pupper', 'puppo']].sum(axis=1)\n",
    "print(f'Possible number of dog stages in a row: {dog_stages_count.unique()}')"
   ]
  },
  {
   "cell_type": "markdown",
   "metadata": {},
   "source": [
    "There are indeed suprisingly some rows that have 2 dog stages. Since this dog stage information is derived from the corresponding tweet status text, let's now see the corresponding statuses of these rows."
   ]
  },
  {
   "cell_type": "code",
   "execution_count": 39,
   "metadata": {},
   "outputs": [
    {
     "name": "stdout",
     "output_type": "stream",
     "text": [
      "- Here's a puppo participating in the #ScienceMarch. Cleverly disguising her own doggo agenda. 13/10 would keep the planet habitable for https://t.co/cMhq16isel\n",
      "- At first I thought this was a shy doggo, but it's actually a Rare Canadian Floofer Owl. Amateurs would confuse the two. 11/10 only send dogs https://t.co/TXdT3tmuYk\n",
      "- This is Dido. She's playing the lead role in \"Pupper Stops to Catch Snow Before Resuming Shadow Box with Dried Apple.\" 13/10 (IG: didodoggo) https://t.co/m7isZrOBX7\n",
      "- Here we have Burke (pupper) and Dexter (doggo). Pupper wants to be exactly like doggo. Both 12/10 would pet at same time https://t.co/ANBpEYHaho\n",
      "- Like doggo, like pupper version 2. Both 11/10 https://t.co/9IxWAXFqze\n",
      "- This is Bones. He's being haunted by another doggo of roughly the same size. 12/10 deep breaths pupper everything's fine https://t.co/55Dqe0SJNj\n",
      "- This is Pinot. He's a sophisticated doggo. You can tell by the hat. Also pointier than your average pupper. Still 10/10 would pet cautiously https://t.co/f2wmLZTPHd\n",
      "- Pupper butt 1, Doggo 0. Both 12/10 https://t.co/WQvcPEpH2u\n",
      "- RT @dog_rates: Like father (doggo), like son (pupper). Both 12/10 https://t.co/pG2inLaOda\n",
      "- RT @dog_rates: This is just downright precious af. 12/10 for both pupper and doggo https://t.co/o5J479bZUC\n",
      "- Meet Maggie &amp; Lila. Maggie is the doggo, Lila is the pupper. They are sisters. Both 12/10 would pet at the same time https://t.co/MYwR4DQKll\n",
      "- Please stop sending it pictures that don't even have a doggo or pupper in them. Churlish af. 5/10 neat couch tho https://t.co/u2c9c7qSg8\n",
      "- This is just downright precious af. 12/10 for both pupper and doggo https://t.co/o5J479bZUC\n",
      "- Like father (doggo), like son (pupper). Both 12/10 https://t.co/pG2inLaOda\n"
     ]
    }
   ],
   "source": [
    "multi_dog_stages_rows = twitter_df[dog_stages_count >= 2]\n",
    "statuses = multi_dog_stages_rows.text.values\n",
    "for s in statuses:\n",
    "    print('- ' + s)"
   ]
  },
  {
   "cell_type": "markdown",
   "metadata": {},
   "source": [
    "Evaluating the list of twitter statuses above (and also actually opening the pictures of the tweets), most of them have multiple dog stages because the status and the picture itself are involving more than one dogs, which totally makes sense. However, some rows actually only have one dog, but the tweet status mentions multiple dog stages in the text. For these cases, the multiple dog stages will indeed be misleading. Since the number is not much, we will fix them one by one.\n",
    "\n",
    "#### Cleaning\n",
    "From visual observation of the above statuses, below we lists down the statuses that actually only have one dog (with misleadingly multiple dog stages in the text)."
   ]
  },
  {
   "cell_type": "code",
   "execution_count": 40,
   "metadata": {},
   "outputs": [
    {
     "name": "stdout",
     "output_type": "stream",
     "text": [
      "- Here's a puppo participating in the #ScienceMarch. Cleverly disguising her own doggo agenda. 13/10 would keep the planet habitable for https://t.co/cMhq16isel\n",
      "- At first I thought this was a shy doggo, but it's actually a Rare Canadian Floofer Owl. Amateurs would confuse the two. 11/10 only send dogs https://t.co/TXdT3tmuYk\n",
      "- This is Dido. She's playing the lead role in \"Pupper Stops to Catch Snow Before Resuming Shadow Box with Dried Apple.\" 13/10 (IG: didodoggo) https://t.co/m7isZrOBX7\n",
      "- This is Bones. He's being haunted by another doggo of roughly the same size. 12/10 deep breaths pupper everything's fine https://t.co/55Dqe0SJNj\n",
      "- This is Pinot. He's a sophisticated doggo. You can tell by the hat. Also pointier than your average pupper. Still 10/10 would pet cautiously https://t.co/f2wmLZTPHd\n",
      "- Please stop sending it pictures that don't even have a doggo or pupper in them. Churlish af. 5/10 neat couch tho https://t.co/u2c9c7qSg8\n"
     ]
    }
   ],
   "source": [
    "idxs_invalid_multi_dog_stages = multi_dog_stages_rows.index[[0, 1, 2, 5, 6, 11]]\n",
    "for s in twitter_df.iloc[idxs_invalid_multi_dog_stages].text.values:\n",
    "    print('- ' + s)"
   ]
  },
  {
   "cell_type": "markdown",
   "metadata": {},
   "source": [
    "Below I list down one by one the correct stage for each tweet status, derived from each of the text above, and then immediately do the correction to the dog stage columns values."
   ]
  },
  {
   "cell_type": "code",
   "execution_count": 41,
   "metadata": {},
   "outputs": [],
   "source": [
    "correct_stages = ['puppo', 'floofer', 'pupper', 'pupper', 'doggo', 'doggo']\n",
    "dog_stages_columns = np.array(['doggo', 'floofer', 'pupper', 'puppo'])\n",
    "\n",
    "for row, col in zip(idxs_invalid_multi_dog_stages, correct_stages):\n",
    "    cols_to_false = dog_stages_columns[dog_stages_columns != col]\n",
    "    twitter_df.loc[row, cols_to_false] = False\n",
    "\n",
    "# test\n",
    "assert (twitter_df.loc[idxs_invalid_multi_dog_stages, dog_stages_columns].sum(axis=1).unique() == 1).all()"
   ]
  },
  {
   "cell_type": "markdown",
   "metadata": {},
   "source": [
    "#### Reassessment\n",
    "Below we'll check again whether the rows with invalid-multi-dog-stages are now having only one dog stage per row."
   ]
  },
  {
   "cell_type": "code",
   "execution_count": 42,
   "metadata": {},
   "outputs": [
    {
     "data": {
      "text/html": [
       "<div>\n",
       "<style scoped>\n",
       "    .dataframe tbody tr th:only-of-type {\n",
       "        vertical-align: middle;\n",
       "    }\n",
       "\n",
       "    .dataframe tbody tr th {\n",
       "        vertical-align: top;\n",
       "    }\n",
       "\n",
       "    .dataframe thead th {\n",
       "        text-align: right;\n",
       "    }\n",
       "</style>\n",
       "<table border=\"1\" class=\"dataframe\">\n",
       "  <thead>\n",
       "    <tr style=\"text-align: right;\">\n",
       "      <th></th>\n",
       "      <th>text</th>\n",
       "      <th>doggo</th>\n",
       "      <th>floofer</th>\n",
       "      <th>pupper</th>\n",
       "      <th>puppo</th>\n",
       "    </tr>\n",
       "  </thead>\n",
       "  <tbody>\n",
       "    <tr>\n",
       "      <th>191</th>\n",
       "      <td>Here's a puppo participating in the #ScienceMarch. Cleverly disguising her own doggo agenda. 13/10 would keep the planet habitable for https://t.c...</td>\n",
       "      <td>False</td>\n",
       "      <td>False</td>\n",
       "      <td>False</td>\n",
       "      <td>True</td>\n",
       "    </tr>\n",
       "    <tr>\n",
       "      <th>200</th>\n",
       "      <td>At first I thought this was a shy doggo, but it's actually a Rare Canadian Floofer Owl. Amateurs would confuse the two. 11/10 only send dogs https...</td>\n",
       "      <td>False</td>\n",
       "      <td>True</td>\n",
       "      <td>False</td>\n",
       "      <td>False</td>\n",
       "    </tr>\n",
       "    <tr>\n",
       "      <th>460</th>\n",
       "      <td>This is Dido. She's playing the lead role in \"Pupper Stops to Catch Snow Before Resuming Shadow Box with Dried Apple.\" 13/10 (IG: didodoggo) https...</td>\n",
       "      <td>False</td>\n",
       "      <td>False</td>\n",
       "      <td>True</td>\n",
       "      <td>False</td>\n",
       "    </tr>\n",
       "    <tr>\n",
       "      <th>575</th>\n",
       "      <td>This is Bones. He's being haunted by another doggo of roughly the same size. 12/10 deep breaths pupper everything's fine https://t.co/55Dqe0SJNj</td>\n",
       "      <td>False</td>\n",
       "      <td>False</td>\n",
       "      <td>True</td>\n",
       "      <td>False</td>\n",
       "    </tr>\n",
       "    <tr>\n",
       "      <th>705</th>\n",
       "      <td>This is Pinot. He's a sophisticated doggo. You can tell by the hat. Also pointier than your average pupper. Still 10/10 would pet cautiously https...</td>\n",
       "      <td>True</td>\n",
       "      <td>False</td>\n",
       "      <td>False</td>\n",
       "      <td>False</td>\n",
       "    </tr>\n",
       "    <tr>\n",
       "      <th>956</th>\n",
       "      <td>Please stop sending it pictures that don't even have a doggo or pupper in them. Churlish af. 5/10 neat couch tho https://t.co/u2c9c7qSg8</td>\n",
       "      <td>True</td>\n",
       "      <td>False</td>\n",
       "      <td>False</td>\n",
       "      <td>False</td>\n",
       "    </tr>\n",
       "  </tbody>\n",
       "</table>\n",
       "</div>"
      ],
      "text/plain": [
       "                                                                                                                                                      text  \\\n",
       "191  Here's a puppo participating in the #ScienceMarch. Cleverly disguising her own doggo agenda. 13/10 would keep the planet habitable for https://t.c...   \n",
       "200  At first I thought this was a shy doggo, but it's actually a Rare Canadian Floofer Owl. Amateurs would confuse the two. 11/10 only send dogs https...   \n",
       "460  This is Dido. She's playing the lead role in \"Pupper Stops to Catch Snow Before Resuming Shadow Box with Dried Apple.\" 13/10 (IG: didodoggo) https...   \n",
       "575       This is Bones. He's being haunted by another doggo of roughly the same size. 12/10 deep breaths pupper everything's fine https://t.co/55Dqe0SJNj   \n",
       "705  This is Pinot. He's a sophisticated doggo. You can tell by the hat. Also pointier than your average pupper. Still 10/10 would pet cautiously https...   \n",
       "956               Please stop sending it pictures that don't even have a doggo or pupper in them. Churlish af. 5/10 neat couch tho https://t.co/u2c9c7qSg8   \n",
       "\n",
       "     doggo  floofer  pupper  puppo  \n",
       "191  False    False   False   True  \n",
       "200  False     True   False  False  \n",
       "460  False    False    True  False  \n",
       "575  False    False    True  False  \n",
       "705   True    False   False  False  \n",
       "956   True    False   False  False  "
      ]
     },
     "execution_count": 42,
     "metadata": {},
     "output_type": "execute_result"
    }
   ],
   "source": [
    "pd.options.display.max_colwidth = 150 # so we can see the whole status text\n",
    "twitter_df.loc[idxs_invalid_multi_dog_stages, np.append('text', dog_stages_columns)]"
   ]
  },
  {
   "cell_type": "code",
   "execution_count": 43,
   "metadata": {},
   "outputs": [],
   "source": [
    "pd.options.display.max_colwidth = 50 # reset display"
   ]
  },
  {
   "cell_type": "markdown",
   "metadata": {},
   "source": [
    "The above prints shows that those rows no longer have invalid multiple dog stages."
   ]
  },
  {
   "cell_type": "markdown",
   "metadata": {},
   "source": [
    "### Data Tidiness - Change Index of `twitter_df` and `image_pred_df` to `tweet_id`\n",
    "\n",
    "#### Assessment\n",
    "As seen below, the number of unique values for the `tweet_id` are the same as the total number of rows for both `twitter_df` and `image_pred_df`. This means we can set their indexes to be `tweet_id`, which makes more sense and will ease analysis."
   ]
  },
  {
   "cell_type": "code",
   "execution_count": 44,
   "metadata": {},
   "outputs": [
    {
     "name": "stdout",
     "output_type": "stream",
     "text": [
      "Number of unique ID (2356) is same as the number of rows of twitter_df (2356).\n"
     ]
    }
   ],
   "source": [
    "print(f'Number of unique ID ({len(twitter_df.tweet_id.unique())}) '\n",
    "      + f'is same as the number of rows of twitter_df ({twitter_df.shape[0]}).')"
   ]
  },
  {
   "cell_type": "code",
   "execution_count": 45,
   "metadata": {},
   "outputs": [
    {
     "name": "stdout",
     "output_type": "stream",
     "text": [
      "Number of unique ID (2075) is same as the number of rows of twitter_df (2075).\n"
     ]
    }
   ],
   "source": [
    "print(f'Number of unique ID ({len(image_pred_df.tweet_id.unique())}) '\n",
    "      + f'is same as the number of rows of twitter_df ({image_pred_df.shape[0]}).')"
   ]
  },
  {
   "cell_type": "markdown",
   "metadata": {},
   "source": [
    "#### Cleaning\n",
    "Below we'll convert the indexes of `twitter_df` and `imaged_pred_df` into `tweet_id`."
   ]
  },
  {
   "cell_type": "code",
   "execution_count": 46,
   "metadata": {},
   "outputs": [],
   "source": [
    "twitter_df.set_index('tweet_id', inplace=True)\n",
    "image_pred_df.set_index('tweet_id', inplace=True)\n",
    "\n",
    "# test\n",
    "assert twitter_df.index.name == 'tweet_id'\n",
    "assert image_pred_df.index.name == 'tweet_id'"
   ]
  },
  {
   "cell_type": "markdown",
   "metadata": {},
   "source": [
    "#### Reassessment\n",
    "Below we'll see that now their indexes are set to be `tweet_id`."
   ]
  },
  {
   "cell_type": "code",
   "execution_count": 47,
   "metadata": {},
   "outputs": [
    {
     "data": {
      "text/html": [
       "<div>\n",
       "<style scoped>\n",
       "    .dataframe tbody tr th:only-of-type {\n",
       "        vertical-align: middle;\n",
       "    }\n",
       "\n",
       "    .dataframe tbody tr th {\n",
       "        vertical-align: top;\n",
       "    }\n",
       "\n",
       "    .dataframe thead th {\n",
       "        text-align: right;\n",
       "    }\n",
       "</style>\n",
       "<table border=\"1\" class=\"dataframe\">\n",
       "  <thead>\n",
       "    <tr style=\"text-align: right;\">\n",
       "      <th></th>\n",
       "      <th>in_reply_to_status_id</th>\n",
       "      <th>in_reply_to_user_id</th>\n",
       "      <th>timestamp</th>\n",
       "      <th>source</th>\n",
       "      <th>text</th>\n",
       "      <th>retweeted_status_id</th>\n",
       "      <th>retweeted_status_user_id</th>\n",
       "      <th>retweeted_status_timestamp</th>\n",
       "      <th>expanded_urls</th>\n",
       "      <th>rating_numerator</th>\n",
       "      <th>rating_denominator</th>\n",
       "      <th>name</th>\n",
       "      <th>doggo</th>\n",
       "      <th>floofer</th>\n",
       "      <th>pupper</th>\n",
       "      <th>puppo</th>\n",
       "      <th>retweet_count</th>\n",
       "      <th>favorite_count</th>\n",
       "    </tr>\n",
       "    <tr>\n",
       "      <th>tweet_id</th>\n",
       "      <th></th>\n",
       "      <th></th>\n",
       "      <th></th>\n",
       "      <th></th>\n",
       "      <th></th>\n",
       "      <th></th>\n",
       "      <th></th>\n",
       "      <th></th>\n",
       "      <th></th>\n",
       "      <th></th>\n",
       "      <th></th>\n",
       "      <th></th>\n",
       "      <th></th>\n",
       "      <th></th>\n",
       "      <th></th>\n",
       "      <th></th>\n",
       "      <th></th>\n",
       "      <th></th>\n",
       "    </tr>\n",
       "  </thead>\n",
       "  <tbody>\n",
       "    <tr>\n",
       "      <th>892420643555336193</th>\n",
       "      <td>None</td>\n",
       "      <td>None</td>\n",
       "      <td>2017-08-01 16:23:56+00:00</td>\n",
       "      <td>&lt;a href=\"http://twitter.com/download/iphone\" r...</td>\n",
       "      <td>This is Phineas. He's a mystical boy. Only eve...</td>\n",
       "      <td>None</td>\n",
       "      <td>None</td>\n",
       "      <td>NaT</td>\n",
       "      <td>https://twitter.com/dog_rates/status/892420643...</td>\n",
       "      <td>13</td>\n",
       "      <td>10</td>\n",
       "      <td>Phineas</td>\n",
       "      <td>False</td>\n",
       "      <td>False</td>\n",
       "      <td>False</td>\n",
       "      <td>False</td>\n",
       "      <td>7417.0</td>\n",
       "      <td>35140.0</td>\n",
       "    </tr>\n",
       "    <tr>\n",
       "      <th>892177421306343426</th>\n",
       "      <td>None</td>\n",
       "      <td>None</td>\n",
       "      <td>2017-08-01 00:17:27+00:00</td>\n",
       "      <td>&lt;a href=\"http://twitter.com/download/iphone\" r...</td>\n",
       "      <td>This is Tilly. She's just checking pup on you....</td>\n",
       "      <td>None</td>\n",
       "      <td>None</td>\n",
       "      <td>NaT</td>\n",
       "      <td>https://twitter.com/dog_rates/status/892177421...</td>\n",
       "      <td>13</td>\n",
       "      <td>10</td>\n",
       "      <td>Tilly</td>\n",
       "      <td>False</td>\n",
       "      <td>False</td>\n",
       "      <td>False</td>\n",
       "      <td>False</td>\n",
       "      <td>5517.0</td>\n",
       "      <td>30411.0</td>\n",
       "    </tr>\n",
       "  </tbody>\n",
       "</table>\n",
       "</div>"
      ],
      "text/plain": [
       "                   in_reply_to_status_id in_reply_to_user_id  \\\n",
       "tweet_id                                                       \n",
       "892420643555336193                  None                None   \n",
       "892177421306343426                  None                None   \n",
       "\n",
       "                                   timestamp  \\\n",
       "tweet_id                                       \n",
       "892420643555336193 2017-08-01 16:23:56+00:00   \n",
       "892177421306343426 2017-08-01 00:17:27+00:00   \n",
       "\n",
       "                                                               source  \\\n",
       "tweet_id                                                                \n",
       "892420643555336193  <a href=\"http://twitter.com/download/iphone\" r...   \n",
       "892177421306343426  <a href=\"http://twitter.com/download/iphone\" r...   \n",
       "\n",
       "                                                                 text  \\\n",
       "tweet_id                                                                \n",
       "892420643555336193  This is Phineas. He's a mystical boy. Only eve...   \n",
       "892177421306343426  This is Tilly. She's just checking pup on you....   \n",
       "\n",
       "                   retweeted_status_id retweeted_status_user_id  \\\n",
       "tweet_id                                                          \n",
       "892420643555336193                None                     None   \n",
       "892177421306343426                None                     None   \n",
       "\n",
       "                   retweeted_status_timestamp  \\\n",
       "tweet_id                                        \n",
       "892420643555336193                        NaT   \n",
       "892177421306343426                        NaT   \n",
       "\n",
       "                                                        expanded_urls  \\\n",
       "tweet_id                                                                \n",
       "892420643555336193  https://twitter.com/dog_rates/status/892420643...   \n",
       "892177421306343426  https://twitter.com/dog_rates/status/892177421...   \n",
       "\n",
       "                    rating_numerator  rating_denominator     name  doggo  \\\n",
       "tweet_id                                                                   \n",
       "892420643555336193                13                  10  Phineas  False   \n",
       "892177421306343426                13                  10    Tilly  False   \n",
       "\n",
       "                    floofer  pupper  puppo  retweet_count  favorite_count  \n",
       "tweet_id                                                                   \n",
       "892420643555336193    False   False  False         7417.0         35140.0  \n",
       "892177421306343426    False   False  False         5517.0         30411.0  "
      ]
     },
     "execution_count": 47,
     "metadata": {},
     "output_type": "execute_result"
    }
   ],
   "source": [
    "twitter_df.head(2)"
   ]
  },
  {
   "cell_type": "code",
   "execution_count": 48,
   "metadata": {},
   "outputs": [
    {
     "data": {
      "text/html": [
       "<div>\n",
       "<style scoped>\n",
       "    .dataframe tbody tr th:only-of-type {\n",
       "        vertical-align: middle;\n",
       "    }\n",
       "\n",
       "    .dataframe tbody tr th {\n",
       "        vertical-align: top;\n",
       "    }\n",
       "\n",
       "    .dataframe thead th {\n",
       "        text-align: right;\n",
       "    }\n",
       "</style>\n",
       "<table border=\"1\" class=\"dataframe\">\n",
       "  <thead>\n",
       "    <tr style=\"text-align: right;\">\n",
       "      <th></th>\n",
       "      <th>jpg_url</th>\n",
       "      <th>img_num</th>\n",
       "      <th>p1</th>\n",
       "      <th>p1_conf</th>\n",
       "      <th>p1_dog</th>\n",
       "      <th>p2</th>\n",
       "      <th>p2_conf</th>\n",
       "      <th>p2_dog</th>\n",
       "      <th>p3</th>\n",
       "      <th>p3_conf</th>\n",
       "      <th>p3_dog</th>\n",
       "    </tr>\n",
       "    <tr>\n",
       "      <th>tweet_id</th>\n",
       "      <th></th>\n",
       "      <th></th>\n",
       "      <th></th>\n",
       "      <th></th>\n",
       "      <th></th>\n",
       "      <th></th>\n",
       "      <th></th>\n",
       "      <th></th>\n",
       "      <th></th>\n",
       "      <th></th>\n",
       "      <th></th>\n",
       "    </tr>\n",
       "  </thead>\n",
       "  <tbody>\n",
       "    <tr>\n",
       "      <th>666020888022790149</th>\n",
       "      <td>https://pbs.twimg.com/media/CT4udn0WwAA0aMy.jpg</td>\n",
       "      <td>1</td>\n",
       "      <td>Welsh_springer_spaniel</td>\n",
       "      <td>0.465074</td>\n",
       "      <td>True</td>\n",
       "      <td>collie</td>\n",
       "      <td>0.156665</td>\n",
       "      <td>True</td>\n",
       "      <td>Shetland_sheepdog</td>\n",
       "      <td>0.061428</td>\n",
       "      <td>True</td>\n",
       "    </tr>\n",
       "    <tr>\n",
       "      <th>666029285002620928</th>\n",
       "      <td>https://pbs.twimg.com/media/CT42GRgUYAA5iDo.jpg</td>\n",
       "      <td>1</td>\n",
       "      <td>redbone</td>\n",
       "      <td>0.506826</td>\n",
       "      <td>True</td>\n",
       "      <td>miniature_pinscher</td>\n",
       "      <td>0.074192</td>\n",
       "      <td>True</td>\n",
       "      <td>Rhodesian_ridgeback</td>\n",
       "      <td>0.072010</td>\n",
       "      <td>True</td>\n",
       "    </tr>\n",
       "  </tbody>\n",
       "</table>\n",
       "</div>"
      ],
      "text/plain": [
       "                                                            jpg_url  img_num  \\\n",
       "tweet_id                                                                       \n",
       "666020888022790149  https://pbs.twimg.com/media/CT4udn0WwAA0aMy.jpg        1   \n",
       "666029285002620928  https://pbs.twimg.com/media/CT42GRgUYAA5iDo.jpg        1   \n",
       "\n",
       "                                        p1   p1_conf  p1_dog  \\\n",
       "tweet_id                                                       \n",
       "666020888022790149  Welsh_springer_spaniel  0.465074    True   \n",
       "666029285002620928                 redbone  0.506826    True   \n",
       "\n",
       "                                    p2   p2_conf  p2_dog                   p3  \\\n",
       "tweet_id                                                                        \n",
       "666020888022790149              collie  0.156665    True    Shetland_sheepdog   \n",
       "666029285002620928  miniature_pinscher  0.074192    True  Rhodesian_ridgeback   \n",
       "\n",
       "                     p3_conf  p3_dog  \n",
       "tweet_id                              \n",
       "666020888022790149  0.061428    True  \n",
       "666029285002620928  0.072010    True  "
      ]
     },
     "execution_count": 48,
     "metadata": {},
     "output_type": "execute_result"
    }
   ],
   "source": [
    "image_pred_df.head(2)"
   ]
  },
  {
   "cell_type": "markdown",
   "metadata": {},
   "source": [
    "### Data Accuracy - `rating_numerator` and `rating_denominator` in `twitter_df`\n",
    "\n",
    "#### Assessment\n",
    "Let's assess the `describe()` below."
   ]
  },
  {
   "cell_type": "code",
   "execution_count": 49,
   "metadata": {},
   "outputs": [
    {
     "data": {
      "text/html": [
       "<div>\n",
       "<style scoped>\n",
       "    .dataframe tbody tr th:only-of-type {\n",
       "        vertical-align: middle;\n",
       "    }\n",
       "\n",
       "    .dataframe tbody tr th {\n",
       "        vertical-align: top;\n",
       "    }\n",
       "\n",
       "    .dataframe thead th {\n",
       "        text-align: right;\n",
       "    }\n",
       "</style>\n",
       "<table border=\"1\" class=\"dataframe\">\n",
       "  <thead>\n",
       "    <tr style=\"text-align: right;\">\n",
       "      <th></th>\n",
       "      <th>rating_numerator</th>\n",
       "      <th>rating_denominator</th>\n",
       "      <th>retweet_count</th>\n",
       "      <th>favorite_count</th>\n",
       "    </tr>\n",
       "  </thead>\n",
       "  <tbody>\n",
       "    <tr>\n",
       "      <th>count</th>\n",
       "      <td>2356.000000</td>\n",
       "      <td>2356.000000</td>\n",
       "      <td>2043.000000</td>\n",
       "      <td>2043.000000</td>\n",
       "    </tr>\n",
       "    <tr>\n",
       "      <th>mean</th>\n",
       "      <td>13.126486</td>\n",
       "      <td>10.455433</td>\n",
       "      <td>2767.898189</td>\n",
       "      <td>7830.767988</td>\n",
       "    </tr>\n",
       "    <tr>\n",
       "      <th>std</th>\n",
       "      <td>45.876648</td>\n",
       "      <td>6.745237</td>\n",
       "      <td>4593.251203</td>\n",
       "      <td>11943.897292</td>\n",
       "    </tr>\n",
       "    <tr>\n",
       "      <th>min</th>\n",
       "      <td>0.000000</td>\n",
       "      <td>0.000000</td>\n",
       "      <td>1.000000</td>\n",
       "      <td>0.000000</td>\n",
       "    </tr>\n",
       "    <tr>\n",
       "      <th>25%</th>\n",
       "      <td>10.000000</td>\n",
       "      <td>10.000000</td>\n",
       "      <td>521.000000</td>\n",
       "      <td>1038.000000</td>\n",
       "    </tr>\n",
       "    <tr>\n",
       "      <th>50%</th>\n",
       "      <td>11.000000</td>\n",
       "      <td>10.000000</td>\n",
       "      <td>1404.000000</td>\n",
       "      <td>3574.000000</td>\n",
       "    </tr>\n",
       "    <tr>\n",
       "      <th>75%</th>\n",
       "      <td>12.000000</td>\n",
       "      <td>10.000000</td>\n",
       "      <td>3277.000000</td>\n",
       "      <td>10130.500000</td>\n",
       "    </tr>\n",
       "    <tr>\n",
       "      <th>max</th>\n",
       "      <td>1776.000000</td>\n",
       "      <td>170.000000</td>\n",
       "      <td>74834.000000</td>\n",
       "      <td>151127.000000</td>\n",
       "    </tr>\n",
       "  </tbody>\n",
       "</table>\n",
       "</div>"
      ],
      "text/plain": [
       "       rating_numerator  rating_denominator  retweet_count  favorite_count\n",
       "count       2356.000000         2356.000000    2043.000000     2043.000000\n",
       "mean          13.126486           10.455433    2767.898189     7830.767988\n",
       "std           45.876648            6.745237    4593.251203    11943.897292\n",
       "min            0.000000            0.000000       1.000000        0.000000\n",
       "25%           10.000000           10.000000     521.000000     1038.000000\n",
       "50%           11.000000           10.000000    1404.000000     3574.000000\n",
       "75%           12.000000           10.000000    3277.000000    10130.500000\n",
       "max         1776.000000          170.000000   74834.000000   151127.000000"
      ]
     },
     "execution_count": 49,
     "metadata": {},
     "output_type": "execute_result"
    }
   ],
   "source": [
    "twitter_df.describe()"
   ]
  },
  {
   "cell_type": "markdown",
   "metadata": {},
   "source": [
    "It is weird to see that the `rating_numerator` hs minimum value of 0 and maximum value of 1776. Same goes for `rating_denominator`, with minimum value of 0 and maximum value of 170. The reason this is weird for me is because it is described by the [WeRateDogs wikipedia page](https://en.wikipedia.org/wiki/WeRateDogs) that the rating numerator is in general higher than 10, and the denominator is mostly 10. Below we'll investigate further for the rows that have these weird numerator and denominator values."
   ]
  },
  {
   "cell_type": "code",
   "execution_count": 50,
   "metadata": {},
   "outputs": [
    {
     "data": {
      "text/html": [
       "<div>\n",
       "<style scoped>\n",
       "    .dataframe tbody tr th:only-of-type {\n",
       "        vertical-align: middle;\n",
       "    }\n",
       "\n",
       "    .dataframe tbody tr th {\n",
       "        vertical-align: top;\n",
       "    }\n",
       "\n",
       "    .dataframe thead th {\n",
       "        text-align: right;\n",
       "    }\n",
       "</style>\n",
       "<table border=\"1\" class=\"dataframe\">\n",
       "  <thead>\n",
       "    <tr style=\"text-align: right;\">\n",
       "      <th></th>\n",
       "      <th>text</th>\n",
       "      <th>rating_numerator</th>\n",
       "      <th>rating_denominator</th>\n",
       "    </tr>\n",
       "    <tr>\n",
       "      <th>tweet_id</th>\n",
       "      <th></th>\n",
       "      <th></th>\n",
       "      <th></th>\n",
       "    </tr>\n",
       "  </thead>\n",
       "  <tbody>\n",
       "    <tr>\n",
       "      <th>883482846933004288</th>\n",
       "      <td>This is Bella. She hopes her smile made you smile. If not, she is also offering you her favorite monkey. 13.5/10 https://t.co/qjrljjt948</td>\n",
       "      <td>5</td>\n",
       "      <td>10</td>\n",
       "    </tr>\n",
       "    <tr>\n",
       "      <th>870726314365509632</th>\n",
       "      <td>@ComplicitOwl @ShopWeRateDogs &amp;gt;10/10 is reserved for dogs</td>\n",
       "      <td>10</td>\n",
       "      <td>10</td>\n",
       "    </tr>\n",
       "    <tr>\n",
       "      <th>860177593139703809</th>\n",
       "      <td>RT @dog_rates: Ohboyohboyohboyohboyohboyohboyohboyohboyohboyohboyohboyohboyohboyohboyohboy. 10/10 for all (by happytailsresort) https://t.c…</td>\n",
       "      <td>10</td>\n",
       "      <td>10</td>\n",
       "    </tr>\n",
       "    <tr>\n",
       "      <th>851861385021730816</th>\n",
       "      <td>RT @eddie_coe98: Thanks @dog_rates completed my laptop. 10/10 would buy again https://t.co/bO0rThDlXI</td>\n",
       "      <td>10</td>\n",
       "      <td>10</td>\n",
       "    </tr>\n",
       "    <tr>\n",
       "      <th>848212111729840128</th>\n",
       "      <td>This is Jerry. He's doing a distinguished tongue slip. Slightly patronizing tbh. You think you're better than us, Jerry? 6/10 hold me back https:/...</td>\n",
       "      <td>6</td>\n",
       "      <td>10</td>\n",
       "    </tr>\n",
       "  </tbody>\n",
       "</table>\n",
       "</div>"
      ],
      "text/plain": [
       "                                                                                                                                                                     text  \\\n",
       "tweet_id                                                                                                                                                                    \n",
       "883482846933004288               This is Bella. She hopes her smile made you smile. If not, she is also offering you her favorite monkey. 13.5/10 https://t.co/qjrljjt948   \n",
       "870726314365509632                                                                                           @ComplicitOwl @ShopWeRateDogs &gt;10/10 is reserved for dogs   \n",
       "860177593139703809           RT @dog_rates: Ohboyohboyohboyohboyohboyohboyohboyohboyohboyohboyohboyohboyohboyohboyohboy. 10/10 for all (by happytailsresort) https://t.c…   \n",
       "851861385021730816                                                  RT @eddie_coe98: Thanks @dog_rates completed my laptop. 10/10 would buy again https://t.co/bO0rThDlXI   \n",
       "848212111729840128  This is Jerry. He's doing a distinguished tongue slip. Slightly patronizing tbh. You think you're better than us, Jerry? 6/10 hold me back https:/...   \n",
       "\n",
       "                    rating_numerator  rating_denominator  \n",
       "tweet_id                                                  \n",
       "883482846933004288                 5                  10  \n",
       "870726314365509632                10                  10  \n",
       "860177593139703809                10                  10  \n",
       "851861385021730816                10                  10  \n",
       "848212111729840128                 6                  10  "
      ]
     },
     "execution_count": 50,
     "metadata": {},
     "output_type": "execute_result"
    }
   ],
   "source": [
    "pd.options.display.max_colwidth = 150 # so we can see the whole status text\n",
    "idxs = twitter_df.rating_numerator <= 10\n",
    "twitter_df.loc[idxs, ['text', 'rating_numerator', 'rating_denominator']].head()"
   ]
  },
  {
   "cell_type": "markdown",
   "metadata": {},
   "source": [
    "As you can see above, one of the rows for ID \"883482846933004288\" has rating that is actually decimal 13.5/10. However, the numerator is detected as 5. It seems that the original rating detection didn't take into account possibility of the rating having decimal point."
   ]
  },
  {
   "cell_type": "markdown",
   "metadata": {},
   "source": [
    "#### Cleaning\n",
    "Hence below I will re-extract the rating from the text, taking into account both the possibilities of:\n",
    "- the rating having decimal points\n",
    "- having multiple ratings within a single tweet\n",
    "\n",
    "I will now store the rating in a separate dataframe than `twitter_df`. This is also because there can be multiple ratings per tweet, hence this will need a separate dataframe to be able to store the data correctly. The new dataframe name will be `dog_ratings_df`. We'll rename the resulting `match` index in to be `rating_no` to represent the index of multiple ratings within a single tweet status."
   ]
  },
  {
   "cell_type": "code",
   "execution_count": 51,
   "metadata": {},
   "outputs": [],
   "source": [
    "dog_ratings_df = twitter_df.text.str.extractall('(((\\d+\\.)?\\d+)/((\\d+\\.)?\\d+))')[[1,3]]\n",
    "dog_ratings_df.columns = ['numerator', 'denominator']\n",
    "dog_ratings_df.index.rename(['tweet_id', 'rating_no'], inplace=True)\n",
    "\n",
    "# test\n",
    "assert dog_ratings_df.index.names[0] == 'tweet_id'\n",
    "assert dog_ratings_df.index.names[1] == 'rating_no'\n",
    "assert dog_ratings_df.columns[0] == 'numerator'\n",
    "assert dog_ratings_df.columns[1] == 'denominator'"
   ]
  },
  {
   "cell_type": "markdown",
   "metadata": {},
   "source": [
    "#### Reassessment\n",
    "Here we check whether the detection of rating with decimal point is successful."
   ]
  },
  {
   "cell_type": "code",
   "execution_count": 52,
   "metadata": {},
   "outputs": [
    {
     "data": {
      "text/html": [
       "<div>\n",
       "<style scoped>\n",
       "    .dataframe tbody tr th:only-of-type {\n",
       "        vertical-align: middle;\n",
       "    }\n",
       "\n",
       "    .dataframe tbody tr th {\n",
       "        vertical-align: top;\n",
       "    }\n",
       "\n",
       "    .dataframe thead th {\n",
       "        text-align: right;\n",
       "    }\n",
       "</style>\n",
       "<table border=\"1\" class=\"dataframe\">\n",
       "  <thead>\n",
       "    <tr style=\"text-align: right;\">\n",
       "      <th></th>\n",
       "      <th></th>\n",
       "      <th>numerator</th>\n",
       "      <th>denominator</th>\n",
       "      <th>text</th>\n",
       "    </tr>\n",
       "    <tr>\n",
       "      <th>tweet_id</th>\n",
       "      <th>rating_no</th>\n",
       "      <th></th>\n",
       "      <th></th>\n",
       "      <th></th>\n",
       "    </tr>\n",
       "  </thead>\n",
       "  <tbody>\n",
       "    <tr>\n",
       "      <th>883482846933004288</th>\n",
       "      <th>0</th>\n",
       "      <td>13.5</td>\n",
       "      <td>10</td>\n",
       "      <td>This is Bella. She hopes her smile made you smile. If not, she is also offering you her favorite monkey. 13.5/10 https://t.co/qjrljjt948</td>\n",
       "    </tr>\n",
       "    <tr>\n",
       "      <th>832215909146226688</th>\n",
       "      <th>0</th>\n",
       "      <td>9.75</td>\n",
       "      <td>10</td>\n",
       "      <td>RT @dog_rates: This is Logan, the Chow who lived. He solemnly swears he's up to lots of good. H*ckin magical af 9.75/10 https://t.co/yBO5wu…</td>\n",
       "    </tr>\n",
       "    <tr>\n",
       "      <th>786709082849828864</th>\n",
       "      <th>0</th>\n",
       "      <td>9.75</td>\n",
       "      <td>10</td>\n",
       "      <td>This is Logan, the Chow who lived. He solemnly swears he's up to lots of good. H*ckin magical af 9.75/10 https://t.co/yBO5wuqaPS</td>\n",
       "    </tr>\n",
       "    <tr>\n",
       "      <th>778027034220126208</th>\n",
       "      <th>0</th>\n",
       "      <td>11.27</td>\n",
       "      <td>10</td>\n",
       "      <td>This is Sophie. She's a Jubilant Bush Pupper. Super h*ckin rare. Appears at random just to smile at the locals. 11.27/10 would smile back https://...</td>\n",
       "    </tr>\n",
       "    <tr>\n",
       "      <th>681340665377193984</th>\n",
       "      <th>0</th>\n",
       "      <td>9.5</td>\n",
       "      <td>10</td>\n",
       "      <td>I've been told there's a slight possibility he's checking his mirror. We'll bump to 9.5/10. Still a menace</td>\n",
       "    </tr>\n",
       "    <tr>\n",
       "      <th>680494726643068929</th>\n",
       "      <th>0</th>\n",
       "      <td>11.26</td>\n",
       "      <td>10</td>\n",
       "      <td>Here we have uncovered an entire battalion of holiday puppers. Average of 11.26/10 https://t.co/eNm2S6p9BD</td>\n",
       "    </tr>\n",
       "  </tbody>\n",
       "</table>\n",
       "</div>"
      ],
      "text/plain": [
       "                             numerator denominator  \\\n",
       "tweet_id           rating_no                         \n",
       "883482846933004288 0              13.5          10   \n",
       "832215909146226688 0              9.75          10   \n",
       "786709082849828864 0              9.75          10   \n",
       "778027034220126208 0             11.27          10   \n",
       "681340665377193984 0               9.5          10   \n",
       "680494726643068929 0             11.26          10   \n",
       "\n",
       "                                                                                                                                                                               text  \n",
       "tweet_id           rating_no                                                                                                                                                         \n",
       "883482846933004288 0                       This is Bella. She hopes her smile made you smile. If not, she is also offering you her favorite monkey. 13.5/10 https://t.co/qjrljjt948  \n",
       "832215909146226688 0                   RT @dog_rates: This is Logan, the Chow who lived. He solemnly swears he's up to lots of good. H*ckin magical af 9.75/10 https://t.co/yBO5wu…  \n",
       "786709082849828864 0                               This is Logan, the Chow who lived. He solemnly swears he's up to lots of good. H*ckin magical af 9.75/10 https://t.co/yBO5wuqaPS  \n",
       "778027034220126208 0          This is Sophie. She's a Jubilant Bush Pupper. Super h*ckin rare. Appears at random just to smile at the locals. 11.27/10 would smile back https://...  \n",
       "681340665377193984 0                                                     I've been told there's a slight possibility he's checking his mirror. We'll bump to 9.5/10. Still a menace  \n",
       "680494726643068929 0                                                     Here we have uncovered an entire battalion of holiday puppers. Average of 11.26/10 https://t.co/eNm2S6p9BD  "
      ]
     },
     "execution_count": 52,
     "metadata": {},
     "output_type": "execute_result"
    }
   ],
   "source": [
    "idx_with_dec = dog_ratings_df.numerator.str.contains('\\.')\n",
    "ratings_with_dec = dog_ratings_df[idx_with_dec]\n",
    "ids_with_dec = ratings_with_dec.index.get_level_values('tweet_id')\n",
    "ratings_with_dec.join(twitter_df.loc[ids_with_dec].text) # to show together with the tweet status text"
   ]
  },
  {
   "cell_type": "markdown",
   "metadata": {},
   "source": [
    "You can see that the detection of rating seems to be effective for decimal numerator values. Since we've ensured that decimal detection was successful, we can now convert the data type of the rating values to float.\n",
    "\n",
    "#### Cleaning\n",
    "Below we'll then convert the data type of the ratings numerator and denominator to float."
   ]
  },
  {
   "cell_type": "code",
   "execution_count": 53,
   "metadata": {},
   "outputs": [
    {
     "data": {
      "text/html": [
       "<div>\n",
       "<style scoped>\n",
       "    .dataframe tbody tr th:only-of-type {\n",
       "        vertical-align: middle;\n",
       "    }\n",
       "\n",
       "    .dataframe tbody tr th {\n",
       "        vertical-align: top;\n",
       "    }\n",
       "\n",
       "    .dataframe thead th {\n",
       "        text-align: right;\n",
       "    }\n",
       "</style>\n",
       "<table border=\"1\" class=\"dataframe\">\n",
       "  <thead>\n",
       "    <tr style=\"text-align: right;\">\n",
       "      <th></th>\n",
       "      <th></th>\n",
       "      <th>numerator</th>\n",
       "      <th>denominator</th>\n",
       "    </tr>\n",
       "    <tr>\n",
       "      <th>tweet_id</th>\n",
       "      <th>rating_no</th>\n",
       "      <th></th>\n",
       "      <th></th>\n",
       "    </tr>\n",
       "  </thead>\n",
       "  <tbody>\n",
       "    <tr>\n",
       "      <th>892420643555336193</th>\n",
       "      <th>0</th>\n",
       "      <td>13.0</td>\n",
       "      <td>10.0</td>\n",
       "    </tr>\n",
       "    <tr>\n",
       "      <th>892177421306343426</th>\n",
       "      <th>0</th>\n",
       "      <td>13.0</td>\n",
       "      <td>10.0</td>\n",
       "    </tr>\n",
       "    <tr>\n",
       "      <th>891815181378084864</th>\n",
       "      <th>0</th>\n",
       "      <td>12.0</td>\n",
       "      <td>10.0</td>\n",
       "    </tr>\n",
       "    <tr>\n",
       "      <th>891689557279858688</th>\n",
       "      <th>0</th>\n",
       "      <td>13.0</td>\n",
       "      <td>10.0</td>\n",
       "    </tr>\n",
       "    <tr>\n",
       "      <th>891327558926688256</th>\n",
       "      <th>0</th>\n",
       "      <td>12.0</td>\n",
       "      <td>10.0</td>\n",
       "    </tr>\n",
       "  </tbody>\n",
       "</table>\n",
       "</div>"
      ],
      "text/plain": [
       "                              numerator  denominator\n",
       "tweet_id           rating_no                        \n",
       "892420643555336193 0               13.0         10.0\n",
       "892177421306343426 0               13.0         10.0\n",
       "891815181378084864 0               12.0         10.0\n",
       "891689557279858688 0               13.0         10.0\n",
       "891327558926688256 0               12.0         10.0"
      ]
     },
     "execution_count": 53,
     "metadata": {},
     "output_type": "execute_result"
    }
   ],
   "source": [
    "dog_ratings_df = dog_ratings_df.astype(float)\n",
    "dog_ratings_df.head()"
   ]
  },
  {
   "cell_type": "code",
   "execution_count": 54,
   "metadata": {},
   "outputs": [
    {
     "name": "stdout",
     "output_type": "stream",
     "text": [
      "<class 'pandas.core.frame.DataFrame'>\n",
      "MultiIndex: 2390 entries, ('892420643555336193', 0) to ('666020888022790149', 0)\n",
      "Data columns (total 2 columns):\n",
      " #   Column       Non-Null Count  Dtype  \n",
      "---  ------       --------------  -----  \n",
      " 0   numerator    2390 non-null   float64\n",
      " 1   denominator  2390 non-null   float64\n",
      "dtypes: float64(2)\n",
      "memory usage: 143.0+ KB\n"
     ]
    }
   ],
   "source": [
    "dog_ratings_df.info()"
   ]
  },
  {
   "cell_type": "markdown",
   "metadata": {},
   "source": [
    "#### Reassessment\n",
    "Now we'll evaluate the detected denominator values first. At least the denominator values expectation is clearer, where we'd like for the denominator to be exactly 10. Any deviation from that should be investigated further. Below we'll then show the tweets that have denominator being not equal to 10, with their corresponding tweet status."
   ]
  },
  {
   "cell_type": "code",
   "execution_count": 55,
   "metadata": {},
   "outputs": [
    {
     "data": {
      "text/html": [
       "<div>\n",
       "<style scoped>\n",
       "    .dataframe tbody tr th:only-of-type {\n",
       "        vertical-align: middle;\n",
       "    }\n",
       "\n",
       "    .dataframe tbody tr th {\n",
       "        vertical-align: top;\n",
       "    }\n",
       "\n",
       "    .dataframe thead th {\n",
       "        text-align: right;\n",
       "    }\n",
       "</style>\n",
       "<table border=\"1\" class=\"dataframe\">\n",
       "  <thead>\n",
       "    <tr style=\"text-align: right;\">\n",
       "      <th></th>\n",
       "      <th></th>\n",
       "      <th>numerator</th>\n",
       "      <th>denominator</th>\n",
       "      <th>text</th>\n",
       "    </tr>\n",
       "    <tr>\n",
       "      <th>tweet_id</th>\n",
       "      <th>rating_no</th>\n",
       "      <th></th>\n",
       "      <th></th>\n",
       "      <th></th>\n",
       "    </tr>\n",
       "  </thead>\n",
       "  <tbody>\n",
       "    <tr>\n",
       "      <th>835246439529840640</th>\n",
       "      <th>0</th>\n",
       "      <td>960.0</td>\n",
       "      <td>0.0</td>\n",
       "      <td>@jonnysun @Lin_Manuel ok jomny I know you're excited but 960/00 isn't a valid rating, 13/10 is tho</td>\n",
       "    </tr>\n",
       "    <tr>\n",
       "      <th>832088576586297345</th>\n",
       "      <th>0</th>\n",
       "      <td>11.0</td>\n",
       "      <td>15.0</td>\n",
       "      <td>@docmisterio account started on 11/15/15</td>\n",
       "    </tr>\n",
       "    <tr>\n",
       "      <th>820690176645140481</th>\n",
       "      <th>0</th>\n",
       "      <td>84.0</td>\n",
       "      <td>70.0</td>\n",
       "      <td>The floofs have been released I repeat the floofs have been released. 84/70 https://t.co/NIYC820tmd</td>\n",
       "    </tr>\n",
       "    <tr>\n",
       "      <th>810984652412424192</th>\n",
       "      <th>0</th>\n",
       "      <td>24.0</td>\n",
       "      <td>7.0</td>\n",
       "      <td>Meet Sam. She smiles 24/7 &amp;amp; secretly aspires to be a reindeer. \\nKeep Sam smiling by clicking and sharing this link:\\nhttps://t.co/98tB8y7y7t ...</td>\n",
       "    </tr>\n",
       "    <tr>\n",
       "      <th>775096608509886464</th>\n",
       "      <th>0</th>\n",
       "      <td>9.0</td>\n",
       "      <td>11.0</td>\n",
       "      <td>RT @dog_rates: After so many requests, this is Bretagne. She was the last surviving 9/11 search dog, and our second ever 14/10. RIP https:/…</td>\n",
       "    </tr>\n",
       "    <tr>\n",
       "      <th>758467244762497024</th>\n",
       "      <th>0</th>\n",
       "      <td>165.0</td>\n",
       "      <td>150.0</td>\n",
       "      <td>Why does this never happen at my front door... 165/150 https://t.co/HmwrdfEfUE</td>\n",
       "    </tr>\n",
       "    <tr>\n",
       "      <th>740373189193256964</th>\n",
       "      <th>0</th>\n",
       "      <td>9.0</td>\n",
       "      <td>11.0</td>\n",
       "      <td>After so many requests, this is Bretagne. She was the last surviving 9/11 search dog, and our second ever 14/10. RIP https://t.co/XAVDNDaVgQ</td>\n",
       "    </tr>\n",
       "    <tr>\n",
       "      <th>731156023742988288</th>\n",
       "      <th>0</th>\n",
       "      <td>204.0</td>\n",
       "      <td>170.0</td>\n",
       "      <td>Say hello to this unbelievably well behaved squad of doggos. 204/170 would try to pet all at once https://t.co/yGQI3He3xv</td>\n",
       "    </tr>\n",
       "    <tr>\n",
       "      <th>722974582966214656</th>\n",
       "      <th>0</th>\n",
       "      <td>4.0</td>\n",
       "      <td>20.0</td>\n",
       "      <td>Happy 4/20 from the squad! 13/10 for all https://t.co/eV1diwds8a</td>\n",
       "    </tr>\n",
       "    <tr>\n",
       "      <th>716439118184652801</th>\n",
       "      <th>0</th>\n",
       "      <td>50.0</td>\n",
       "      <td>50.0</td>\n",
       "      <td>This is Bluebert. He just saw that both #FinalFur match ups are split 50/50. Amazed af. 11/10 https://t.co/Kky1DPG4iq</td>\n",
       "    </tr>\n",
       "    <tr>\n",
       "      <th>713900603437621249</th>\n",
       "      <th>0</th>\n",
       "      <td>99.0</td>\n",
       "      <td>90.0</td>\n",
       "      <td>Happy Saturday here's 9 puppers on a bench. 99/90 good work everybody https://t.co/mpvaVxKmc1</td>\n",
       "    </tr>\n",
       "    <tr>\n",
       "      <th>710658690886586372</th>\n",
       "      <th>0</th>\n",
       "      <td>80.0</td>\n",
       "      <td>80.0</td>\n",
       "      <td>Here's a brigade of puppers. All look very prepared for whatever happens next. 80/80 https://t.co/0eb7R1Om12</td>\n",
       "    </tr>\n",
       "    <tr>\n",
       "      <th>709198395643068416</th>\n",
       "      <th>0</th>\n",
       "      <td>45.0</td>\n",
       "      <td>50.0</td>\n",
       "      <td>From left to right:\\nCletus, Jerome, Alejandro, Burp, &amp;amp; Titson\\nNone know where camera is. 45/50 would hug all at once https://t.co/sedre1ivTK</td>\n",
       "    </tr>\n",
       "    <tr>\n",
       "      <th>704054845121142784</th>\n",
       "      <th>0</th>\n",
       "      <td>60.0</td>\n",
       "      <td>50.0</td>\n",
       "      <td>Here is a whole flock of puppers.  60/50 I'll take the lot https://t.co/9dpcw6MdWa</td>\n",
       "    </tr>\n",
       "    <tr>\n",
       "      <th>697463031882764288</th>\n",
       "      <th>0</th>\n",
       "      <td>44.0</td>\n",
       "      <td>40.0</td>\n",
       "      <td>Happy Wednesday here's a bucket of pups. 44/40 would pet all at once https://t.co/HppvrYuamZ</td>\n",
       "    </tr>\n",
       "    <tr>\n",
       "      <th>686035780142297088</th>\n",
       "      <th>0</th>\n",
       "      <td>4.0</td>\n",
       "      <td>20.0</td>\n",
       "      <td>Yes I do realize a rating of 4/20 would've been fitting. However, it would be unjust to give these cooperative pups that low of a rating</td>\n",
       "    </tr>\n",
       "    <tr>\n",
       "      <th>684225744407494656</th>\n",
       "      <th>0</th>\n",
       "      <td>143.0</td>\n",
       "      <td>130.0</td>\n",
       "      <td>Two sneaky puppers were not initially seen, moving the rating to 143/130. Please forgive us. Thank you https://t.co/kRK51Y5ac3</td>\n",
       "    </tr>\n",
       "    <tr>\n",
       "      <th>684222868335505415</th>\n",
       "      <th>0</th>\n",
       "      <td>121.0</td>\n",
       "      <td>110.0</td>\n",
       "      <td>Someone help the girl is being mugged. Several are distracting her while two steal her shoes. Clever puppers 121/110 https://t.co/1zfnTJLt55</td>\n",
       "    </tr>\n",
       "    <tr>\n",
       "      <th>682962037429899265</th>\n",
       "      <th>0</th>\n",
       "      <td>7.0</td>\n",
       "      <td>11.0</td>\n",
       "      <td>This is Darrel. He just robbed a 7/11 and is in a high speed police chase. Was just spotted by the helicopter 10/10 https://t.co/7EsP8LmSp5</td>\n",
       "    </tr>\n",
       "    <tr>\n",
       "      <th>682808988178739200</th>\n",
       "      <th>0</th>\n",
       "      <td>20.0</td>\n",
       "      <td>16.0</td>\n",
       "      <td>I'm aware that I could've said 20/16, but here at WeRateDogs we are very professional. An inconsistent rating scale is simply irresponsible</td>\n",
       "    </tr>\n",
       "    <tr>\n",
       "      <th>677716515794329600</th>\n",
       "      <th>0</th>\n",
       "      <td>144.0</td>\n",
       "      <td>120.0</td>\n",
       "      <td>IT'S PUPPERGEDDON. Total of 144/120 ...I think https://t.co/ZanVtAtvIq</td>\n",
       "    </tr>\n",
       "    <tr>\n",
       "      <th>675853064436391936</th>\n",
       "      <th>0</th>\n",
       "      <td>88.0</td>\n",
       "      <td>80.0</td>\n",
       "      <td>Here we have an entire platoon of puppers. Total score: 88/80 would pet all at once https://t.co/y93p6FLvVw</td>\n",
       "    </tr>\n",
       "    <tr>\n",
       "      <th>666287406224695296</th>\n",
       "      <th>0</th>\n",
       "      <td>1.0</td>\n",
       "      <td>2.0</td>\n",
       "      <td>This is an Albanian 3 1/2 legged  Episcopalian. Loves well-polished hardwood flooring. Penis on the collar. 9/10 https://t.co/d9NcXFKwLv</td>\n",
       "    </tr>\n",
       "  </tbody>\n",
       "</table>\n",
       "</div>"
      ],
      "text/plain": [
       "                              numerator  denominator  \\\n",
       "tweet_id           rating_no                           \n",
       "835246439529840640 0              960.0          0.0   \n",
       "832088576586297345 0               11.0         15.0   \n",
       "820690176645140481 0               84.0         70.0   \n",
       "810984652412424192 0               24.0          7.0   \n",
       "775096608509886464 0                9.0         11.0   \n",
       "758467244762497024 0              165.0        150.0   \n",
       "740373189193256964 0                9.0         11.0   \n",
       "731156023742988288 0              204.0        170.0   \n",
       "722974582966214656 0                4.0         20.0   \n",
       "716439118184652801 0               50.0         50.0   \n",
       "713900603437621249 0               99.0         90.0   \n",
       "710658690886586372 0               80.0         80.0   \n",
       "709198395643068416 0               45.0         50.0   \n",
       "704054845121142784 0               60.0         50.0   \n",
       "697463031882764288 0               44.0         40.0   \n",
       "686035780142297088 0                4.0         20.0   \n",
       "684225744407494656 0              143.0        130.0   \n",
       "684222868335505415 0              121.0        110.0   \n",
       "682962037429899265 0                7.0         11.0   \n",
       "682808988178739200 0               20.0         16.0   \n",
       "677716515794329600 0              144.0        120.0   \n",
       "675853064436391936 0               88.0         80.0   \n",
       "666287406224695296 0                1.0          2.0   \n",
       "\n",
       "                                                                                                                                                                               text  \n",
       "tweet_id           rating_no                                                                                                                                                         \n",
       "835246439529840640 0                                                             @jonnysun @Lin_Manuel ok jomny I know you're excited but 960/00 isn't a valid rating, 13/10 is tho  \n",
       "832088576586297345 0                                                                                                                       @docmisterio account started on 11/15/15  \n",
       "820690176645140481 0                                                            The floofs have been released I repeat the floofs have been released. 84/70 https://t.co/NIYC820tmd  \n",
       "810984652412424192 0          Meet Sam. She smiles 24/7 &amp; secretly aspires to be a reindeer. \\nKeep Sam smiling by clicking and sharing this link:\\nhttps://t.co/98tB8y7y7t ...  \n",
       "775096608509886464 0                   RT @dog_rates: After so many requests, this is Bretagne. She was the last surviving 9/11 search dog, and our second ever 14/10. RIP https:/…  \n",
       "758467244762497024 0                                                                                 Why does this never happen at my front door... 165/150 https://t.co/HmwrdfEfUE  \n",
       "740373189193256964 0                   After so many requests, this is Bretagne. She was the last surviving 9/11 search dog, and our second ever 14/10. RIP https://t.co/XAVDNDaVgQ  \n",
       "731156023742988288 0                                      Say hello to this unbelievably well behaved squad of doggos. 204/170 would try to pet all at once https://t.co/yGQI3He3xv  \n",
       "722974582966214656 0                                                                                               Happy 4/20 from the squad! 13/10 for all https://t.co/eV1diwds8a  \n",
       "716439118184652801 0                                          This is Bluebert. He just saw that both #FinalFur match ups are split 50/50. Amazed af. 11/10 https://t.co/Kky1DPG4iq  \n",
       "713900603437621249 0                                                                  Happy Saturday here's 9 puppers on a bench. 99/90 good work everybody https://t.co/mpvaVxKmc1  \n",
       "710658690886586372 0                                                   Here's a brigade of puppers. All look very prepared for whatever happens next. 80/80 https://t.co/0eb7R1Om12  \n",
       "709198395643068416 0             From left to right:\\nCletus, Jerome, Alejandro, Burp, &amp; Titson\\nNone know where camera is. 45/50 would hug all at once https://t.co/sedre1ivTK  \n",
       "704054845121142784 0                                                                             Here is a whole flock of puppers.  60/50 I'll take the lot https://t.co/9dpcw6MdWa  \n",
       "697463031882764288 0                                                                   Happy Wednesday here's a bucket of pups. 44/40 would pet all at once https://t.co/HppvrYuamZ  \n",
       "686035780142297088 0                       Yes I do realize a rating of 4/20 would've been fitting. However, it would be unjust to give these cooperative pups that low of a rating  \n",
       "684225744407494656 0                                 Two sneaky puppers were not initially seen, moving the rating to 143/130. Please forgive us. Thank you https://t.co/kRK51Y5ac3  \n",
       "684222868335505415 0                   Someone help the girl is being mugged. Several are distracting her while two steal her shoes. Clever puppers 121/110 https://t.co/1zfnTJLt55  \n",
       "682962037429899265 0                    This is Darrel. He just robbed a 7/11 and is in a high speed police chase. Was just spotted by the helicopter 10/10 https://t.co/7EsP8LmSp5  \n",
       "682808988178739200 0                    I'm aware that I could've said 20/16, but here at WeRateDogs we are very professional. An inconsistent rating scale is simply irresponsible  \n",
       "677716515794329600 0                                                                                         IT'S PUPPERGEDDON. Total of 144/120 ...I think https://t.co/ZanVtAtvIq  \n",
       "675853064436391936 0                                                    Here we have an entire platoon of puppers. Total score: 88/80 would pet all at once https://t.co/y93p6FLvVw  \n",
       "666287406224695296 0                       This is an Albanian 3 1/2 legged  Episcopalian. Loves well-polished hardwood flooring. Penis on the collar. 9/10 https://t.co/d9NcXFKwLv  "
      ]
     },
     "execution_count": 55,
     "metadata": {},
     "output_type": "execute_result"
    }
   ],
   "source": [
    "dog_ratings_df[dog_ratings_df.denominator != 10].join(twitter_df.text)"
   ]
  },
  {
   "cell_type": "markdown",
   "metadata": {},
   "source": [
    "As can be seen above, some of them are mistakenly extracted from common phrases such as \"7/11\" and \"24/7\", while the others are actually valid rating. However, since this will affect the fairness of rating comparison, we'll simply drop all ratings whose denominator is not 10.\n",
    "\n",
    "#### Cleaning\n",
    "Drop all the ratings whose denominator is not 10."
   ]
  },
  {
   "cell_type": "code",
   "execution_count": 56,
   "metadata": {},
   "outputs": [],
   "source": [
    "dog_ratings_df = dog_ratings_df[dog_ratings_df.denominator == 10]\n",
    "\n",
    "# test\n",
    "assert (dog_ratings_df.denominator != 10).sum() == 0"
   ]
  },
  {
   "cell_type": "markdown",
   "metadata": {},
   "source": [
    "#### Reassessment\n",
    "From the print of unique values below, now we're sure that the denominator are all 10."
   ]
  },
  {
   "cell_type": "code",
   "execution_count": 57,
   "metadata": {},
   "outputs": [
    {
     "data": {
      "text/plain": [
       "array([10.])"
      ]
     },
     "execution_count": 57,
     "metadata": {},
     "output_type": "execute_result"
    }
   ],
   "source": [
    "dog_ratings_df.denominator.unique()"
   ]
  },
  {
   "cell_type": "markdown",
   "metadata": {},
   "source": [
    "Next, we'll evaluate the numerator values. We'll display the unique values of the numerator, sorted from lowest to highest."
   ]
  },
  {
   "cell_type": "code",
   "execution_count": 58,
   "metadata": {},
   "outputs": [
    {
     "data": {
      "text/plain": [
       "array(['0.0', '1.0', '2.0', '3.0', '4.0', '5.0', '6.0', '7.0', '8.0',\n",
       "       '9.0', '9.5', '9.75', '10.0', '11.0', '11.26', '11.27', '12.0',\n",
       "       '13.0', '13.5', '14.0', '15.0', '17.0', '182.0', '420.0', '666.0',\n",
       "       '1776.0'], dtype='<U32')"
      ]
     },
     "execution_count": 58,
     "metadata": {},
     "output_type": "execute_result"
    }
   ],
   "source": [
    "unique_nums = dog_ratings_df.numerator.unique()\n",
    "unique_nums.sort()\n",
    "unique_nums.astype(str)"
   ]
  },
  {
   "cell_type": "markdown",
   "metadata": {},
   "source": [
    "There seems to be some oddly high numerator values as seen above, i.e. for the values greater than 17. Also there are values that are lower than 10, which is unusual since the site says the numerator should be >= 10.\n",
    "\n",
    "For now, let's evaluate the tweets that has rating numerator > 17."
   ]
  },
  {
   "cell_type": "code",
   "execution_count": 59,
   "metadata": {},
   "outputs": [
    {
     "data": {
      "text/html": [
       "<div>\n",
       "<style scoped>\n",
       "    .dataframe tbody tr th:only-of-type {\n",
       "        vertical-align: middle;\n",
       "    }\n",
       "\n",
       "    .dataframe tbody tr th {\n",
       "        vertical-align: top;\n",
       "    }\n",
       "\n",
       "    .dataframe thead th {\n",
       "        text-align: right;\n",
       "    }\n",
       "</style>\n",
       "<table border=\"1\" class=\"dataframe\">\n",
       "  <thead>\n",
       "    <tr style=\"text-align: right;\">\n",
       "      <th></th>\n",
       "      <th></th>\n",
       "      <th>numerator</th>\n",
       "      <th>denominator</th>\n",
       "      <th>text</th>\n",
       "    </tr>\n",
       "    <tr>\n",
       "      <th>tweet_id</th>\n",
       "      <th>rating_no</th>\n",
       "      <th></th>\n",
       "      <th></th>\n",
       "      <th></th>\n",
       "    </tr>\n",
       "  </thead>\n",
       "  <tbody>\n",
       "    <tr>\n",
       "      <th>855862651834028034</th>\n",
       "      <th>0</th>\n",
       "      <td>420.0</td>\n",
       "      <td>10.0</td>\n",
       "      <td>@dhmontgomery We also gave snoop dogg a 420/10 but I think that predated your research</td>\n",
       "    </tr>\n",
       "    <tr>\n",
       "      <th>855860136149123072</th>\n",
       "      <th>0</th>\n",
       "      <td>666.0</td>\n",
       "      <td>10.0</td>\n",
       "      <td>@s8n You tried very hard to portray this good boy as not so good, but you have ultimately failed. His goodness shines through. 666/10</td>\n",
       "    </tr>\n",
       "    <tr>\n",
       "      <th>838150277551247360</th>\n",
       "      <th>0</th>\n",
       "      <td>182.0</td>\n",
       "      <td>10.0</td>\n",
       "      <td>@markhoppus 182/10</td>\n",
       "    </tr>\n",
       "    <tr>\n",
       "      <th>749981277374128128</th>\n",
       "      <th>0</th>\n",
       "      <td>1776.0</td>\n",
       "      <td>10.0</td>\n",
       "      <td>This is Atticus. He's quite simply America af. 1776/10 https://t.co/GRXwMxLBkh</td>\n",
       "    </tr>\n",
       "    <tr>\n",
       "      <th>670842764863651840</th>\n",
       "      <th>0</th>\n",
       "      <td>420.0</td>\n",
       "      <td>10.0</td>\n",
       "      <td>After so many requests... here you go.\\n\\nGood dogg. 420/10 https://t.co/yfAAo1gdeY</td>\n",
       "    </tr>\n",
       "  </tbody>\n",
       "</table>\n",
       "</div>"
      ],
      "text/plain": [
       "                              numerator  denominator  \\\n",
       "tweet_id           rating_no                           \n",
       "855862651834028034 0              420.0         10.0   \n",
       "855860136149123072 0              666.0         10.0   \n",
       "838150277551247360 0              182.0         10.0   \n",
       "749981277374128128 0             1776.0         10.0   \n",
       "670842764863651840 0              420.0         10.0   \n",
       "\n",
       "                                                                                                                                                               text  \n",
       "tweet_id           rating_no                                                                                                                                         \n",
       "855862651834028034 0                                                         @dhmontgomery We also gave snoop dogg a 420/10 but I think that predated your research  \n",
       "855860136149123072 0          @s8n You tried very hard to portray this good boy as not so good, but you have ultimately failed. His goodness shines through. 666/10  \n",
       "838150277551247360 0                                                                                                                             @markhoppus 182/10  \n",
       "749981277374128128 0                                                                 This is Atticus. He's quite simply America af. 1776/10 https://t.co/GRXwMxLBkh  \n",
       "670842764863651840 0                                                            After so many requests... here you go.\\n\\nGood dogg. 420/10 https://t.co/yfAAo1gdeY  "
      ]
     },
     "execution_count": 59,
     "metadata": {},
     "output_type": "execute_result"
    }
   ],
   "source": [
    "ratings_num_big = dog_ratings_df[dog_ratings_df.numerator > 17]\n",
    "ratings_num_big.join(twitter_df.text)"
   ]
  },
  {
   "cell_type": "markdown",
   "metadata": {},
   "source": [
    "Again for fair comparison in the rating, we'll remove any numerator ratings that are greater than 17.\n",
    "\n",
    "#### Cleaning\n",
    "Remove any numerator ratings that are greater than 17 in the ratings dataframe."
   ]
  },
  {
   "cell_type": "code",
   "execution_count": 60,
   "metadata": {},
   "outputs": [],
   "source": [
    "dog_ratings_df = dog_ratings_df[dog_ratings_df.numerator <= 17]\n",
    "\n",
    "# test\n",
    "assert (dog_ratings_df.numerator > 17).sum() == 0"
   ]
  },
  {
   "cell_type": "markdown",
   "metadata": {},
   "source": [
    "#### Reassessment\n",
    "Below description will show that now the rating numerators have sensible values between 10 to 17."
   ]
  },
  {
   "cell_type": "code",
   "execution_count": 61,
   "metadata": {},
   "outputs": [
    {
     "data": {
      "text/plain": [
       "count    2362.000000\n",
       "mean       10.687989\n",
       "std         2.201211\n",
       "min         0.000000\n",
       "25%        10.000000\n",
       "50%        11.000000\n",
       "75%        12.000000\n",
       "max        17.000000\n",
       "Name: numerator, dtype: float64"
      ]
     },
     "execution_count": 61,
     "metadata": {},
     "output_type": "execute_result"
    }
   ],
   "source": [
    "dog_ratings_df.numerator.describe()"
   ]
  },
  {
   "cell_type": "markdown",
   "metadata": {},
   "source": [
    "Now that the oddly high values of the numerator are settled, we'll now take care of the less than 10 numerator values."
   ]
  },
  {
   "cell_type": "code",
   "execution_count": 62,
   "metadata": {},
   "outputs": [
    {
     "data": {
      "text/html": [
       "<div>\n",
       "<style scoped>\n",
       "    .dataframe tbody tr th:only-of-type {\n",
       "        vertical-align: middle;\n",
       "    }\n",
       "\n",
       "    .dataframe tbody tr th {\n",
       "        vertical-align: top;\n",
       "    }\n",
       "\n",
       "    .dataframe thead th {\n",
       "        text-align: right;\n",
       "    }\n",
       "</style>\n",
       "<table border=\"1\" class=\"dataframe\">\n",
       "  <thead>\n",
       "    <tr style=\"text-align: right;\">\n",
       "      <th></th>\n",
       "      <th></th>\n",
       "      <th>numerator</th>\n",
       "      <th>denominator</th>\n",
       "    </tr>\n",
       "    <tr>\n",
       "      <th>tweet_id</th>\n",
       "      <th>rating_no</th>\n",
       "      <th></th>\n",
       "      <th></th>\n",
       "    </tr>\n",
       "  </thead>\n",
       "  <tbody>\n",
       "    <tr>\n",
       "      <th>870726314365509632</th>\n",
       "      <th>0</th>\n",
       "      <td>10.0</td>\n",
       "      <td>10.0</td>\n",
       "    </tr>\n",
       "    <tr>\n",
       "      <th>860177593139703809</th>\n",
       "      <th>0</th>\n",
       "      <td>10.0</td>\n",
       "      <td>10.0</td>\n",
       "    </tr>\n",
       "    <tr>\n",
       "      <th>851861385021730816</th>\n",
       "      <th>0</th>\n",
       "      <td>10.0</td>\n",
       "      <td>10.0</td>\n",
       "    </tr>\n",
       "    <tr>\n",
       "      <th>848212111729840128</th>\n",
       "      <th>0</th>\n",
       "      <td>6.0</td>\n",
       "      <td>10.0</td>\n",
       "    </tr>\n",
       "    <tr>\n",
       "      <th>847962785489326080</th>\n",
       "      <th>0</th>\n",
       "      <td>10.0</td>\n",
       "      <td>10.0</td>\n",
       "    </tr>\n",
       "    <tr>\n",
       "      <th>...</th>\n",
       "      <th>...</th>\n",
       "      <td>...</td>\n",
       "      <td>...</td>\n",
       "    </tr>\n",
       "    <tr>\n",
       "      <th>666049248165822465</th>\n",
       "      <th>0</th>\n",
       "      <td>5.0</td>\n",
       "      <td>10.0</td>\n",
       "    </tr>\n",
       "    <tr>\n",
       "      <th>666044226329800704</th>\n",
       "      <th>0</th>\n",
       "      <td>6.0</td>\n",
       "      <td>10.0</td>\n",
       "    </tr>\n",
       "    <tr>\n",
       "      <th>666033412701032449</th>\n",
       "      <th>0</th>\n",
       "      <td>9.0</td>\n",
       "      <td>10.0</td>\n",
       "    </tr>\n",
       "    <tr>\n",
       "      <th>666029285002620928</th>\n",
       "      <th>0</th>\n",
       "      <td>7.0</td>\n",
       "      <td>10.0</td>\n",
       "    </tr>\n",
       "    <tr>\n",
       "      <th>666020888022790149</th>\n",
       "      <th>0</th>\n",
       "      <td>8.0</td>\n",
       "      <td>10.0</td>\n",
       "    </tr>\n",
       "  </tbody>\n",
       "</table>\n",
       "<p>917 rows × 2 columns</p>\n",
       "</div>"
      ],
      "text/plain": [
       "                              numerator  denominator\n",
       "tweet_id           rating_no                        \n",
       "870726314365509632 0               10.0         10.0\n",
       "860177593139703809 0               10.0         10.0\n",
       "851861385021730816 0               10.0         10.0\n",
       "848212111729840128 0                6.0         10.0\n",
       "847962785489326080 0               10.0         10.0\n",
       "...                                 ...          ...\n",
       "666049248165822465 0                5.0         10.0\n",
       "666044226329800704 0                6.0         10.0\n",
       "666033412701032449 0                9.0         10.0\n",
       "666029285002620928 0                7.0         10.0\n",
       "666020888022790149 0                8.0         10.0\n",
       "\n",
       "[917 rows x 2 columns]"
      ]
     },
     "execution_count": 62,
     "metadata": {},
     "output_type": "execute_result"
    }
   ],
   "source": [
    "dog_ratings_df.query('numerator <= 10')"
   ]
  },
  {
   "cell_type": "markdown",
   "metadata": {},
   "source": [
    "There appears to be quite a lot, and we assumed that those people that gave numerator <= 10 does not know the rule that the numerator should be greater than 10. In this case then we'll assume that people who gave 0 is equivalent to giving rating of 10. Hence, we'll offset the numerator values by 10 for the rows that have their numerators <= 10.\n",
    "\n",
    "#### Cleaning\n",
    "For all the numerator values that are <= 10, increase their value by 10."
   ]
  },
  {
   "cell_type": "code",
   "execution_count": 63,
   "metadata": {},
   "outputs": [],
   "source": [
    "dog_ratings_df.loc[(dog_ratings_df.numerator <= 10), 'numerator'] += 10\n",
    "\n",
    "# test\n",
    "assert dog_ratings_df.numerator.min() >= 10"
   ]
  },
  {
   "cell_type": "markdown",
   "metadata": {},
   "source": [
    "#### Reassessment\n",
    "Below we show that now the numerator ranges from 10 to 20, which are very reasonable values."
   ]
  },
  {
   "cell_type": "code",
   "execution_count": 64,
   "metadata": {},
   "outputs": [
    {
     "data": {
      "text/plain": [
       "count    2362.000000\n",
       "mean       14.570292\n",
       "std         3.531272\n",
       "min        10.000000\n",
       "25%        12.000000\n",
       "50%        13.000000\n",
       "75%        19.000000\n",
       "max        20.000000\n",
       "Name: numerator, dtype: float64"
      ]
     },
     "execution_count": 64,
     "metadata": {},
     "output_type": "execute_result"
    }
   ],
   "source": [
    "dog_ratings_df.numerator.describe()"
   ]
  },
  {
   "cell_type": "markdown",
   "metadata": {},
   "source": [
    "Now we are settled with `dog_ratings_df`, and the only thing left to do is to drop the rating columns from `twitter_df`."
   ]
  },
  {
   "cell_type": "markdown",
   "metadata": {},
   "source": [
    "#### Cleaning\n",
    "Drop the rating columns `rating_numerator` and `rating_denominator` from `twitter_df`."
   ]
  },
  {
   "cell_type": "code",
   "execution_count": 65,
   "metadata": {},
   "outputs": [],
   "source": [
    "twitter_df.drop(columns=['rating_numerator', 'rating_denominator'], inplace=True)\n",
    "\n",
    "# test\n",
    "assert not twitter_df.columns.isin(['rating_numerator', 'rating_denominator']).any()"
   ]
  },
  {
   "cell_type": "markdown",
   "metadata": {},
   "source": [
    "#### Final Reassessment\n",
    "Below we'll do final reassessment of the final result of this cleaning effort for the dog ratings."
   ]
  },
  {
   "cell_type": "code",
   "execution_count": 66,
   "metadata": {},
   "outputs": [
    {
     "data": {
      "text/html": [
       "<div>\n",
       "<style scoped>\n",
       "    .dataframe tbody tr th:only-of-type {\n",
       "        vertical-align: middle;\n",
       "    }\n",
       "\n",
       "    .dataframe tbody tr th {\n",
       "        vertical-align: top;\n",
       "    }\n",
       "\n",
       "    .dataframe thead th {\n",
       "        text-align: right;\n",
       "    }\n",
       "</style>\n",
       "<table border=\"1\" class=\"dataframe\">\n",
       "  <thead>\n",
       "    <tr style=\"text-align: right;\">\n",
       "      <th></th>\n",
       "      <th></th>\n",
       "      <th>numerator</th>\n",
       "      <th>denominator</th>\n",
       "    </tr>\n",
       "    <tr>\n",
       "      <th>tweet_id</th>\n",
       "      <th>rating_no</th>\n",
       "      <th></th>\n",
       "      <th></th>\n",
       "    </tr>\n",
       "  </thead>\n",
       "  <tbody>\n",
       "    <tr>\n",
       "      <th>892420643555336193</th>\n",
       "      <th>0</th>\n",
       "      <td>13.0</td>\n",
       "      <td>10.0</td>\n",
       "    </tr>\n",
       "    <tr>\n",
       "      <th>892177421306343426</th>\n",
       "      <th>0</th>\n",
       "      <td>13.0</td>\n",
       "      <td>10.0</td>\n",
       "    </tr>\n",
       "  </tbody>\n",
       "</table>\n",
       "</div>"
      ],
      "text/plain": [
       "                              numerator  denominator\n",
       "tweet_id           rating_no                        \n",
       "892420643555336193 0               13.0         10.0\n",
       "892177421306343426 0               13.0         10.0"
      ]
     },
     "execution_count": 66,
     "metadata": {},
     "output_type": "execute_result"
    }
   ],
   "source": [
    "dog_ratings_df.head(2)"
   ]
  },
  {
   "cell_type": "code",
   "execution_count": 67,
   "metadata": {},
   "outputs": [
    {
     "name": "stdout",
     "output_type": "stream",
     "text": [
      "<class 'pandas.core.frame.DataFrame'>\n",
      "MultiIndex: 2362 entries, ('892420643555336193', 0) to ('666020888022790149', 0)\n",
      "Data columns (total 2 columns):\n",
      " #   Column       Non-Null Count  Dtype  \n",
      "---  ------       --------------  -----  \n",
      " 0   numerator    2362 non-null   float64\n",
      " 1   denominator  2362 non-null   float64\n",
      "dtypes: float64(2)\n",
      "memory usage: 142.4+ KB\n"
     ]
    }
   ],
   "source": [
    "dog_ratings_df.info()"
   ]
  },
  {
   "cell_type": "code",
   "execution_count": 68,
   "metadata": {},
   "outputs": [
    {
     "data": {
      "text/html": [
       "<div>\n",
       "<style scoped>\n",
       "    .dataframe tbody tr th:only-of-type {\n",
       "        vertical-align: middle;\n",
       "    }\n",
       "\n",
       "    .dataframe tbody tr th {\n",
       "        vertical-align: top;\n",
       "    }\n",
       "\n",
       "    .dataframe thead th {\n",
       "        text-align: right;\n",
       "    }\n",
       "</style>\n",
       "<table border=\"1\" class=\"dataframe\">\n",
       "  <thead>\n",
       "    <tr style=\"text-align: right;\">\n",
       "      <th></th>\n",
       "      <th>numerator</th>\n",
       "      <th>denominator</th>\n",
       "    </tr>\n",
       "  </thead>\n",
       "  <tbody>\n",
       "    <tr>\n",
       "      <th>count</th>\n",
       "      <td>2362.000000</td>\n",
       "      <td>2362.0</td>\n",
       "    </tr>\n",
       "    <tr>\n",
       "      <th>mean</th>\n",
       "      <td>14.570292</td>\n",
       "      <td>10.0</td>\n",
       "    </tr>\n",
       "    <tr>\n",
       "      <th>std</th>\n",
       "      <td>3.531272</td>\n",
       "      <td>0.0</td>\n",
       "    </tr>\n",
       "    <tr>\n",
       "      <th>min</th>\n",
       "      <td>10.000000</td>\n",
       "      <td>10.0</td>\n",
       "    </tr>\n",
       "    <tr>\n",
       "      <th>25%</th>\n",
       "      <td>12.000000</td>\n",
       "      <td>10.0</td>\n",
       "    </tr>\n",
       "    <tr>\n",
       "      <th>50%</th>\n",
       "      <td>13.000000</td>\n",
       "      <td>10.0</td>\n",
       "    </tr>\n",
       "    <tr>\n",
       "      <th>75%</th>\n",
       "      <td>19.000000</td>\n",
       "      <td>10.0</td>\n",
       "    </tr>\n",
       "    <tr>\n",
       "      <th>max</th>\n",
       "      <td>20.000000</td>\n",
       "      <td>10.0</td>\n",
       "    </tr>\n",
       "  </tbody>\n",
       "</table>\n",
       "</div>"
      ],
      "text/plain": [
       "         numerator  denominator\n",
       "count  2362.000000       2362.0\n",
       "mean     14.570292         10.0\n",
       "std       3.531272          0.0\n",
       "min      10.000000         10.0\n",
       "25%      12.000000         10.0\n",
       "50%      13.000000         10.0\n",
       "75%      19.000000         10.0\n",
       "max      20.000000         10.0"
      ]
     },
     "execution_count": 68,
     "metadata": {},
     "output_type": "execute_result"
    }
   ],
   "source": [
    "dog_ratings_df.describe()"
   ]
  },
  {
   "cell_type": "markdown",
   "metadata": {},
   "source": [
    "The assessments above shows that `dog_ratings_df` looks reasonable.\n",
    "\n",
    "Below we'll also see that the rating columns are no longer in `twitter_df`."
   ]
  },
  {
   "cell_type": "code",
   "execution_count": 69,
   "metadata": {},
   "outputs": [
    {
     "data": {
      "text/html": [
       "<div>\n",
       "<style scoped>\n",
       "    .dataframe tbody tr th:only-of-type {\n",
       "        vertical-align: middle;\n",
       "    }\n",
       "\n",
       "    .dataframe tbody tr th {\n",
       "        vertical-align: top;\n",
       "    }\n",
       "\n",
       "    .dataframe thead th {\n",
       "        text-align: right;\n",
       "    }\n",
       "</style>\n",
       "<table border=\"1\" class=\"dataframe\">\n",
       "  <thead>\n",
       "    <tr style=\"text-align: right;\">\n",
       "      <th></th>\n",
       "      <th>in_reply_to_status_id</th>\n",
       "      <th>in_reply_to_user_id</th>\n",
       "      <th>timestamp</th>\n",
       "      <th>source</th>\n",
       "      <th>text</th>\n",
       "      <th>retweeted_status_id</th>\n",
       "      <th>retweeted_status_user_id</th>\n",
       "      <th>retweeted_status_timestamp</th>\n",
       "      <th>expanded_urls</th>\n",
       "      <th>name</th>\n",
       "      <th>doggo</th>\n",
       "      <th>floofer</th>\n",
       "      <th>pupper</th>\n",
       "      <th>puppo</th>\n",
       "      <th>retweet_count</th>\n",
       "      <th>favorite_count</th>\n",
       "    </tr>\n",
       "    <tr>\n",
       "      <th>tweet_id</th>\n",
       "      <th></th>\n",
       "      <th></th>\n",
       "      <th></th>\n",
       "      <th></th>\n",
       "      <th></th>\n",
       "      <th></th>\n",
       "      <th></th>\n",
       "      <th></th>\n",
       "      <th></th>\n",
       "      <th></th>\n",
       "      <th></th>\n",
       "      <th></th>\n",
       "      <th></th>\n",
       "      <th></th>\n",
       "      <th></th>\n",
       "      <th></th>\n",
       "    </tr>\n",
       "  </thead>\n",
       "  <tbody>\n",
       "    <tr>\n",
       "      <th>892420643555336193</th>\n",
       "      <td>None</td>\n",
       "      <td>None</td>\n",
       "      <td>2017-08-01 16:23:56+00:00</td>\n",
       "      <td>&lt;a href=\"http://twitter.com/download/iphone\" r...</td>\n",
       "      <td>This is Phineas. He's a mystical boy. Only eve...</td>\n",
       "      <td>None</td>\n",
       "      <td>None</td>\n",
       "      <td>NaT</td>\n",
       "      <td>https://twitter.com/dog_rates/status/892420643...</td>\n",
       "      <td>Phineas</td>\n",
       "      <td>False</td>\n",
       "      <td>False</td>\n",
       "      <td>False</td>\n",
       "      <td>False</td>\n",
       "      <td>7417.0</td>\n",
       "      <td>35140.0</td>\n",
       "    </tr>\n",
       "    <tr>\n",
       "      <th>892177421306343426</th>\n",
       "      <td>None</td>\n",
       "      <td>None</td>\n",
       "      <td>2017-08-01 00:17:27+00:00</td>\n",
       "      <td>&lt;a href=\"http://twitter.com/download/iphone\" r...</td>\n",
       "      <td>This is Tilly. She's just checking pup on you....</td>\n",
       "      <td>None</td>\n",
       "      <td>None</td>\n",
       "      <td>NaT</td>\n",
       "      <td>https://twitter.com/dog_rates/status/892177421...</td>\n",
       "      <td>Tilly</td>\n",
       "      <td>False</td>\n",
       "      <td>False</td>\n",
       "      <td>False</td>\n",
       "      <td>False</td>\n",
       "      <td>5517.0</td>\n",
       "      <td>30411.0</td>\n",
       "    </tr>\n",
       "  </tbody>\n",
       "</table>\n",
       "</div>"
      ],
      "text/plain": [
       "                   in_reply_to_status_id in_reply_to_user_id  \\\n",
       "tweet_id                                                       \n",
       "892420643555336193                  None                None   \n",
       "892177421306343426                  None                None   \n",
       "\n",
       "                                   timestamp  \\\n",
       "tweet_id                                       \n",
       "892420643555336193 2017-08-01 16:23:56+00:00   \n",
       "892177421306343426 2017-08-01 00:17:27+00:00   \n",
       "\n",
       "                                                               source  \\\n",
       "tweet_id                                                                \n",
       "892420643555336193  <a href=\"http://twitter.com/download/iphone\" r...   \n",
       "892177421306343426  <a href=\"http://twitter.com/download/iphone\" r...   \n",
       "\n",
       "                                                                 text  \\\n",
       "tweet_id                                                                \n",
       "892420643555336193  This is Phineas. He's a mystical boy. Only eve...   \n",
       "892177421306343426  This is Tilly. She's just checking pup on you....   \n",
       "\n",
       "                   retweeted_status_id retweeted_status_user_id  \\\n",
       "tweet_id                                                          \n",
       "892420643555336193                None                     None   \n",
       "892177421306343426                None                     None   \n",
       "\n",
       "                   retweeted_status_timestamp  \\\n",
       "tweet_id                                        \n",
       "892420643555336193                        NaT   \n",
       "892177421306343426                        NaT   \n",
       "\n",
       "                                                        expanded_urls  \\\n",
       "tweet_id                                                                \n",
       "892420643555336193  https://twitter.com/dog_rates/status/892420643...   \n",
       "892177421306343426  https://twitter.com/dog_rates/status/892177421...   \n",
       "\n",
       "                       name  doggo  floofer  pupper  puppo  retweet_count  \\\n",
       "tweet_id                                                                    \n",
       "892420643555336193  Phineas  False    False   False  False         7417.0   \n",
       "892177421306343426    Tilly  False    False   False  False         5517.0   \n",
       "\n",
       "                    favorite_count  \n",
       "tweet_id                            \n",
       "892420643555336193         35140.0  \n",
       "892177421306343426         30411.0  "
      ]
     },
     "execution_count": 69,
     "metadata": {},
     "output_type": "execute_result"
    }
   ],
   "source": [
    "pd.options.display.max_colwidth = 50 # reset display\n",
    "twitter_df.head(2)"
   ]
  },
  {
   "cell_type": "markdown",
   "metadata": {},
   "source": [
    "### Data Tidiness - Dog Stage and Dog Name Columns should not be in `twitter_df`\n",
    "\n",
    "#### Assessment\n",
    "The dog stage columns `doggo`, `floofer`, `pupper`, and `puppo`, and the `name` column does not seem to belong in the `twitter_df`. They need their own table. We'll separate them into a new dataframe named `tweet_dog_info_df`.\n",
    "\n",
    "#### Cleaning\n",
    "Separate the columns `doggo`, `floofer`, `pupper`, `puppo`, and `name` into a new dataframe named `tweet_dog_info_df`."
   ]
  },
  {
   "cell_type": "code",
   "execution_count": 70,
   "metadata": {},
   "outputs": [],
   "source": [
    "dog_info_cols = ['name', 'doggo', 'floofer', 'pupper', 'puppo']\n",
    "tweet_dog_info_df = twitter_df[dog_info_cols].copy()"
   ]
  },
  {
   "cell_type": "markdown",
   "metadata": {},
   "source": [
    "Drop the columns from `twitter_df`."
   ]
  },
  {
   "cell_type": "code",
   "execution_count": 71,
   "metadata": {},
   "outputs": [],
   "source": [
    "twitter_df.drop(columns=dog_info_cols, inplace=True)\n",
    "\n",
    "# test\n",
    "assert not twitter_df.columns.isin(dog_info_cols).any()"
   ]
  },
  {
   "cell_type": "markdown",
   "metadata": {},
   "source": [
    "#### Reassessment\n",
    "Below we'll evaluate again the resulting dataframes."
   ]
  },
  {
   "cell_type": "code",
   "execution_count": 72,
   "metadata": {},
   "outputs": [
    {
     "data": {
      "text/html": [
       "<div>\n",
       "<style scoped>\n",
       "    .dataframe tbody tr th:only-of-type {\n",
       "        vertical-align: middle;\n",
       "    }\n",
       "\n",
       "    .dataframe tbody tr th {\n",
       "        vertical-align: top;\n",
       "    }\n",
       "\n",
       "    .dataframe thead th {\n",
       "        text-align: right;\n",
       "    }\n",
       "</style>\n",
       "<table border=\"1\" class=\"dataframe\">\n",
       "  <thead>\n",
       "    <tr style=\"text-align: right;\">\n",
       "      <th></th>\n",
       "      <th>name</th>\n",
       "      <th>doggo</th>\n",
       "      <th>floofer</th>\n",
       "      <th>pupper</th>\n",
       "      <th>puppo</th>\n",
       "    </tr>\n",
       "    <tr>\n",
       "      <th>tweet_id</th>\n",
       "      <th></th>\n",
       "      <th></th>\n",
       "      <th></th>\n",
       "      <th></th>\n",
       "      <th></th>\n",
       "    </tr>\n",
       "  </thead>\n",
       "  <tbody>\n",
       "    <tr>\n",
       "      <th>892420643555336193</th>\n",
       "      <td>Phineas</td>\n",
       "      <td>False</td>\n",
       "      <td>False</td>\n",
       "      <td>False</td>\n",
       "      <td>False</td>\n",
       "    </tr>\n",
       "    <tr>\n",
       "      <th>892177421306343426</th>\n",
       "      <td>Tilly</td>\n",
       "      <td>False</td>\n",
       "      <td>False</td>\n",
       "      <td>False</td>\n",
       "      <td>False</td>\n",
       "    </tr>\n",
       "  </tbody>\n",
       "</table>\n",
       "</div>"
      ],
      "text/plain": [
       "                       name  doggo  floofer  pupper  puppo\n",
       "tweet_id                                                  \n",
       "892420643555336193  Phineas  False    False   False  False\n",
       "892177421306343426    Tilly  False    False   False  False"
      ]
     },
     "execution_count": 72,
     "metadata": {},
     "output_type": "execute_result"
    }
   ],
   "source": [
    "tweet_dog_info_df.head(2)"
   ]
  },
  {
   "cell_type": "code",
   "execution_count": 73,
   "metadata": {},
   "outputs": [
    {
     "name": "stdout",
     "output_type": "stream",
     "text": [
      "<class 'pandas.core.frame.DataFrame'>\n",
      "Index: 2356 entries, 892420643555336193 to 666020888022790149\n",
      "Data columns (total 5 columns):\n",
      " #   Column   Non-Null Count  Dtype \n",
      "---  ------   --------------  ----- \n",
      " 0   name     2356 non-null   object\n",
      " 1   doggo    2356 non-null   bool  \n",
      " 2   floofer  2356 non-null   bool  \n",
      " 3   pupper   2356 non-null   bool  \n",
      " 4   puppo    2356 non-null   bool  \n",
      "dtypes: bool(4), object(1)\n",
      "memory usage: 126.0+ KB\n"
     ]
    }
   ],
   "source": [
    "tweet_dog_info_df.info()"
   ]
  },
  {
   "cell_type": "code",
   "execution_count": 74,
   "metadata": {},
   "outputs": [
    {
     "data": {
      "text/html": [
       "<div>\n",
       "<style scoped>\n",
       "    .dataframe tbody tr th:only-of-type {\n",
       "        vertical-align: middle;\n",
       "    }\n",
       "\n",
       "    .dataframe tbody tr th {\n",
       "        vertical-align: top;\n",
       "    }\n",
       "\n",
       "    .dataframe thead th {\n",
       "        text-align: right;\n",
       "    }\n",
       "</style>\n",
       "<table border=\"1\" class=\"dataframe\">\n",
       "  <thead>\n",
       "    <tr style=\"text-align: right;\">\n",
       "      <th></th>\n",
       "      <th>in_reply_to_status_id</th>\n",
       "      <th>in_reply_to_user_id</th>\n",
       "      <th>timestamp</th>\n",
       "      <th>source</th>\n",
       "      <th>text</th>\n",
       "      <th>retweeted_status_id</th>\n",
       "      <th>retweeted_status_user_id</th>\n",
       "      <th>retweeted_status_timestamp</th>\n",
       "      <th>expanded_urls</th>\n",
       "      <th>retweet_count</th>\n",
       "      <th>favorite_count</th>\n",
       "    </tr>\n",
       "    <tr>\n",
       "      <th>tweet_id</th>\n",
       "      <th></th>\n",
       "      <th></th>\n",
       "      <th></th>\n",
       "      <th></th>\n",
       "      <th></th>\n",
       "      <th></th>\n",
       "      <th></th>\n",
       "      <th></th>\n",
       "      <th></th>\n",
       "      <th></th>\n",
       "      <th></th>\n",
       "    </tr>\n",
       "  </thead>\n",
       "  <tbody>\n",
       "    <tr>\n",
       "      <th>892420643555336193</th>\n",
       "      <td>None</td>\n",
       "      <td>None</td>\n",
       "      <td>2017-08-01 16:23:56+00:00</td>\n",
       "      <td>&lt;a href=\"http://twitter.com/download/iphone\" r...</td>\n",
       "      <td>This is Phineas. He's a mystical boy. Only eve...</td>\n",
       "      <td>None</td>\n",
       "      <td>None</td>\n",
       "      <td>NaT</td>\n",
       "      <td>https://twitter.com/dog_rates/status/892420643...</td>\n",
       "      <td>7417.0</td>\n",
       "      <td>35140.0</td>\n",
       "    </tr>\n",
       "    <tr>\n",
       "      <th>892177421306343426</th>\n",
       "      <td>None</td>\n",
       "      <td>None</td>\n",
       "      <td>2017-08-01 00:17:27+00:00</td>\n",
       "      <td>&lt;a href=\"http://twitter.com/download/iphone\" r...</td>\n",
       "      <td>This is Tilly. She's just checking pup on you....</td>\n",
       "      <td>None</td>\n",
       "      <td>None</td>\n",
       "      <td>NaT</td>\n",
       "      <td>https://twitter.com/dog_rates/status/892177421...</td>\n",
       "      <td>5517.0</td>\n",
       "      <td>30411.0</td>\n",
       "    </tr>\n",
       "  </tbody>\n",
       "</table>\n",
       "</div>"
      ],
      "text/plain": [
       "                   in_reply_to_status_id in_reply_to_user_id  \\\n",
       "tweet_id                                                       \n",
       "892420643555336193                  None                None   \n",
       "892177421306343426                  None                None   \n",
       "\n",
       "                                   timestamp  \\\n",
       "tweet_id                                       \n",
       "892420643555336193 2017-08-01 16:23:56+00:00   \n",
       "892177421306343426 2017-08-01 00:17:27+00:00   \n",
       "\n",
       "                                                               source  \\\n",
       "tweet_id                                                                \n",
       "892420643555336193  <a href=\"http://twitter.com/download/iphone\" r...   \n",
       "892177421306343426  <a href=\"http://twitter.com/download/iphone\" r...   \n",
       "\n",
       "                                                                 text  \\\n",
       "tweet_id                                                                \n",
       "892420643555336193  This is Phineas. He's a mystical boy. Only eve...   \n",
       "892177421306343426  This is Tilly. She's just checking pup on you....   \n",
       "\n",
       "                   retweeted_status_id retweeted_status_user_id  \\\n",
       "tweet_id                                                          \n",
       "892420643555336193                None                     None   \n",
       "892177421306343426                None                     None   \n",
       "\n",
       "                   retweeted_status_timestamp  \\\n",
       "tweet_id                                        \n",
       "892420643555336193                        NaT   \n",
       "892177421306343426                        NaT   \n",
       "\n",
       "                                                        expanded_urls  \\\n",
       "tweet_id                                                                \n",
       "892420643555336193  https://twitter.com/dog_rates/status/892420643...   \n",
       "892177421306343426  https://twitter.com/dog_rates/status/892177421...   \n",
       "\n",
       "                    retweet_count  favorite_count  \n",
       "tweet_id                                           \n",
       "892420643555336193         7417.0         35140.0  \n",
       "892177421306343426         5517.0         30411.0  "
      ]
     },
     "execution_count": 74,
     "metadata": {},
     "output_type": "execute_result"
    }
   ],
   "source": [
    "twitter_df.head(2)"
   ]
  },
  {
   "cell_type": "code",
   "execution_count": 75,
   "metadata": {},
   "outputs": [
    {
     "name": "stdout",
     "output_type": "stream",
     "text": [
      "<class 'pandas.core.frame.DataFrame'>\n",
      "Index: 2356 entries, 892420643555336193 to 666020888022790149\n",
      "Data columns (total 11 columns):\n",
      " #   Column                      Non-Null Count  Dtype              \n",
      "---  ------                      --------------  -----              \n",
      " 0   in_reply_to_status_id       78 non-null     object             \n",
      " 1   in_reply_to_user_id         78 non-null     object             \n",
      " 2   timestamp                   2356 non-null   datetime64[ns, UTC]\n",
      " 3   source                      2356 non-null   object             \n",
      " 4   text                        2356 non-null   object             \n",
      " 5   retweeted_status_id         181 non-null    object             \n",
      " 6   retweeted_status_user_id    181 non-null    object             \n",
      " 7   retweeted_status_timestamp  181 non-null    datetime64[ns, UTC]\n",
      " 8   expanded_urls               2297 non-null   object             \n",
      " 9   retweet_count               2043 non-null   float64            \n",
      " 10  favorite_count              2043 non-null   float64            \n",
      "dtypes: datetime64[ns, UTC](2), float64(2), object(7)\n",
      "memory usage: 300.9+ KB\n"
     ]
    }
   ],
   "source": [
    "twitter_df.info()"
   ]
  },
  {
   "cell_type": "markdown",
   "metadata": {},
   "source": [
    "It is the concluded from assessments above that the structure of `twitter_df` is now tidy as it serves for a single function: to contain technical information for each tweet. `tweet_dog_info_df` then contains dog related information found from the tweet's status."
   ]
  },
  {
   "cell_type": "markdown",
   "metadata": {},
   "source": [
    "### Data Validity - Dog Name in `tweet_dog_info_df` Containing Invalid Names\n",
    "#### Assessment"
   ]
  },
  {
   "cell_type": "code",
   "execution_count": 76,
   "metadata": {},
   "outputs": [
    {
     "data": {
      "text/plain": [
       "array(['Abby', 'Ace', 'Acro', 'Adele', 'Aiden', 'Aja', 'Akumi', 'Al',\n",
       "       'Albert', 'Albus', 'Aldrick', 'Alejandro', 'Alexander',\n",
       "       'Alexanderson', 'Alf', 'Alfie', 'Alfy', 'Alice', 'Amber',\n",
       "       'Ambrose', 'Amy', 'Amélie', 'Anakin', 'Andru', 'Andy', 'Angel',\n",
       "       'Anna', 'Anthony', 'Antony', 'Apollo', 'Aqua', 'Archie', 'Arlen',\n",
       "       'Arlo', 'Arnie', 'Arnold', 'Arya', 'Ash', 'Asher', 'Ashleigh',\n",
       "       'Aspen', 'Astrid', 'Atlas', 'Atticus', 'Aubie', 'Augie', 'Autumn',\n",
       "       'Ava', 'Axel', 'Bailey', 'Baloo', 'Balto', 'Banditt', 'Banjo',\n",
       "       'Barclay', 'Barney', 'Baron', 'Barry', 'Batdog', 'Bauer', 'Baxter',\n",
       "       'Bayley', 'BeBe', 'Bear', 'Beau', 'Beckham', 'Beebop', 'Beemo',\n",
       "       'Bell', 'Bella', 'Belle', 'Ben', 'Benedict', 'Benji', 'Benny',\n",
       "       'Bentley', 'Berb', 'Berkeley', 'Bernie', 'Bert', 'Bertson',\n",
       "       'Betty', 'Beya', 'Biden', 'Bilbo', 'Billl', 'Billy', 'Binky',\n",
       "       'Birf', 'Bisquick', 'Blakely', 'Blanket', 'Blipson', 'Blitz',\n",
       "       'Bloo', 'Bloop', 'Blu', 'Blue', 'Bluebert', 'Bo', 'Bob', 'Bobb',\n",
       "       'Bobbay', 'Bobble', 'Bobby', 'Bode', 'Bodie', 'Bonaparte', 'Bones',\n",
       "       'Bookstore', 'Boomer', 'Boots', 'Boston', 'Bowie', 'Brad',\n",
       "       'Bradlay', 'Bradley', 'Brady', 'Brandi', 'Brandonald', 'Brandy',\n",
       "       'Brat', 'Brian', 'Brockly', 'Brody', 'Bronte', 'Brooks', 'Brownie',\n",
       "       'Bruce', 'Brudge', 'Bruiser', 'Bruno', 'Brutus', 'Bubba',\n",
       "       'Bubbles', 'Buckley', 'Buddah', 'Buddy', 'Bungalo', 'Burt',\n",
       "       'Butter', 'Butters', 'Cal', 'Calbert', 'Cali', 'Callie', 'Calvin',\n",
       "       'Canela', 'Cannon', 'Carbon', 'Carl', 'Carll', 'Carly', 'Carper',\n",
       "       'Carter', 'Caryl', 'Cash', 'Cassie', 'CeCe', 'Cecil', 'Cedrick',\n",
       "       'Cermet', 'Chadrick', 'Champ', 'Charl', 'Charles', 'Charleson',\n",
       "       'Charlie', 'Chase', 'Chaz', 'Cheesy', 'Chef', 'Chelsea', 'Cheryl',\n",
       "       'Chesney', 'Chester', 'Chesterson', 'Chet', 'Chevy', 'Chip',\n",
       "       'Chipson', 'Chloe', 'Chompsky', 'Christoper', 'Chubbs', 'Chuck',\n",
       "       'Chuckles', 'Chuq', 'Churlie', 'Cilantro', 'Clarence', 'Clark',\n",
       "       'Clarkus', 'Clarq', 'Claude', 'Cleopatricia', 'Clifford', 'Clybe',\n",
       "       'Clyde', 'Coco', 'Cody', 'Colby', 'Coleman', 'Colin', 'Combo',\n",
       "       'Comet', 'Cooper', 'Coops', 'Coopson', 'Cora', 'Corey', 'Covach',\n",
       "       'Craig', 'Crawford', 'Creg', 'Crimson', 'Crouton', 'Crumpet',\n",
       "       'Crystal', 'Cuddles', 'Cupcake', 'Cupid', 'Curtis', 'Daisy',\n",
       "       'Dakota', 'Dale', 'Dallas', 'Damon', 'Daniel', 'Danny', 'Dante',\n",
       "       'Darby', 'Darla', 'Darrel', 'Dash', 'Dave', 'Davey', 'Dawn',\n",
       "       'DayZ', 'Deacon', 'Derby', 'Derek', 'Devón', 'Dewey', 'Dex',\n",
       "       'Dexter', 'Dido', 'Dietrich', 'Diogi', 'Divine', 'Dixie', 'Django',\n",
       "       'Dobby', 'Doc', 'DonDon', 'Donny', 'Doobert', 'Dook', 'Dot',\n",
       "       'Dotsy', 'Doug', 'Duchess', 'Duddles', 'Dudley', 'Dug', 'Duke',\n",
       "       'Dunkin', 'Durg', 'Dutch', 'Dwight', 'Dylan', 'Earl', 'Eazy',\n",
       "       'Ebby', 'Ed', 'Edd', 'Edgar', 'Edmund', 'Eevee', 'Einstein',\n",
       "       'Eleanor', 'Eli', 'Ellie', 'Elliot', 'Emanuel', 'Ember', 'Emma',\n",
       "       'Emmie', 'Emmy', 'Enchilada', 'Erik', 'Eriq', 'Ester', 'Eugene',\n",
       "       'Eve', 'Evy', 'Fabio', 'Farfle', 'Ferg', 'Fido', 'Fiji', 'Fillup',\n",
       "       'Filup', 'Finley', 'Finn', 'Finnegus', 'Fiona', 'Fizz', 'Flash',\n",
       "       'Fletcher', 'Florence', 'Flurpson', 'Flávio', 'Frank', 'Frankie',\n",
       "       'Franklin', 'Franq', 'Fred', 'Freddery', 'Frönq', 'Furzey', 'Fwed',\n",
       "       'Fynn', 'Gabby', 'Gabe', 'Gary', 'General', 'Genevieve', 'Geno',\n",
       "       'Geoff', 'George', 'Georgie', 'Gerald', 'Gerbald', 'Gert',\n",
       "       'Gidget', 'Gilbert', 'Gin', 'Ginger', 'Gizmo', 'Glacier', 'Glenn',\n",
       "       'Godi', 'Godzilla', 'Goliath', 'Goose', 'Gordon', 'Grady', 'Grey',\n",
       "       'Griffin', 'Griswold', 'Grizz', 'Grizzie', 'Grizzwald', 'Gromit',\n",
       "       'Gunner', 'Gus', 'Gustaf', 'Gustav', 'Gòrdón', 'Hall', 'Halo',\n",
       "       'Hammond', 'Hamrick', 'Hank', 'Hanz', 'Happy', 'Harlso', 'Harnold',\n",
       "       'Harold', 'Harper', 'Harrison', 'Harry', 'Harvey', 'Hazel',\n",
       "       'Hector', 'Heinrich', 'Henry', 'Herald', 'Herb', 'Hercules',\n",
       "       'Herm', 'Hermione', 'Hero', 'Herschel', 'Hobbes', 'Holly',\n",
       "       'Horace', 'Howie', 'Hubertson', 'Huck', 'Humphrey', 'Hunter',\n",
       "       'Hurley', 'Huxley', 'Iggy', 'Ike', 'Indie', 'Iroh', 'Ito', 'Ivar',\n",
       "       'Izzy', 'JD', 'Jack', 'Jackie', 'Jackson', 'Jameson', 'Jamesy',\n",
       "       'Jangle', 'Jareld', 'Jarod', 'Jarvis', 'Jaspers', 'Jax', 'Jay',\n",
       "       'Jaycob', 'Jazz', 'Jazzy', 'Jeb', 'Jebberson', 'Jed', 'Jeffrey',\n",
       "       'Jeffri', 'Jeffrie', 'Jennifur', 'Jeph', 'Jeremy', 'Jerome',\n",
       "       'Jerry', 'Jersey', 'Jesse', 'Jessifer', 'Jessiga', 'Jett', 'Jim',\n",
       "       'Jimbo', 'Jiminus', 'Jiminy', 'Jimison', 'Jimothy', 'Jo',\n",
       "       'Jockson', 'Joey', 'Jomathan', 'Jonah', 'Jordy', 'Josep', 'Joshwa',\n",
       "       'Juckson', 'Julio', 'Julius', 'Juno', 'Kaia', 'Kaiya', 'Kallie',\n",
       "       'Kane', 'Kanu', 'Kara', 'Karl', 'Karll', 'Karma', 'Kathmandu',\n",
       "       'Katie', 'Kawhi', 'Kayla', 'Keet', 'Keith', 'Kellogg', 'Ken',\n",
       "       'Kendall', 'Kenneth', 'Kenny', 'Kenzie', 'Keurig', 'Kevin',\n",
       "       'Kevon', 'Kial', 'Kilo', 'Kingsley', 'Kirby', 'Kirk', 'Klein',\n",
       "       'Klevin', 'Kloey', 'Kobe', 'Koda', 'Kody', 'Koko', 'Kollin',\n",
       "       'Kona', 'Kota', 'Kramer', 'Kreg', 'Kreggory', 'Kulet', 'Kuyu',\n",
       "       'Kyle', 'Kyro', 'Lacy', 'Laela', 'Laika', 'Lambeau', 'Lance',\n",
       "       'Larry', 'Lassie', 'Layla', 'Leela', 'Lennon', 'Lenny', 'Lenox',\n",
       "       'Leo', 'Leonard', 'Leonidas', 'Levi', 'Liam', 'Lilah', 'Lili',\n",
       "       'Lilli', 'Lillie', 'Lilly', 'Lily', 'Lincoln', 'Linda', 'Link',\n",
       "       'Linus', 'Lipton', 'Livvie', 'Lizzie', 'Logan', 'Loki', 'Lola',\n",
       "       'Lolo', 'Longfellow', 'Loomis', 'Lorelei', 'Lorenzo', 'Lou',\n",
       "       'Louie', 'Louis', 'Luca', 'Lucia', 'Lucky', 'Lucy', 'Lugan',\n",
       "       'Lulu', 'Luna', 'Lupe', 'Luther', 'Mabel', 'Mac', 'Mack', 'Maddie',\n",
       "       'Maggie', 'Mairi', 'Maisey', 'Major', 'Maks', 'Malcolm', 'Malikai',\n",
       "       'Margo', 'Mark', 'Marlee', 'Marley', 'Marq', 'Marty', 'Marvin',\n",
       "       'Mary', 'Mason', 'Mattie', 'Maude', 'Mauve', 'Max', 'Maxaroni',\n",
       "       'Maximus', 'Maxwell', 'Maya', 'Meatball', 'Meera', 'Meyer', 'Mia',\n",
       "       'Michelangelope', 'Miguel', 'Mike', 'Miley', 'Milky', 'Millie',\n",
       "       'Milo', 'Mimosa', 'Mingus', 'Mister', 'Misty', 'Mitch', 'Mo',\n",
       "       'Moe', 'Mojo', 'Mollie', 'Molly', 'Mona', 'Monkey', 'Monster',\n",
       "       'Monty', 'Moofasa', 'Mookie', 'Moose', 'Moreton', 'Mosby',\n",
       "       'Murphy', 'Mutt', 'Mya', 'Nala', 'Naphaniel', 'Napolean', 'Nelly',\n",
       "       'Neptune', 'Newt', 'Nico', 'Nida', 'Nigel', 'Nimbus', 'Noah',\n",
       "       'Nollie', 'None', 'Noosh', 'Norman', 'Nugget', 'O', 'Oakley',\n",
       "       'Obi', 'Obie', 'Oddie', 'Odie', 'Odin', 'Olaf', 'Ole', 'Olive',\n",
       "       'Oliver', 'Olivia', 'Oliviér', 'Ollie', 'Opal', 'Opie', 'Oreo',\n",
       "       'Orion', 'Oscar', 'Oshie', 'Otis', 'Ozzie', 'Ozzy', 'Pablo',\n",
       "       'Paisley', 'Pancake', 'Panda', 'Patch', 'Patrick', 'Paull',\n",
       "       'Pavlov', 'Pawnd', 'Peaches', 'Peanut', 'Penelope', 'Penny',\n",
       "       'Pepper', 'Percy', 'Perry', 'Pete', 'Petrick', 'Pherb', 'Phil',\n",
       "       'Philbert', 'Philippe', 'Phineas', 'Phred', 'Pickles', 'Pilot',\n",
       "       'Pinot', 'Pip', 'Piper', 'Pippa', 'Pippin', 'Pipsy', 'Pluto',\n",
       "       'Poppy', 'Pubert', 'Puff', 'Pumpkin', 'Pupcasso', 'Quinn', 'Ralf',\n",
       "       'Ralph', 'Ralpher', 'Ralphie', 'Ralphson', 'Ralphus', 'Ralphy',\n",
       "       'Ralphé', 'Rambo', 'Randall', 'Raphael', 'Rascal', 'Raymond',\n",
       "       'Reagan', 'Reese', 'Reggie', 'Reginald', 'Remington', 'Remus',\n",
       "       'Remy', 'Reptar', 'Rey', 'Rhino', 'Richie', 'Ricky', 'Ridley',\n",
       "       'Riley', 'Rilo', 'Rinna', 'River', 'Rizzo', 'Rizzy', 'Robin',\n",
       "       'Rocco', 'Rocky', 'Rodman', 'Rodney', 'Rolf', 'Romeo', 'Ron',\n",
       "       'Ronduh', 'Ronnie', 'Rontu', 'Rooney', 'Roosevelt', 'Rorie',\n",
       "       'Rory', 'Roscoe', 'Rose', 'Rosie', 'Rover', 'Rubio', 'Ruby',\n",
       "       'Rudy', 'Rueben', 'Ruffles', 'Rufio', 'Rufus', 'Rumble', 'Rumpole',\n",
       "       'Rupert', 'Rusty', 'Sadie', 'Sage', 'Sailer', 'Sailor', 'Sam',\n",
       "       'Sammy', 'Sampson', 'Samsom', 'Samson', 'Sandra', 'Sandy', 'Sansa',\n",
       "       'Sarge', 'Saydee', 'Schnitzel', 'Schnozz', 'Scooter', 'Scott',\n",
       "       'Scout', 'Scruffers', 'Seamus', 'Sebastian', 'Sephie', 'Severus',\n",
       "       'Shadoe', 'Shadow', 'Shaggy', 'Shakespeare', 'Shawwn', 'Shelby',\n",
       "       'Shikha', 'Shiloh', 'Shnuggles', 'Shooter', 'Siba', 'Sid',\n",
       "       'Sierra', 'Simba', 'Skittle', 'Skittles', 'Sky', 'Skye', 'Smiley',\n",
       "       'Smokey', 'Snickers', 'Snicku', 'Snoop', 'Snoopy', 'Sobe', 'Socks',\n",
       "       'Sojourner', 'Solomon', 'Sonny', 'Sophie', 'Sora', 'Spanky',\n",
       "       'Spark', 'Sparky', 'Spencer', 'Sprinkles', 'Sprout', 'Staniel',\n",
       "       'Stanley', 'Stark', 'Stefan', 'Stella', 'Stephan', 'Stephanus',\n",
       "       'Steve', 'Steven', 'Stewie', 'Storkson', 'Stormy', 'Strider',\n",
       "       'Striker', 'Strudel', 'Stu', 'Stuart', 'Stubert', 'Sugar', 'Suki',\n",
       "       'Sully', 'Sundance', 'Sunny', 'Sunshine', 'Superpup', 'Swagger',\n",
       "       'Sweet', 'Sweets', 'Taco', 'Tango', 'Tanner', 'Tassy', 'Tater',\n",
       "       'Tayzie', 'Taz', 'Tebow', 'Ted', 'Tedders', 'Teddy', 'Tedrick',\n",
       "       'Terrance', 'Terrenth', 'Terry', 'Tess', 'Tessa', 'Theo',\n",
       "       'Theodore', 'Thor', 'Thumas', 'Tiger', 'Tilly', 'Timber',\n",
       "       'Timison', 'Timmy', 'Timofy', 'Tino', 'Titan', 'Tito', 'Tobi',\n",
       "       'Toby', 'Todo', 'Toffee', 'Tom', 'Tommy', 'Tonks', 'Torque',\n",
       "       'Tove', 'Travis', 'Traviss', 'Trevith', 'Trigger', 'Trip', 'Tripp',\n",
       "       'Trooper', 'Tuck', 'Tucker', 'Tuco', 'Tug', 'Tupawc', 'Tycho',\n",
       "       'Tyr', 'Tyrone', 'Tyrus', 'Ulysses', 'Venti', 'Vince', 'Vincent',\n",
       "       'Vinnie', 'Vinscent', 'Vixen', 'Wafer', 'Waffles', 'Walker',\n",
       "       'Wallace', 'Wally', 'Walter', 'Watson', 'Wesley', 'Wiggles',\n",
       "       'Willem', 'William', 'Willie', 'Willow', 'Willy', 'Wilson',\n",
       "       'Winifred', 'Winnie', 'Winston', 'Wishes', 'Wyatt', 'Yoda', 'Yogi',\n",
       "       'Yukon', 'Zara', 'Zeek', 'Zeke', 'Zeus', 'Ziva', 'Zoe', 'Zoey',\n",
       "       'Zooey', 'Zuzu', 'a', 'actually', 'all', 'an', 'by', 'getting',\n",
       "       'his', 'incredibly', 'infuriating', 'just', 'life', 'light', 'mad',\n",
       "       'my', 'not', 'officially', 'old', 'one', 'quite', 'space', 'such',\n",
       "       'the', 'this', 'unacceptable', 'very'], dtype=object)"
      ]
     },
     "execution_count": 76,
     "metadata": {},
     "output_type": "execute_result"
    }
   ],
   "source": [
    "names = tweet_dog_info_df.name.unique()\n",
    "names.sort()\n",
    "names"
   ]
  },
  {
   "cell_type": "markdown",
   "metadata": {},
   "source": [
    "From the above list of names, we can find several invalid names:\n",
    "- 'None'\n",
    "- 'a'\n",
    "- 'actually'\n",
    "- 'all'\n",
    "- 'an'\n",
    "- 'by'\n",
    "- 'getting'\n",
    "- 'his'\n",
    "- 'incredibly'\n",
    "- 'infuriating'\n",
    "- 'just'\n",
    "- 'life'\n",
    "- 'light'\n",
    "- 'mad'\n",
    "- 'my'\n",
    "- 'not'\n",
    "- 'officially'\n",
    "- 'old'\n",
    "- 'one'\n",
    "- 'quite'\n",
    "- 'space'\n",
    "- 'such'\n",
    "- 'the'\n",
    "- 'this'\n",
    "- 'unacceptable'\n",
    "- 'very'"
   ]
  },
  {
   "cell_type": "markdown",
   "metadata": {},
   "source": [
    "Mostly the invalid names are the \"None\" and all the names that starts with lower case.\n",
    "\n",
    "#### Cleaning\n",
    "We'll now change the names that are \"None\" or starting with lower case to be the actual `None` value."
   ]
  },
  {
   "cell_type": "code",
   "execution_count": 77,
   "metadata": {},
   "outputs": [],
   "source": [
    "lower_case_names = tweet_dog_info_df.name.str.contains('^[a-z]')\n",
    "tweet_dog_info_df.loc[lower_case_names, 'name'] = None\n",
    "\n",
    "# test\n",
    "assert tweet_dog_info_df.name.str.contains('^[a-z]').sum() == 0"
   ]
  },
  {
   "cell_type": "code",
   "execution_count": 78,
   "metadata": {},
   "outputs": [],
   "source": [
    "idxs_none = tweet_dog_info_df.name == 'None'\n",
    "tweet_dog_info_df.loc[idxs_none, 'name'] = None\n",
    "\n",
    "# test\n",
    "assert (tweet_dog_info_df.name == 'None').sum() == 0"
   ]
  },
  {
   "cell_type": "markdown",
   "metadata": {},
   "source": [
    "#### Reassessment"
   ]
  },
  {
   "cell_type": "code",
   "execution_count": 79,
   "metadata": {},
   "outputs": [
    {
     "data": {
      "text/plain": [
       "array(['Abby', 'Ace', 'Acro', 'Adele', 'Aiden', 'Aja', 'Akumi', 'Al',\n",
       "       'Albert', 'Albus', 'Aldrick', 'Alejandro', 'Alexander',\n",
       "       'Alexanderson', 'Alf', 'Alfie', 'Alfy', 'Alice', 'Amber',\n",
       "       'Ambrose', 'Amy', 'Amélie', 'Anakin', 'Andru', 'Andy', 'Angel',\n",
       "       'Anna', 'Anthony', 'Antony', 'Apollo', 'Aqua', 'Archie', 'Arlen',\n",
       "       'Arlo', 'Arnie', 'Arnold', 'Arya', 'Ash', 'Asher', 'Ashleigh',\n",
       "       'Aspen', 'Astrid', 'Atlas', 'Atticus', 'Aubie', 'Augie', 'Autumn',\n",
       "       'Ava', 'Axel', 'Bailey', 'Baloo', 'Balto', 'Banditt', 'Banjo',\n",
       "       'Barclay', 'Barney', 'Baron', 'Barry', 'Batdog', 'Bauer', 'Baxter',\n",
       "       'Bayley', 'BeBe', 'Bear', 'Beau', 'Beckham', 'Beebop', 'Beemo',\n",
       "       'Bell', 'Bella', 'Belle', 'Ben', 'Benedict', 'Benji', 'Benny',\n",
       "       'Bentley', 'Berb', 'Berkeley', 'Bernie', 'Bert', 'Bertson',\n",
       "       'Betty', 'Beya', 'Biden', 'Bilbo', 'Billl', 'Billy', 'Binky',\n",
       "       'Birf', 'Bisquick', 'Blakely', 'Blanket', 'Blipson', 'Blitz',\n",
       "       'Bloo', 'Bloop', 'Blu', 'Blue', 'Bluebert', 'Bo', 'Bob', 'Bobb',\n",
       "       'Bobbay', 'Bobble', 'Bobby', 'Bode', 'Bodie', 'Bonaparte', 'Bones',\n",
       "       'Bookstore', 'Boomer', 'Boots', 'Boston', 'Bowie', 'Brad',\n",
       "       'Bradlay', 'Bradley', 'Brady', 'Brandi', 'Brandonald', 'Brandy',\n",
       "       'Brat', 'Brian', 'Brockly', 'Brody', 'Bronte', 'Brooks', 'Brownie',\n",
       "       'Bruce', 'Brudge', 'Bruiser', 'Bruno', 'Brutus', 'Bubba',\n",
       "       'Bubbles', 'Buckley', 'Buddah', 'Buddy', 'Bungalo', 'Burt',\n",
       "       'Butter', 'Butters', 'Cal', 'Calbert', 'Cali', 'Callie', 'Calvin',\n",
       "       'Canela', 'Cannon', 'Carbon', 'Carl', 'Carll', 'Carly', 'Carper',\n",
       "       'Carter', 'Caryl', 'Cash', 'Cassie', 'CeCe', 'Cecil', 'Cedrick',\n",
       "       'Cermet', 'Chadrick', 'Champ', 'Charl', 'Charles', 'Charleson',\n",
       "       'Charlie', 'Chase', 'Chaz', 'Cheesy', 'Chef', 'Chelsea', 'Cheryl',\n",
       "       'Chesney', 'Chester', 'Chesterson', 'Chet', 'Chevy', 'Chip',\n",
       "       'Chipson', 'Chloe', 'Chompsky', 'Christoper', 'Chubbs', 'Chuck',\n",
       "       'Chuckles', 'Chuq', 'Churlie', 'Cilantro', 'Clarence', 'Clark',\n",
       "       'Clarkus', 'Clarq', 'Claude', 'Cleopatricia', 'Clifford', 'Clybe',\n",
       "       'Clyde', 'Coco', 'Cody', 'Colby', 'Coleman', 'Colin', 'Combo',\n",
       "       'Comet', 'Cooper', 'Coops', 'Coopson', 'Cora', 'Corey', 'Covach',\n",
       "       'Craig', 'Crawford', 'Creg', 'Crimson', 'Crouton', 'Crumpet',\n",
       "       'Crystal', 'Cuddles', 'Cupcake', 'Cupid', 'Curtis', 'Daisy',\n",
       "       'Dakota', 'Dale', 'Dallas', 'Damon', 'Daniel', 'Danny', 'Dante',\n",
       "       'Darby', 'Darla', 'Darrel', 'Dash', 'Dave', 'Davey', 'Dawn',\n",
       "       'DayZ', 'Deacon', 'Derby', 'Derek', 'Devón', 'Dewey', 'Dex',\n",
       "       'Dexter', 'Dido', 'Dietrich', 'Diogi', 'Divine', 'Dixie', 'Django',\n",
       "       'Dobby', 'Doc', 'DonDon', 'Donny', 'Doobert', 'Dook', 'Dot',\n",
       "       'Dotsy', 'Doug', 'Duchess', 'Duddles', 'Dudley', 'Dug', 'Duke',\n",
       "       'Dunkin', 'Durg', 'Dutch', 'Dwight', 'Dylan', 'Earl', 'Eazy',\n",
       "       'Ebby', 'Ed', 'Edd', 'Edgar', 'Edmund', 'Eevee', 'Einstein',\n",
       "       'Eleanor', 'Eli', 'Ellie', 'Elliot', 'Emanuel', 'Ember', 'Emma',\n",
       "       'Emmie', 'Emmy', 'Enchilada', 'Erik', 'Eriq', 'Ester', 'Eugene',\n",
       "       'Eve', 'Evy', 'Fabio', 'Farfle', 'Ferg', 'Fido', 'Fiji', 'Fillup',\n",
       "       'Filup', 'Finley', 'Finn', 'Finnegus', 'Fiona', 'Fizz', 'Flash',\n",
       "       'Fletcher', 'Florence', 'Flurpson', 'Flávio', 'Frank', 'Frankie',\n",
       "       'Franklin', 'Franq', 'Fred', 'Freddery', 'Frönq', 'Furzey', 'Fwed',\n",
       "       'Fynn', 'Gabby', 'Gabe', 'Gary', 'General', 'Genevieve', 'Geno',\n",
       "       'Geoff', 'George', 'Georgie', 'Gerald', 'Gerbald', 'Gert',\n",
       "       'Gidget', 'Gilbert', 'Gin', 'Ginger', 'Gizmo', 'Glacier', 'Glenn',\n",
       "       'Godi', 'Godzilla', 'Goliath', 'Goose', 'Gordon', 'Grady', 'Grey',\n",
       "       'Griffin', 'Griswold', 'Grizz', 'Grizzie', 'Grizzwald', 'Gromit',\n",
       "       'Gunner', 'Gus', 'Gustaf', 'Gustav', 'Gòrdón', 'Hall', 'Halo',\n",
       "       'Hammond', 'Hamrick', 'Hank', 'Hanz', 'Happy', 'Harlso', 'Harnold',\n",
       "       'Harold', 'Harper', 'Harrison', 'Harry', 'Harvey', 'Hazel',\n",
       "       'Hector', 'Heinrich', 'Henry', 'Herald', 'Herb', 'Hercules',\n",
       "       'Herm', 'Hermione', 'Hero', 'Herschel', 'Hobbes', 'Holly',\n",
       "       'Horace', 'Howie', 'Hubertson', 'Huck', 'Humphrey', 'Hunter',\n",
       "       'Hurley', 'Huxley', 'Iggy', 'Ike', 'Indie', 'Iroh', 'Ito', 'Ivar',\n",
       "       'Izzy', 'JD', 'Jack', 'Jackie', 'Jackson', 'Jameson', 'Jamesy',\n",
       "       'Jangle', 'Jareld', 'Jarod', 'Jarvis', 'Jaspers', 'Jax', 'Jay',\n",
       "       'Jaycob', 'Jazz', 'Jazzy', 'Jeb', 'Jebberson', 'Jed', 'Jeffrey',\n",
       "       'Jeffri', 'Jeffrie', 'Jennifur', 'Jeph', 'Jeremy', 'Jerome',\n",
       "       'Jerry', 'Jersey', 'Jesse', 'Jessifer', 'Jessiga', 'Jett', 'Jim',\n",
       "       'Jimbo', 'Jiminus', 'Jiminy', 'Jimison', 'Jimothy', 'Jo',\n",
       "       'Jockson', 'Joey', 'Jomathan', 'Jonah', 'Jordy', 'Josep', 'Joshwa',\n",
       "       'Juckson', 'Julio', 'Julius', 'Juno', 'Kaia', 'Kaiya', 'Kallie',\n",
       "       'Kane', 'Kanu', 'Kara', 'Karl', 'Karll', 'Karma', 'Kathmandu',\n",
       "       'Katie', 'Kawhi', 'Kayla', 'Keet', 'Keith', 'Kellogg', 'Ken',\n",
       "       'Kendall', 'Kenneth', 'Kenny', 'Kenzie', 'Keurig', 'Kevin',\n",
       "       'Kevon', 'Kial', 'Kilo', 'Kingsley', 'Kirby', 'Kirk', 'Klein',\n",
       "       'Klevin', 'Kloey', 'Kobe', 'Koda', 'Kody', 'Koko', 'Kollin',\n",
       "       'Kona', 'Kota', 'Kramer', 'Kreg', 'Kreggory', 'Kulet', 'Kuyu',\n",
       "       'Kyle', 'Kyro', 'Lacy', 'Laela', 'Laika', 'Lambeau', 'Lance',\n",
       "       'Larry', 'Lassie', 'Layla', 'Leela', 'Lennon', 'Lenny', 'Lenox',\n",
       "       'Leo', 'Leonard', 'Leonidas', 'Levi', 'Liam', 'Lilah', 'Lili',\n",
       "       'Lilli', 'Lillie', 'Lilly', 'Lily', 'Lincoln', 'Linda', 'Link',\n",
       "       'Linus', 'Lipton', 'Livvie', 'Lizzie', 'Logan', 'Loki', 'Lola',\n",
       "       'Lolo', 'Longfellow', 'Loomis', 'Lorelei', 'Lorenzo', 'Lou',\n",
       "       'Louie', 'Louis', 'Luca', 'Lucia', 'Lucky', 'Lucy', 'Lugan',\n",
       "       'Lulu', 'Luna', 'Lupe', 'Luther', 'Mabel', 'Mac', 'Mack', 'Maddie',\n",
       "       'Maggie', 'Mairi', 'Maisey', 'Major', 'Maks', 'Malcolm', 'Malikai',\n",
       "       'Margo', 'Mark', 'Marlee', 'Marley', 'Marq', 'Marty', 'Marvin',\n",
       "       'Mary', 'Mason', 'Mattie', 'Maude', 'Mauve', 'Max', 'Maxaroni',\n",
       "       'Maximus', 'Maxwell', 'Maya', 'Meatball', 'Meera', 'Meyer', 'Mia',\n",
       "       'Michelangelope', 'Miguel', 'Mike', 'Miley', 'Milky', 'Millie',\n",
       "       'Milo', 'Mimosa', 'Mingus', 'Mister', 'Misty', 'Mitch', 'Mo',\n",
       "       'Moe', 'Mojo', 'Mollie', 'Molly', 'Mona', 'Monkey', 'Monster',\n",
       "       'Monty', 'Moofasa', 'Mookie', 'Moose', 'Moreton', 'Mosby',\n",
       "       'Murphy', 'Mutt', 'Mya', 'Nala', 'Naphaniel', 'Napolean', 'Nelly',\n",
       "       'Neptune', 'Newt', 'Nico', 'Nida', 'Nigel', 'Nimbus', 'Noah',\n",
       "       'Nollie', 'Noosh', 'Norman', 'Nugget', 'O', 'Oakley', 'Obi',\n",
       "       'Obie', 'Oddie', 'Odie', 'Odin', 'Olaf', 'Ole', 'Olive', 'Oliver',\n",
       "       'Olivia', 'Oliviér', 'Ollie', 'Opal', 'Opie', 'Oreo', 'Orion',\n",
       "       'Oscar', 'Oshie', 'Otis', 'Ozzie', 'Ozzy', 'Pablo', 'Paisley',\n",
       "       'Pancake', 'Panda', 'Patch', 'Patrick', 'Paull', 'Pavlov', 'Pawnd',\n",
       "       'Peaches', 'Peanut', 'Penelope', 'Penny', 'Pepper', 'Percy',\n",
       "       'Perry', 'Pete', 'Petrick', 'Pherb', 'Phil', 'Philbert',\n",
       "       'Philippe', 'Phineas', 'Phred', 'Pickles', 'Pilot', 'Pinot', 'Pip',\n",
       "       'Piper', 'Pippa', 'Pippin', 'Pipsy', 'Pluto', 'Poppy', 'Pubert',\n",
       "       'Puff', 'Pumpkin', 'Pupcasso', 'Quinn', 'Ralf', 'Ralph', 'Ralpher',\n",
       "       'Ralphie', 'Ralphson', 'Ralphus', 'Ralphy', 'Ralphé', 'Rambo',\n",
       "       'Randall', 'Raphael', 'Rascal', 'Raymond', 'Reagan', 'Reese',\n",
       "       'Reggie', 'Reginald', 'Remington', 'Remus', 'Remy', 'Reptar',\n",
       "       'Rey', 'Rhino', 'Richie', 'Ricky', 'Ridley', 'Riley', 'Rilo',\n",
       "       'Rinna', 'River', 'Rizzo', 'Rizzy', 'Robin', 'Rocco', 'Rocky',\n",
       "       'Rodman', 'Rodney', 'Rolf', 'Romeo', 'Ron', 'Ronduh', 'Ronnie',\n",
       "       'Rontu', 'Rooney', 'Roosevelt', 'Rorie', 'Rory', 'Roscoe', 'Rose',\n",
       "       'Rosie', 'Rover', 'Rubio', 'Ruby', 'Rudy', 'Rueben', 'Ruffles',\n",
       "       'Rufio', 'Rufus', 'Rumble', 'Rumpole', 'Rupert', 'Rusty', 'Sadie',\n",
       "       'Sage', 'Sailer', 'Sailor', 'Sam', 'Sammy', 'Sampson', 'Samsom',\n",
       "       'Samson', 'Sandra', 'Sandy', 'Sansa', 'Sarge', 'Saydee',\n",
       "       'Schnitzel', 'Schnozz', 'Scooter', 'Scott', 'Scout', 'Scruffers',\n",
       "       'Seamus', 'Sebastian', 'Sephie', 'Severus', 'Shadoe', 'Shadow',\n",
       "       'Shaggy', 'Shakespeare', 'Shawwn', 'Shelby', 'Shikha', 'Shiloh',\n",
       "       'Shnuggles', 'Shooter', 'Siba', 'Sid', 'Sierra', 'Simba',\n",
       "       'Skittle', 'Skittles', 'Sky', 'Skye', 'Smiley', 'Smokey',\n",
       "       'Snickers', 'Snicku', 'Snoop', 'Snoopy', 'Sobe', 'Socks',\n",
       "       'Sojourner', 'Solomon', 'Sonny', 'Sophie', 'Sora', 'Spanky',\n",
       "       'Spark', 'Sparky', 'Spencer', 'Sprinkles', 'Sprout', 'Staniel',\n",
       "       'Stanley', 'Stark', 'Stefan', 'Stella', 'Stephan', 'Stephanus',\n",
       "       'Steve', 'Steven', 'Stewie', 'Storkson', 'Stormy', 'Strider',\n",
       "       'Striker', 'Strudel', 'Stu', 'Stuart', 'Stubert', 'Sugar', 'Suki',\n",
       "       'Sully', 'Sundance', 'Sunny', 'Sunshine', 'Superpup', 'Swagger',\n",
       "       'Sweet', 'Sweets', 'Taco', 'Tango', 'Tanner', 'Tassy', 'Tater',\n",
       "       'Tayzie', 'Taz', 'Tebow', 'Ted', 'Tedders', 'Teddy', 'Tedrick',\n",
       "       'Terrance', 'Terrenth', 'Terry', 'Tess', 'Tessa', 'Theo',\n",
       "       'Theodore', 'Thor', 'Thumas', 'Tiger', 'Tilly', 'Timber',\n",
       "       'Timison', 'Timmy', 'Timofy', 'Tino', 'Titan', 'Tito', 'Tobi',\n",
       "       'Toby', 'Todo', 'Toffee', 'Tom', 'Tommy', 'Tonks', 'Torque',\n",
       "       'Tove', 'Travis', 'Traviss', 'Trevith', 'Trigger', 'Trip', 'Tripp',\n",
       "       'Trooper', 'Tuck', 'Tucker', 'Tuco', 'Tug', 'Tupawc', 'Tycho',\n",
       "       'Tyr', 'Tyrone', 'Tyrus', 'Ulysses', 'Venti', 'Vince', 'Vincent',\n",
       "       'Vinnie', 'Vinscent', 'Vixen', 'Wafer', 'Waffles', 'Walker',\n",
       "       'Wallace', 'Wally', 'Walter', 'Watson', 'Wesley', 'Wiggles',\n",
       "       'Willem', 'William', 'Willie', 'Willow', 'Willy', 'Wilson',\n",
       "       'Winifred', 'Winnie', 'Winston', 'Wishes', 'Wyatt', 'Yoda', 'Yogi',\n",
       "       'Yukon', 'Zara', 'Zeek', 'Zeke', 'Zeus', 'Ziva', 'Zoe', 'Zoey',\n",
       "       'Zooey', 'Zuzu', 'nan'], dtype=object)"
      ]
     },
     "execution_count": 79,
     "metadata": {},
     "output_type": "execute_result"
    }
   ],
   "source": [
    "names = tweet_dog_info_df.name.astype(str).unique()\n",
    "names.sort()\n",
    "names"
   ]
  },
  {
   "cell_type": "markdown",
   "metadata": {},
   "source": [
    "As can be seen from the names above that all the invalid names that we observed before are now removed (replaced with `NaN`)."
   ]
  },
  {
   "cell_type": "markdown",
   "metadata": {},
   "source": [
    "### Dog Breed Values Assessment in `image_pred_df`\n",
    "\n",
    "#### Assessment\n",
    "Below we'll assess on the predicted dog breed names in the `image_pred_df`, to see any possible ambiguously similar dog breed names."
   ]
  },
  {
   "cell_type": "code",
   "execution_count": 80,
   "metadata": {},
   "outputs": [],
   "source": [
    "dog_breeds = pd.concat((image_pred_df.p1, image_pred_df.p2))\n",
    "dog_breeds = pd.concat((dog_breeds, image_pred_df.p3))\n",
    "dog_breeds = dog_breeds.unique()\n",
    "dog_breeds.sort()\n",
    "a = dog_breeds[:-1]\n",
    "b = dog_breeds[1:]\n",
    "a_lens = np.array([len(x) for x in a])\n",
    "b_lens = np.array([len(x) for x in b])"
   ]
  },
  {
   "cell_type": "code",
   "execution_count": 81,
   "metadata": {},
   "outputs": [],
   "source": [
    "# observe only the dog breed names whose length are similar with the previous (this is a sorted list)\n",
    "len_diffs = np.abs(b_lens - a_lens)\n",
    "idxs = len_diffs <= 2\n",
    "idxs = np.insert(idxs, 0, True)\n",
    "idxs_final = idxs[:-1] | idxs[1:]\n",
    "idxs_final = np.append(idxs_final, idxs[-1])"
   ]
  },
  {
   "cell_type": "code",
   "execution_count": 82,
   "metadata": {},
   "outputs": [
    {
     "data": {
      "text/plain": [
       "array(['Afghan_hound', 'African_chameleon', 'African_crocodile',\n",
       "       'American_alligator', 'American_black_bear', 'Appenzeller',\n",
       "       'Arabian_camel', 'Bedlington_terrier', 'Bernese_mountain_dog',\n",
       "       'Border_collie', 'Border_terrier', 'Brabancon_griffon',\n",
       "       'Brittany_spaniel', 'English_foxhound', 'English_setter',\n",
       "       'English_springer', 'EntleBucher', 'Eskimo_dog', 'French_horn',\n",
       "       'French_loaf', 'Gila_monster', 'Gordon_setter', 'Irish_setter',\n",
       "       'Irish_terrier', 'Irish_wolfhound', 'Italian_greyhound',\n",
       "       'Japanese_spaniel', 'Kerry_blue_terrier', 'Labrador_retriever',\n",
       "       'Lakeland_terrier', 'Lhasa', 'Loafer', 'Pekinese', 'Pembroke',\n",
       "       'Persian_cat', 'Pomeranian', 'Saluki', 'Samoyed',\n",
       "       'Scottish_deerhound', 'Sealyham_terrier', 'Shetland_sheepdog',\n",
       "       'Sussex_spaniel', 'Tibetan_mastiff', 'Tibetan_terrier',\n",
       "       'Walker_hound', 'Weimaraner', 'acorn_squash', 'affenpinscher',\n",
       "       'agama', 'alp', 'apron', 'axolotl', 'badger', 'bagel', 'bakery',\n",
       "       'balance_beam', 'bald_eagle', 'bannister', 'barbell',\n",
       "       'barber_chair', 'barbershop', 'barracouta', 'barrel', 'barrow',\n",
       "       'basenji', 'basset', 'bassinet', 'bath_towel', 'bathing_cap',\n",
       "       'beacon', 'beagle', 'bearskin', 'beaver', 'bee_eater', 'bell_cote',\n",
       "       'bighorn', 'binder', 'binoculars', 'birdhouse', 'black_swan',\n",
       "       'black_widow', 'bloodhound', 'bluetick', 'boathouse', 'bobsled',\n",
       "       'bolete', 'bonnet', 'bookcase', 'bookshop', 'borzoi', 'boxer',\n",
       "       'brass', 'breakwater', 'breastplate', 'briard', 'broccoli',\n",
       "       'brown_bear', 'bubble', 'bucket', 'buckeye', 'bullfrog', 'bustard',\n",
       "       'cab', 'cairn', 'candle', 'cannon', 'canoe', 'car_mirror',\n",
       "       'car_wheel', 'cardigan', 'cardoon', 'carousel', 'carton',\n",
       "       'chain_mail', 'chain_saw', 'cheetah', 'chest', 'chow', 'cliff',\n",
       "       'cloak', 'clog', 'cockroach', 'coffee_mug', 'coffeepot', 'coho',\n",
       "       'coil', 'collie', 'common_iguana', 'common_newt', 'convertible',\n",
       "       'coral_fungus', 'coral_reef', 'corn', 'cornet', 'cougar',\n",
       "       'cowboy_boot', 'cowboy_hat', 'coyote', 'cradle', 'crane', 'crutch',\n",
       "       'cuirass', 'dhole', 'dingo', 'dining_table', 'dishwasher',\n",
       "       'dogsled', 'doormat', 'dough', 'drake', 'dugong', 'dumbbell',\n",
       "       'earthstar', 'echidna', 'envelope', 'espresso', 'feather_boa',\n",
       "       'fiddler_crab', 'gas_pump', 'geyser', 'gibbon', 'go-kart',\n",
       "       'goldfish', 'golfcart', 'gondola', 'goose', 'gorilla',\n",
       "       'green_lizard', 'greenhouse', 'grey_fox', 'grey_whale',\n",
       "       'grocery_store', 'groenendael', 'guillotine', 'guinea_pig',\n",
       "       'hair_slide', 'hair_spray', 'hamper', 'hamster', 'hand_blower',\n",
       "       'handkerchief', 'hare', 'harp', 'harvester', 'hatchet', 'hay',\n",
       "       'hen', 'hermit_crab', 'hippopotamus', 'home_theater', 'horse_cart',\n",
       "       'house_finch', 'hummingbird', 'hyena', 'iPod', 'ibex', 'ice_bear',\n",
       "       'ice_lolly', 'jaguar', 'jean', 'jeep', 'keeshond', 'kelpie',\n",
       "       'komondor', 'kuvasz', 'lacewing', 'lakeside', 'lampshade',\n",
       "       'lawn_mower', 'leaf_beetle', 'leafhopper', 'lifeboat', 'lighter',\n",
       "       'limousine', 'lion', 'llama', 'macaque', 'mailbox', 'maillot',\n",
       "       'malamute', 'malinois', 'maraca', 'marmot', 'mask', 'maze',\n",
       "       'microphone', 'microwave', 'military_uniform',\n",
       "       'miniature_pinscher', 'miniature_poodle', 'minibus', 'minivan',\n",
       "       'mink', 'mitten', 'mongoose', 'monitor', 'moped', 'mortarboard',\n",
       "       'mosquito_net', 'motor_scooter', 'mountain_tent', 'mousetrap',\n",
       "       'mud_turtle', 'mushroom', 'muzzle', 'nail', 'neck_brace',\n",
       "       'necklace', 'nipple', 'notebook', 'ocarina', 'orange', 'ostrich',\n",
       "       'otter', 'pajama', 'palace', 'panpipe', 'papillon', 'parachute',\n",
       "       'park_bench', 'partridge', 'patio', 'peacock', 'pedestal',\n",
       "       'pelican', 'pencil_box', 'picket_fence', 'pickup', 'pier',\n",
       "       'pitcher', 'pizza', 'pool_table', 'pop_bottle', 'porcupine',\n",
       "       'pretzel', 'printer', 'prison', 'projectile', 'promontory',\n",
       "       'purse', 'quail', 'quill', 'quilt', 'racket', 'radiator',\n",
       "       'rapeseed', 'red_fox', 'red_wolf', 'redbone', 'refrigerator',\n",
       "       'remote_control', 'restaurant', 'revolver', 'rifle', 'robin',\n",
       "       'rock_crab', 'rotisserie', 'sandal', 'sandbar', 'sarong',\n",
       "       'schipperke', 'school_bus', 'scorpion', 'screen', 'screw',\n",
       "       'scuba_diver', 'sea_cucumber', 'sea_lion', 'sea_urchin',\n",
       "       'seashore', 'seat_belt', 'shield', 'shoji', 'shopping_basket',\n",
       "       'shopping_cart', 'sleeping_bag', 'sliding_door', 'slug', 'snail',\n",
       "       'snorkel', 'snow_leopard', 'snowmobile', 'solar_dish', 'sombrero',\n",
       "       'sorrel', 'space_heater', 'space_shuttle', 'spatula', 'spindle',\n",
       "       'sports_car', 'spotlight', 'squirrel_monkey', 'standard_poodle',\n",
       "       'stingray', 'stinkhorn', 'stone_wall', 'street_sign', 'streetcar',\n",
       "       'sundial', 'sunglass', 'sunglasses', 'swing', 'switch', 'syringe',\n",
       "       'tabby', 'table_lamp', 'tailed_frog', 'tarantula', 'teapot',\n",
       "       'teddy', 'television', 'tennis_ball', 'theater_curtain',\n",
       "       'three-toed_sloth', 'tick', 'tiger', 'tiger_cat', 'tiger_shark',\n",
       "       'timber_wolf', 'toilet_seat', 'toilet_tissue', 'torch', 'toucan',\n",
       "       'tow_truck', 'toy_poodle', 'toy_terrier', 'tree_frog',\n",
       "       'trench_coat', 'triceratops', 'tricycle', 'tripod', 'trombone',\n",
       "       'tusker', 'umbrella', 'upright', 'vacuum', 'valley', 'viaduct',\n",
       "       'vizsla', 'volcano', 'waffle_iron', 'walking_stick', 'wallaby',\n",
       "       'wallet', 'warthog', 'washbasin', 'water_bottle', 'water_buffalo',\n",
       "       'weasel', 'web_site', 'whippet', 'whiptail', 'white_wolf',\n",
       "       'window_screen', 'window_shade', 'wood_rabbit', 'wooden_spoon',\n",
       "       'wool', 'wreck', 'zebra'], dtype=object)"
      ]
     },
     "execution_count": 82,
     "metadata": {},
     "output_type": "execute_result"
    }
   ],
   "source": [
    "dog_breeds[idxs_final]"
   ]
  },
  {
   "cell_type": "markdown",
   "metadata": {},
   "source": [
    "Visually assessing the list of dog breed names above shows that there is no ambiguously similar dog breed name."
   ]
  },
  {
   "cell_type": "markdown",
   "metadata": {},
   "source": [
    "### Convert retweet and reply information columns in `twitter_df` into `is_retweet` and `is_reply`\n",
    "\n",
    "#### Assessment\n",
    "The following columns in `twitter_df` are deemed unnecessary for analysis:\n",
    "- `in_reply_to_status_id`\n",
    "- `in_reply_to_user_id`\n",
    "- `retweeted_status_id`\n",
    "- `retweeted_status_user_id`\n",
    "- `retweeted_status_timestamp`\n",
    "\n",
    "Reason is because knowing the exact status ID or User ID that the status is replying to or retweeting from is not useful for the analysis. However, the information that says \"this tweet is a reply\" or \"this tweet is a retweet\" will be useful and can be obtained from these columns, so we'll create those columns instead."
   ]
  },
  {
   "cell_type": "markdown",
   "metadata": {},
   "source": [
    "#### Cleaning\n",
    "Create new columns `is_reply` and `is_retweet`, where the value is `True` if the value of `in_reply_to_status_id` and `retweeted_status_id` is non-null respectively."
   ]
  },
  {
   "cell_type": "code",
   "execution_count": 83,
   "metadata": {},
   "outputs": [],
   "source": [
    "twitter_df['is_reply'] = twitter_df.in_reply_to_status_id.notna()\n",
    "twitter_df['is_retweet'] = twitter_df.retweeted_status_id.notna()\n",
    "\n",
    "# test\n",
    "assert twitter_df.is_reply.sum() == twitter_df.in_reply_to_status_id.notna().sum()\n",
    "assert twitter_df.is_retweet.sum() == twitter_df.retweeted_status_id.notna().sum()"
   ]
  },
  {
   "cell_type": "markdown",
   "metadata": {},
   "source": [
    "Drop the columns `in_reply_to_status_id`, `in_reply_to_user_id`, `retweeted_status_id`, `retweeted_status_user_id`, and `retweeted_status_timestamp` from `twitter_df`."
   ]
  },
  {
   "cell_type": "code",
   "execution_count": 84,
   "metadata": {},
   "outputs": [],
   "source": [
    "cols_to_drop = ['in_reply_to_status_id',\n",
    "                'in_reply_to_user_id',\n",
    "                'retweeted_status_id',\n",
    "                'retweeted_status_user_id',\n",
    "                'retweeted_status_timestamp']\n",
    "twitter_df.drop(columns=cols_to_drop, inplace=True)\n",
    "\n",
    "# test\n",
    "assert not twitter_df.columns.isin(cols_to_drop).any()"
   ]
  },
  {
   "cell_type": "markdown",
   "metadata": {},
   "source": [
    "#### Reassessment\n",
    "Below shows that now the `twitter_df` is more concise."
   ]
  },
  {
   "cell_type": "code",
   "execution_count": 85,
   "metadata": {},
   "outputs": [
    {
     "data": {
      "text/html": [
       "<div>\n",
       "<style scoped>\n",
       "    .dataframe tbody tr th:only-of-type {\n",
       "        vertical-align: middle;\n",
       "    }\n",
       "\n",
       "    .dataframe tbody tr th {\n",
       "        vertical-align: top;\n",
       "    }\n",
       "\n",
       "    .dataframe thead th {\n",
       "        text-align: right;\n",
       "    }\n",
       "</style>\n",
       "<table border=\"1\" class=\"dataframe\">\n",
       "  <thead>\n",
       "    <tr style=\"text-align: right;\">\n",
       "      <th></th>\n",
       "      <th>timestamp</th>\n",
       "      <th>source</th>\n",
       "      <th>text</th>\n",
       "      <th>expanded_urls</th>\n",
       "      <th>retweet_count</th>\n",
       "      <th>favorite_count</th>\n",
       "      <th>is_reply</th>\n",
       "      <th>is_retweet</th>\n",
       "    </tr>\n",
       "    <tr>\n",
       "      <th>tweet_id</th>\n",
       "      <th></th>\n",
       "      <th></th>\n",
       "      <th></th>\n",
       "      <th></th>\n",
       "      <th></th>\n",
       "      <th></th>\n",
       "      <th></th>\n",
       "      <th></th>\n",
       "    </tr>\n",
       "  </thead>\n",
       "  <tbody>\n",
       "    <tr>\n",
       "      <th>892420643555336193</th>\n",
       "      <td>2017-08-01 16:23:56+00:00</td>\n",
       "      <td>&lt;a href=\"http://twitter.com/download/iphone\" r...</td>\n",
       "      <td>This is Phineas. He's a mystical boy. Only eve...</td>\n",
       "      <td>https://twitter.com/dog_rates/status/892420643...</td>\n",
       "      <td>7417.0</td>\n",
       "      <td>35140.0</td>\n",
       "      <td>False</td>\n",
       "      <td>False</td>\n",
       "    </tr>\n",
       "    <tr>\n",
       "      <th>892177421306343426</th>\n",
       "      <td>2017-08-01 00:17:27+00:00</td>\n",
       "      <td>&lt;a href=\"http://twitter.com/download/iphone\" r...</td>\n",
       "      <td>This is Tilly. She's just checking pup on you....</td>\n",
       "      <td>https://twitter.com/dog_rates/status/892177421...</td>\n",
       "      <td>5517.0</td>\n",
       "      <td>30411.0</td>\n",
       "      <td>False</td>\n",
       "      <td>False</td>\n",
       "    </tr>\n",
       "    <tr>\n",
       "      <th>891815181378084864</th>\n",
       "      <td>2017-07-31 00:18:03+00:00</td>\n",
       "      <td>&lt;a href=\"http://twitter.com/download/iphone\" r...</td>\n",
       "      <td>This is Archie. He is a rare Norwegian Pouncin...</td>\n",
       "      <td>https://twitter.com/dog_rates/status/891815181...</td>\n",
       "      <td>3640.0</td>\n",
       "      <td>22869.0</td>\n",
       "      <td>False</td>\n",
       "      <td>False</td>\n",
       "    </tr>\n",
       "    <tr>\n",
       "      <th>891689557279858688</th>\n",
       "      <td>2017-07-30 15:58:51+00:00</td>\n",
       "      <td>&lt;a href=\"http://twitter.com/download/iphone\" r...</td>\n",
       "      <td>This is Darla. She commenced a snooze mid meal...</td>\n",
       "      <td>https://twitter.com/dog_rates/status/891689557...</td>\n",
       "      <td>7584.0</td>\n",
       "      <td>38400.0</td>\n",
       "      <td>False</td>\n",
       "      <td>False</td>\n",
       "    </tr>\n",
       "    <tr>\n",
       "      <th>891327558926688256</th>\n",
       "      <td>2017-07-29 16:00:24+00:00</td>\n",
       "      <td>&lt;a href=\"http://twitter.com/download/iphone\" r...</td>\n",
       "      <td>This is Franklin. He would like you to stop ca...</td>\n",
       "      <td>https://twitter.com/dog_rates/status/891327558...</td>\n",
       "      <td>8166.0</td>\n",
       "      <td>36651.0</td>\n",
       "      <td>False</td>\n",
       "      <td>False</td>\n",
       "    </tr>\n",
       "  </tbody>\n",
       "</table>\n",
       "</div>"
      ],
      "text/plain": [
       "                                   timestamp  \\\n",
       "tweet_id                                       \n",
       "892420643555336193 2017-08-01 16:23:56+00:00   \n",
       "892177421306343426 2017-08-01 00:17:27+00:00   \n",
       "891815181378084864 2017-07-31 00:18:03+00:00   \n",
       "891689557279858688 2017-07-30 15:58:51+00:00   \n",
       "891327558926688256 2017-07-29 16:00:24+00:00   \n",
       "\n",
       "                                                               source  \\\n",
       "tweet_id                                                                \n",
       "892420643555336193  <a href=\"http://twitter.com/download/iphone\" r...   \n",
       "892177421306343426  <a href=\"http://twitter.com/download/iphone\" r...   \n",
       "891815181378084864  <a href=\"http://twitter.com/download/iphone\" r...   \n",
       "891689557279858688  <a href=\"http://twitter.com/download/iphone\" r...   \n",
       "891327558926688256  <a href=\"http://twitter.com/download/iphone\" r...   \n",
       "\n",
       "                                                                 text  \\\n",
       "tweet_id                                                                \n",
       "892420643555336193  This is Phineas. He's a mystical boy. Only eve...   \n",
       "892177421306343426  This is Tilly. She's just checking pup on you....   \n",
       "891815181378084864  This is Archie. He is a rare Norwegian Pouncin...   \n",
       "891689557279858688  This is Darla. She commenced a snooze mid meal...   \n",
       "891327558926688256  This is Franklin. He would like you to stop ca...   \n",
       "\n",
       "                                                        expanded_urls  \\\n",
       "tweet_id                                                                \n",
       "892420643555336193  https://twitter.com/dog_rates/status/892420643...   \n",
       "892177421306343426  https://twitter.com/dog_rates/status/892177421...   \n",
       "891815181378084864  https://twitter.com/dog_rates/status/891815181...   \n",
       "891689557279858688  https://twitter.com/dog_rates/status/891689557...   \n",
       "891327558926688256  https://twitter.com/dog_rates/status/891327558...   \n",
       "\n",
       "                    retweet_count  favorite_count  is_reply  is_retweet  \n",
       "tweet_id                                                                 \n",
       "892420643555336193         7417.0         35140.0     False       False  \n",
       "892177421306343426         5517.0         30411.0     False       False  \n",
       "891815181378084864         3640.0         22869.0     False       False  \n",
       "891689557279858688         7584.0         38400.0     False       False  \n",
       "891327558926688256         8166.0         36651.0     False       False  "
      ]
     },
     "execution_count": 85,
     "metadata": {},
     "output_type": "execute_result"
    }
   ],
   "source": [
    "twitter_df.head()"
   ]
  },
  {
   "cell_type": "code",
   "execution_count": 86,
   "metadata": {},
   "outputs": [
    {
     "name": "stdout",
     "output_type": "stream",
     "text": [
      "<class 'pandas.core.frame.DataFrame'>\n",
      "Index: 2356 entries, 892420643555336193 to 666020888022790149\n",
      "Data columns (total 8 columns):\n",
      " #   Column          Non-Null Count  Dtype              \n",
      "---  ------          --------------  -----              \n",
      " 0   timestamp       2356 non-null   datetime64[ns, UTC]\n",
      " 1   source          2356 non-null   object             \n",
      " 2   text            2356 non-null   object             \n",
      " 3   expanded_urls   2297 non-null   object             \n",
      " 4   retweet_count   2043 non-null   float64            \n",
      " 5   favorite_count  2043 non-null   float64            \n",
      " 6   is_reply        2356 non-null   bool               \n",
      " 7   is_retweet      2356 non-null   bool               \n",
      "dtypes: bool(2), datetime64[ns, UTC](1), float64(2), object(3)\n",
      "memory usage: 213.4+ KB\n"
     ]
    }
   ],
   "source": [
    "twitter_df.info()"
   ]
  },
  {
   "cell_type": "markdown",
   "metadata": {},
   "source": [
    "### Remove all rows that are retweets or reply\n",
    "\n",
    "#### Assessment\n",
    "Some of the tweets are actually just retweets or replies, which may hamper analysis result. So from this we'll decide to remove those rows. Below shows number of rows that are either retweet or reply."
   ]
  },
  {
   "cell_type": "code",
   "execution_count": 87,
   "metadata": {},
   "outputs": [
    {
     "name": "stdout",
     "output_type": "stream",
     "text": [
      "Number of retweets or replies are 259, which is 11% of the whole twitter_df.\n"
     ]
    }
   ],
   "source": [
    "n = (twitter_df.is_retweet | twitter_df.is_reply).sum()\n",
    "p = n / twitter_df.shape[0]\n",
    "print(f'Number of retweets or replies are {n}, which is {p*100:.0f}% of the whole twitter_df.')"
   ]
  },
  {
   "cell_type": "markdown",
   "metadata": {},
   "source": [
    "#### Cleaning"
   ]
  },
  {
   "cell_type": "code",
   "execution_count": 88,
   "metadata": {},
   "outputs": [],
   "source": [
    "twitter_df = twitter_df[(~twitter_df.is_retweet) & (~twitter_df.is_reply)]"
   ]
  },
  {
   "cell_type": "markdown",
   "metadata": {},
   "source": [
    "### Convert `source` column values in `twitter_df` into categorical values\n",
    "\n",
    "#### Assessment\n",
    "Evaluating the unique values of the `source` column in `twitter_df` (shown below), there are only 4 unique values. To be more concise, we can convert this column into a categorical column instead."
   ]
  },
  {
   "cell_type": "code",
   "execution_count": 89,
   "metadata": {},
   "outputs": [
    {
     "data": {
      "text/plain": [
       "array(['<a href=\"http://twitter.com/download/iphone\" rel=\"nofollow\">Twitter for iPhone</a>',\n",
       "       '<a href=\"http://twitter.com\" rel=\"nofollow\">Twitter Web Client</a>',\n",
       "       '<a href=\"http://vine.co\" rel=\"nofollow\">Vine - Make a Scene</a>',\n",
       "       '<a href=\"https://about.twitter.com/products/tweetdeck\" rel=\"nofollow\">TweetDeck</a>'],\n",
       "      dtype=object)"
      ]
     },
     "execution_count": 89,
     "metadata": {},
     "output_type": "execute_result"
    }
   ],
   "source": [
    "twitter_df.source.unique()"
   ]
  },
  {
   "cell_type": "markdown",
   "metadata": {},
   "source": [
    "#### Cleaning\n",
    "Convert `source` column in `twitter_df` into a categorical column with value: `iphone`, `web_client`, `vine`, and `tweet_deck`."
   ]
  },
  {
   "cell_type": "code",
   "execution_count": 90,
   "metadata": {},
   "outputs": [],
   "source": [
    "def conv_to_source_category(x):\n",
    "    if 'iphone' in x: return 'iphone'\n",
    "    elif 'Web Client' in x: return 'webclient'\n",
    "    elif 'vine' in x: return 'vine'\n",
    "    elif 'tweetdeck' in x: return 'tweetdeck'\n",
    "    else: return None\n",
    "twitter_df.source = twitter_df.source.apply(conv_to_source_category).astype('category')\n",
    "\n",
    "# test\n",
    "assert ptypes.is_categorical_dtype(twitter_df.source.dtype)\n",
    "assert twitter_df.source.dtype.categories.isin(['iphone', 'tweetdeck', 'vine', 'webclient']).all()"
   ]
  },
  {
   "cell_type": "markdown",
   "metadata": {},
   "source": [
    "####  Reassessment\n",
    "We can see below that now the `source` column is categorical."
   ]
  },
  {
   "cell_type": "code",
   "execution_count": 91,
   "metadata": {},
   "outputs": [
    {
     "data": {
      "text/plain": [
       "['iphone', 'webclient', 'vine', 'tweetdeck']\n",
       "Categories (4, object): ['iphone', 'webclient', 'vine', 'tweetdeck']"
      ]
     },
     "execution_count": 91,
     "metadata": {},
     "output_type": "execute_result"
    }
   ],
   "source": [
    "twitter_df.source.unique()"
   ]
  },
  {
   "cell_type": "markdown",
   "metadata": {},
   "source": [
    "### Dropping completely null values from `tweet_dog_info_df`\n",
    "\n",
    "#### Assessment\n",
    "After all the cleaning done, it is found that the `tweet_dog_info_df` contains a lot of \"completely null rows\". By completely null rows, we mean rows in which all the columns are null. For the dog stages columns `doggo`, `floofer`, `pupper`, and `puppo`, if all of them are `False` and the corresponding `name` column is null, then the row will considered as completely null as well, because this row is practically useless. Below we'll see that there are 678 completely null rows in `tweet_dog_info_df`."
   ]
  },
  {
   "cell_type": "code",
   "execution_count": 92,
   "metadata": {},
   "outputs": [
    {
     "data": {
      "text/html": [
       "<div>\n",
       "<style scoped>\n",
       "    .dataframe tbody tr th:only-of-type {\n",
       "        vertical-align: middle;\n",
       "    }\n",
       "\n",
       "    .dataframe tbody tr th {\n",
       "        vertical-align: top;\n",
       "    }\n",
       "\n",
       "    .dataframe thead th {\n",
       "        text-align: right;\n",
       "    }\n",
       "</style>\n",
       "<table border=\"1\" class=\"dataframe\">\n",
       "  <thead>\n",
       "    <tr style=\"text-align: right;\">\n",
       "      <th></th>\n",
       "      <th>name</th>\n",
       "      <th>doggo</th>\n",
       "      <th>floofer</th>\n",
       "      <th>pupper</th>\n",
       "      <th>puppo</th>\n",
       "    </tr>\n",
       "    <tr>\n",
       "      <th>tweet_id</th>\n",
       "      <th></th>\n",
       "      <th></th>\n",
       "      <th></th>\n",
       "      <th></th>\n",
       "      <th></th>\n",
       "    </tr>\n",
       "  </thead>\n",
       "  <tbody>\n",
       "    <tr>\n",
       "      <th>891087950875897856</th>\n",
       "      <td>None</td>\n",
       "      <td>False</td>\n",
       "      <td>False</td>\n",
       "      <td>False</td>\n",
       "      <td>False</td>\n",
       "    </tr>\n",
       "    <tr>\n",
       "      <th>890729181411237888</th>\n",
       "      <td>None</td>\n",
       "      <td>False</td>\n",
       "      <td>False</td>\n",
       "      <td>False</td>\n",
       "      <td>False</td>\n",
       "    </tr>\n",
       "    <tr>\n",
       "      <th>887517139158093824</th>\n",
       "      <td>None</td>\n",
       "      <td>False</td>\n",
       "      <td>False</td>\n",
       "      <td>False</td>\n",
       "      <td>False</td>\n",
       "    </tr>\n",
       "    <tr>\n",
       "      <th>887343217045368832</th>\n",
       "      <td>None</td>\n",
       "      <td>False</td>\n",
       "      <td>False</td>\n",
       "      <td>False</td>\n",
       "      <td>False</td>\n",
       "    </tr>\n",
       "    <tr>\n",
       "      <th>887101392804085760</th>\n",
       "      <td>None</td>\n",
       "      <td>False</td>\n",
       "      <td>False</td>\n",
       "      <td>False</td>\n",
       "      <td>False</td>\n",
       "    </tr>\n",
       "    <tr>\n",
       "      <th>...</th>\n",
       "      <td>...</td>\n",
       "      <td>...</td>\n",
       "      <td>...</td>\n",
       "      <td>...</td>\n",
       "      <td>...</td>\n",
       "    </tr>\n",
       "    <tr>\n",
       "      <th>666049248165822465</th>\n",
       "      <td>None</td>\n",
       "      <td>False</td>\n",
       "      <td>False</td>\n",
       "      <td>False</td>\n",
       "      <td>False</td>\n",
       "    </tr>\n",
       "    <tr>\n",
       "      <th>666044226329800704</th>\n",
       "      <td>None</td>\n",
       "      <td>False</td>\n",
       "      <td>False</td>\n",
       "      <td>False</td>\n",
       "      <td>False</td>\n",
       "    </tr>\n",
       "    <tr>\n",
       "      <th>666033412701032449</th>\n",
       "      <td>None</td>\n",
       "      <td>False</td>\n",
       "      <td>False</td>\n",
       "      <td>False</td>\n",
       "      <td>False</td>\n",
       "    </tr>\n",
       "    <tr>\n",
       "      <th>666029285002620928</th>\n",
       "      <td>None</td>\n",
       "      <td>False</td>\n",
       "      <td>False</td>\n",
       "      <td>False</td>\n",
       "      <td>False</td>\n",
       "    </tr>\n",
       "    <tr>\n",
       "      <th>666020888022790149</th>\n",
       "      <td>None</td>\n",
       "      <td>False</td>\n",
       "      <td>False</td>\n",
       "      <td>False</td>\n",
       "      <td>False</td>\n",
       "    </tr>\n",
       "  </tbody>\n",
       "</table>\n",
       "<p>678 rows × 5 columns</p>\n",
       "</div>"
      ],
      "text/plain": [
       "                    name  doggo  floofer  pupper  puppo\n",
       "tweet_id                                               \n",
       "891087950875897856  None  False    False   False  False\n",
       "890729181411237888  None  False    False   False  False\n",
       "887517139158093824  None  False    False   False  False\n",
       "887343217045368832  None  False    False   False  False\n",
       "887101392804085760  None  False    False   False  False\n",
       "...                  ...    ...      ...     ...    ...\n",
       "666049248165822465  None  False    False   False  False\n",
       "666044226329800704  None  False    False   False  False\n",
       "666033412701032449  None  False    False   False  False\n",
       "666029285002620928  None  False    False   False  False\n",
       "666020888022790149  None  False    False   False  False\n",
       "\n",
       "[678 rows x 5 columns]"
      ]
     },
     "execution_count": 92,
     "metadata": {},
     "output_type": "execute_result"
    }
   ],
   "source": [
    "null_rows = tweet_dog_info_df.name.isna() & (tweet_dog_info_df[['doggo', 'floofer', 'pupper', 'puppo']].sum(axis=1) == 0)\n",
    "tweet_dog_info_df.loc[null_rows]"
   ]
  },
  {
   "cell_type": "markdown",
   "metadata": {},
   "source": [
    "#### Cleaning\n",
    "Drop all the completely null rows from `tweet_dog_info_df`, i.e. rows whose `name` is null and whose dog stages columns are all `False`."
   ]
  },
  {
   "cell_type": "code",
   "execution_count": 93,
   "metadata": {},
   "outputs": [],
   "source": [
    "null_rows = tweet_dog_info_df.name.isna() & (tweet_dog_info_df[['doggo', 'floofer', 'pupper', 'puppo']].sum(axis=1) == 0)\n",
    "tweet_dog_info_df = tweet_dog_info_df.loc[~null_rows].copy()\n",
    "\n",
    "# test\n",
    "null_rows_new = tweet_dog_info_df.name.isna() & (tweet_dog_info_df[['doggo', 'floofer', 'pupper', 'puppo']].sum(axis=1) == 0)\n",
    "assert null_rows_new.sum() == 0"
   ]
  },
  {
   "cell_type": "markdown",
   "metadata": {},
   "source": [
    "#### Reassessment\n",
    "Below we'll see that there are no more rows that are completely null in `tweet_dog_info_df`."
   ]
  },
  {
   "cell_type": "code",
   "execution_count": 94,
   "metadata": {},
   "outputs": [
    {
     "name": "stdout",
     "output_type": "stream",
     "text": [
      "Number of completely null rows in \"tweet_dog_info_df\": 0\n"
     ]
    }
   ],
   "source": [
    "print(f'Number of completely null rows in \"tweet_dog_info_df\": {null_rows_new.sum()}')"
   ]
  },
  {
   "cell_type": "markdown",
   "metadata": {},
   "source": [
    "### Data Tidiness for `image_pred_df`\n",
    "\n",
    "#### Assessment\n",
    "The following columns in `image_pred_df` do not respect the data tidiness rule where each variable should be represented by a single column (they are instead represented by 3 columns):\n",
    "- p1, p1_conf, p1_dog\n",
    "- p2, p2_conf, p2_dog\n",
    "- p3, p3_conf, p3_dog"
   ]
  },
  {
   "cell_type": "markdown",
   "metadata": {},
   "source": [
    "#### Cleaning\n",
    "Melt the following columns:\n",
    "- p1, p1_conf, p1_dog\n",
    "- p2, p2_conf, p2_dog\n",
    "- p3, p3_conf, p3_dog\n",
    "\n",
    "into the following columns:\n",
    "- pred_level (the value is either 1, 2, or 3)\n",
    "- pred_confidence\n",
    "- pred_class\n",
    "- is_dog"
   ]
  },
  {
   "cell_type": "code",
   "execution_count": 95,
   "metadata": {},
   "outputs": [],
   "source": [
    "# melt for each variable\n",
    "id_vars = ['tweet_id', 'jpg_url', 'img_num']\n",
    "pred_class_df = pd.melt(image_pred_df.reset_index(), id_vars=id_vars, value_vars=['p1', 'p2', 'p3'],\n",
    "                        var_name='pred_level', value_name='pred_class')\n",
    "pred_conf_df = pd.melt(image_pred_df.reset_index(), id_vars=id_vars, value_vars=['p1_conf', 'p2_conf', 'p3_conf'],\n",
    "                        var_name='pred_level', value_name='pred_confidence')\n",
    "pred_is_dog_df = pd.melt(image_pred_df.reset_index(), id_vars=id_vars, value_vars=['p1_dog', 'p2_dog', 'p3_dog'],\n",
    "                        var_name='pred_level', value_name='is_dog')\n",
    "\n",
    "# extract the number for the prediction level\n",
    "pred_class_df.pred_level = pred_class_df.pred_level.str.extract('(\\d+)').astype(int)\n",
    "pred_conf_df.pred_level = pred_conf_df.pred_level.str.extract('(\\d+)').astype(int)\n",
    "pred_is_dog_df.pred_level = pred_is_dog_df.pred_level.str.extract('(\\d+)').astype(int)\n",
    "\n",
    "# join the dataframes\n",
    "on_cols = ['tweet_id', 'jpg_url', 'img_num', 'pred_level']\n",
    "image_pred_df = pred_class_df.merge(pred_conf_df, on=on_cols, how='outer').merge(pred_is_dog_df, on=on_cols, how='outer')"
   ]
  },
  {
   "cell_type": "code",
   "execution_count": 96,
   "metadata": {},
   "outputs": [],
   "source": [
    "# convert pred_level to be categorical column\n",
    "levels = image_pred_df.pred_level.unique()\n",
    "levels.sort()\n",
    "pred_levels_category = pd.api.types.CategoricalDtype(categories=levels, ordered=True)\n",
    "image_pred_df.pred_level = image_pred_df.pred_level.astype(pred_levels_category)"
   ]
  },
  {
   "cell_type": "code",
   "execution_count": 97,
   "metadata": {},
   "outputs": [],
   "source": [
    "# rename columns\n",
    "image_pred_df.rename(columns={'jpg_url': 'img_url',\n",
    "                             'img_num': 'img_idx'},\n",
    "                    inplace=True)"
   ]
  },
  {
   "cell_type": "code",
   "execution_count": 98,
   "metadata": {},
   "outputs": [],
   "source": [
    "# set index\n",
    "image_pred_df.set_index(['tweet_id', 'img_idx', 'pred_level'], inplace=True)"
   ]
  },
  {
   "cell_type": "code",
   "execution_count": 99,
   "metadata": {},
   "outputs": [
    {
     "data": {
      "text/plain": [
       "tweet_id            img_idx  pred_level\n",
       "666020888022790149  1        1             https://pbs.twimg.com/media/CT4udn0WwAA0aMy.jpg\n",
       "666029285002620928  1        1             https://pbs.twimg.com/media/CT42GRgUYAA5iDo.jpg\n",
       "666033412701032449  1        1             https://pbs.twimg.com/media/CT4521TWwAEvMyu.jpg\n",
       "666044226329800704  1        1             https://pbs.twimg.com/media/CT5Dr8HUEAA-lEu.jpg\n",
       "666049248165822465  1        1             https://pbs.twimg.com/media/CT5IQmsXIAAKY4A.jpg\n",
       "                                                                ...                       \n",
       "891327558926688256  2        1             https://pbs.twimg.com/media/DF6hr6BUMAAzZgT.jpg\n",
       "891689557279858688  1        1             https://pbs.twimg.com/media/DF_q7IAWsAEuuN8.jpg\n",
       "891815181378084864  1        1             https://pbs.twimg.com/media/DGBdLU1WsAANxJ9.jpg\n",
       "892177421306343426  1        1             https://pbs.twimg.com/media/DGGmoV4XsAAUL6n.jpg\n",
       "892420643555336193  1        1             https://pbs.twimg.com/media/DGKD1-bXoAAIAUK.jpg\n",
       "Name: img_url, Length: 2009, dtype: object"
      ]
     },
     "execution_count": 99,
     "metadata": {},
     "output_type": "execute_result"
    }
   ],
   "source": [
    "image_pred_df.loc[:, :, :]['img_url'].drop_duplicates()"
   ]
  },
  {
   "cell_type": "markdown",
   "metadata": {},
   "source": [
    "#### Reassessment\n",
    "As can be seen below, now the dataframe is tidy in the sense that each variable is only represented by one column."
   ]
  },
  {
   "cell_type": "code",
   "execution_count": 100,
   "metadata": {},
   "outputs": [
    {
     "data": {
      "text/html": [
       "<div>\n",
       "<style scoped>\n",
       "    .dataframe tbody tr th:only-of-type {\n",
       "        vertical-align: middle;\n",
       "    }\n",
       "\n",
       "    .dataframe tbody tr th {\n",
       "        vertical-align: top;\n",
       "    }\n",
       "\n",
       "    .dataframe thead th {\n",
       "        text-align: right;\n",
       "    }\n",
       "</style>\n",
       "<table border=\"1\" class=\"dataframe\">\n",
       "  <thead>\n",
       "    <tr style=\"text-align: right;\">\n",
       "      <th></th>\n",
       "      <th></th>\n",
       "      <th></th>\n",
       "      <th>img_url</th>\n",
       "      <th>pred_class</th>\n",
       "      <th>pred_confidence</th>\n",
       "      <th>is_dog</th>\n",
       "    </tr>\n",
       "    <tr>\n",
       "      <th>tweet_id</th>\n",
       "      <th>img_idx</th>\n",
       "      <th>pred_level</th>\n",
       "      <th></th>\n",
       "      <th></th>\n",
       "      <th></th>\n",
       "      <th></th>\n",
       "    </tr>\n",
       "  </thead>\n",
       "  <tbody>\n",
       "    <tr>\n",
       "      <th>666020888022790149</th>\n",
       "      <th>1</th>\n",
       "      <th>1</th>\n",
       "      <td>https://pbs.twimg.com/media/CT4udn0WwAA0aMy.jpg</td>\n",
       "      <td>Welsh_springer_spaniel</td>\n",
       "      <td>0.465074</td>\n",
       "      <td>True</td>\n",
       "    </tr>\n",
       "    <tr>\n",
       "      <th>666029285002620928</th>\n",
       "      <th>1</th>\n",
       "      <th>1</th>\n",
       "      <td>https://pbs.twimg.com/media/CT42GRgUYAA5iDo.jpg</td>\n",
       "      <td>redbone</td>\n",
       "      <td>0.506826</td>\n",
       "      <td>True</td>\n",
       "    </tr>\n",
       "    <tr>\n",
       "      <th>666033412701032449</th>\n",
       "      <th>1</th>\n",
       "      <th>1</th>\n",
       "      <td>https://pbs.twimg.com/media/CT4521TWwAEvMyu.jpg</td>\n",
       "      <td>German_shepherd</td>\n",
       "      <td>0.596461</td>\n",
       "      <td>True</td>\n",
       "    </tr>\n",
       "    <tr>\n",
       "      <th>666044226329800704</th>\n",
       "      <th>1</th>\n",
       "      <th>1</th>\n",
       "      <td>https://pbs.twimg.com/media/CT5Dr8HUEAA-lEu.jpg</td>\n",
       "      <td>Rhodesian_ridgeback</td>\n",
       "      <td>0.408143</td>\n",
       "      <td>True</td>\n",
       "    </tr>\n",
       "    <tr>\n",
       "      <th>666049248165822465</th>\n",
       "      <th>1</th>\n",
       "      <th>1</th>\n",
       "      <td>https://pbs.twimg.com/media/CT5IQmsXIAAKY4A.jpg</td>\n",
       "      <td>miniature_pinscher</td>\n",
       "      <td>0.560311</td>\n",
       "      <td>True</td>\n",
       "    </tr>\n",
       "  </tbody>\n",
       "</table>\n",
       "</div>"
      ],
      "text/plain": [
       "                                                                               img_url  \\\n",
       "tweet_id           img_idx pred_level                                                    \n",
       "666020888022790149 1       1           https://pbs.twimg.com/media/CT4udn0WwAA0aMy.jpg   \n",
       "666029285002620928 1       1           https://pbs.twimg.com/media/CT42GRgUYAA5iDo.jpg   \n",
       "666033412701032449 1       1           https://pbs.twimg.com/media/CT4521TWwAEvMyu.jpg   \n",
       "666044226329800704 1       1           https://pbs.twimg.com/media/CT5Dr8HUEAA-lEu.jpg   \n",
       "666049248165822465 1       1           https://pbs.twimg.com/media/CT5IQmsXIAAKY4A.jpg   \n",
       "\n",
       "                                                   pred_class  \\\n",
       "tweet_id           img_idx pred_level                           \n",
       "666020888022790149 1       1           Welsh_springer_spaniel   \n",
       "666029285002620928 1       1                          redbone   \n",
       "666033412701032449 1       1                  German_shepherd   \n",
       "666044226329800704 1       1              Rhodesian_ridgeback   \n",
       "666049248165822465 1       1               miniature_pinscher   \n",
       "\n",
       "                                       pred_confidence  is_dog  \n",
       "tweet_id           img_idx pred_level                           \n",
       "666020888022790149 1       1                  0.465074    True  \n",
       "666029285002620928 1       1                  0.506826    True  \n",
       "666033412701032449 1       1                  0.596461    True  \n",
       "666044226329800704 1       1                  0.408143    True  \n",
       "666049248165822465 1       1                  0.560311    True  "
      ]
     },
     "execution_count": 100,
     "metadata": {},
     "output_type": "execute_result"
    }
   ],
   "source": [
    "image_pred_df.head()"
   ]
  },
  {
   "cell_type": "code",
   "execution_count": 101,
   "metadata": {},
   "outputs": [
    {
     "name": "stdout",
     "output_type": "stream",
     "text": [
      "<class 'pandas.core.frame.DataFrame'>\n",
      "MultiIndex: 6225 entries, ('666020888022790149', 1, 1) to ('892420643555336193', 1, 3)\n",
      "Data columns (total 4 columns):\n",
      " #   Column           Non-Null Count  Dtype  \n",
      "---  ------           --------------  -----  \n",
      " 0   img_url          6225 non-null   object \n",
      " 1   pred_class       6225 non-null   object \n",
      " 2   pred_confidence  6225 non-null   float64\n",
      " 3   is_dog           6225 non-null   bool   \n",
      "dtypes: bool(1), float64(1), object(2)\n",
      "memory usage: 273.0+ KB\n"
     ]
    }
   ],
   "source": [
    "image_pred_df.info()"
   ]
  },
  {
   "cell_type": "markdown",
   "metadata": {},
   "source": [
    "### Feature Engineering - Audience Score of each Tweet\n",
    "Before we proceed with analysis, we'll create a new column named `audience_score`. The value will be the sum of `favorite_count` and `retweet_count`. This calculation is based on the assumption that sometimes when people likes a tweet, they will retweet it but forgot to click on the favorite button, so it makes sense to assume that the people who retweets a status also likes the status as well. And if the person even remembers to click on the favorite button before retweeting, means the status was indeed awesome! So adding those as \"audience score\" makes more sense."
   ]
  },
  {
   "cell_type": "code",
   "execution_count": 102,
   "metadata": {},
   "outputs": [
    {
     "data": {
      "text/plain": [
       "count      1815.000000\n",
       "mean      11302.364738\n",
       "std       16568.270479\n",
       "min          80.000000\n",
       "25%        2140.500000\n",
       "50%        5718.000000\n",
       "75%       14449.000000\n",
       "max      225961.000000\n",
       "Name: audience_score, dtype: float64"
      ]
     },
     "execution_count": 102,
     "metadata": {},
     "output_type": "execute_result"
    }
   ],
   "source": [
    "twitter_df['audience_score'] = twitter_df.retweet_count + twitter_df.favorite_count\n",
    "twitter_df.audience_score.describe()"
   ]
  },
  {
   "cell_type": "code",
   "execution_count": 103,
   "metadata": {},
   "outputs": [
    {
     "data": {
      "text/html": [
       "<div>\n",
       "<style scoped>\n",
       "    .dataframe tbody tr th:only-of-type {\n",
       "        vertical-align: middle;\n",
       "    }\n",
       "\n",
       "    .dataframe tbody tr th {\n",
       "        vertical-align: top;\n",
       "    }\n",
       "\n",
       "    .dataframe thead th {\n",
       "        text-align: right;\n",
       "    }\n",
       "</style>\n",
       "<table border=\"1\" class=\"dataframe\">\n",
       "  <thead>\n",
       "    <tr style=\"text-align: right;\">\n",
       "      <th></th>\n",
       "      <th>retweet_count</th>\n",
       "      <th>favorite_count</th>\n",
       "      <th>audience_score</th>\n",
       "    </tr>\n",
       "    <tr>\n",
       "      <th>tweet_id</th>\n",
       "      <th></th>\n",
       "      <th></th>\n",
       "      <th></th>\n",
       "    </tr>\n",
       "  </thead>\n",
       "  <tbody>\n",
       "    <tr>\n",
       "      <th>892420643555336193</th>\n",
       "      <td>7417.0</td>\n",
       "      <td>35140.0</td>\n",
       "      <td>42557.0</td>\n",
       "    </tr>\n",
       "    <tr>\n",
       "      <th>892177421306343426</th>\n",
       "      <td>5517.0</td>\n",
       "      <td>30411.0</td>\n",
       "      <td>35928.0</td>\n",
       "    </tr>\n",
       "    <tr>\n",
       "      <th>891815181378084864</th>\n",
       "      <td>3640.0</td>\n",
       "      <td>22869.0</td>\n",
       "      <td>26509.0</td>\n",
       "    </tr>\n",
       "    <tr>\n",
       "      <th>891689557279858688</th>\n",
       "      <td>7584.0</td>\n",
       "      <td>38400.0</td>\n",
       "      <td>45984.0</td>\n",
       "    </tr>\n",
       "    <tr>\n",
       "      <th>891327558926688256</th>\n",
       "      <td>8166.0</td>\n",
       "      <td>36651.0</td>\n",
       "      <td>44817.0</td>\n",
       "    </tr>\n",
       "  </tbody>\n",
       "</table>\n",
       "</div>"
      ],
      "text/plain": [
       "                    retweet_count  favorite_count  audience_score\n",
       "tweet_id                                                         \n",
       "892420643555336193         7417.0         35140.0         42557.0\n",
       "892177421306343426         5517.0         30411.0         35928.0\n",
       "891815181378084864         3640.0         22869.0         26509.0\n",
       "891689557279858688         7584.0         38400.0         45984.0\n",
       "891327558926688256         8166.0         36651.0         44817.0"
      ]
     },
     "execution_count": 103,
     "metadata": {},
     "output_type": "execute_result"
    }
   ],
   "source": [
    "twitter_df[['retweet_count', 'favorite_count', 'audience_score']].head()"
   ]
  },
  {
   "cell_type": "markdown",
   "metadata": {},
   "source": [
    "# Conclusion\n",
    "With the cleaning actions done above, we now come up with the following finalized and cleaned dataframes:\n",
    "- `twitter_df`: contains tweets technical informations.\n",
    "- `image_pred_df`: contains dog breed classifications of the image in each tweet.\n",
    "- `dog_ratings_df`: contains dog ratings found in each tweet. \n",
    "- `tweet_dog_info_df`: contains the dog stage and dog name detected in each tweet.\n",
    "\n",
    "## Dataframes Preview"
   ]
  },
  {
   "cell_type": "code",
   "execution_count": 104,
   "metadata": {},
   "outputs": [],
   "source": [
    "# set formatting for floating value display\n",
    "pd.options.display.float_format = '{:.3f}'.format"
   ]
  },
  {
   "cell_type": "markdown",
   "metadata": {},
   "source": [
    "### `twitter_df`"
   ]
  },
  {
   "cell_type": "code",
   "execution_count": 105,
   "metadata": {},
   "outputs": [
    {
     "data": {
      "text/html": [
       "<div>\n",
       "<style scoped>\n",
       "    .dataframe tbody tr th:only-of-type {\n",
       "        vertical-align: middle;\n",
       "    }\n",
       "\n",
       "    .dataframe tbody tr th {\n",
       "        vertical-align: top;\n",
       "    }\n",
       "\n",
       "    .dataframe thead th {\n",
       "        text-align: right;\n",
       "    }\n",
       "</style>\n",
       "<table border=\"1\" class=\"dataframe\">\n",
       "  <thead>\n",
       "    <tr style=\"text-align: right;\">\n",
       "      <th></th>\n",
       "      <th>timestamp</th>\n",
       "      <th>source</th>\n",
       "      <th>text</th>\n",
       "      <th>expanded_urls</th>\n",
       "      <th>retweet_count</th>\n",
       "      <th>favorite_count</th>\n",
       "      <th>is_reply</th>\n",
       "      <th>is_retweet</th>\n",
       "      <th>audience_score</th>\n",
       "    </tr>\n",
       "    <tr>\n",
       "      <th>tweet_id</th>\n",
       "      <th></th>\n",
       "      <th></th>\n",
       "      <th></th>\n",
       "      <th></th>\n",
       "      <th></th>\n",
       "      <th></th>\n",
       "      <th></th>\n",
       "      <th></th>\n",
       "      <th></th>\n",
       "    </tr>\n",
       "  </thead>\n",
       "  <tbody>\n",
       "    <tr>\n",
       "      <th>892420643555336193</th>\n",
       "      <td>2017-08-01 16:23:56+00:00</td>\n",
       "      <td>iphone</td>\n",
       "      <td>This is Phineas. He's a mystical boy. Only eve...</td>\n",
       "      <td>https://twitter.com/dog_rates/status/892420643...</td>\n",
       "      <td>7417.000</td>\n",
       "      <td>35140.000</td>\n",
       "      <td>False</td>\n",
       "      <td>False</td>\n",
       "      <td>42557.000</td>\n",
       "    </tr>\n",
       "    <tr>\n",
       "      <th>892177421306343426</th>\n",
       "      <td>2017-08-01 00:17:27+00:00</td>\n",
       "      <td>iphone</td>\n",
       "      <td>This is Tilly. She's just checking pup on you....</td>\n",
       "      <td>https://twitter.com/dog_rates/status/892177421...</td>\n",
       "      <td>5517.000</td>\n",
       "      <td>30411.000</td>\n",
       "      <td>False</td>\n",
       "      <td>False</td>\n",
       "      <td>35928.000</td>\n",
       "    </tr>\n",
       "    <tr>\n",
       "      <th>891815181378084864</th>\n",
       "      <td>2017-07-31 00:18:03+00:00</td>\n",
       "      <td>iphone</td>\n",
       "      <td>This is Archie. He is a rare Norwegian Pouncin...</td>\n",
       "      <td>https://twitter.com/dog_rates/status/891815181...</td>\n",
       "      <td>3640.000</td>\n",
       "      <td>22869.000</td>\n",
       "      <td>False</td>\n",
       "      <td>False</td>\n",
       "      <td>26509.000</td>\n",
       "    </tr>\n",
       "    <tr>\n",
       "      <th>891689557279858688</th>\n",
       "      <td>2017-07-30 15:58:51+00:00</td>\n",
       "      <td>iphone</td>\n",
       "      <td>This is Darla. She commenced a snooze mid meal...</td>\n",
       "      <td>https://twitter.com/dog_rates/status/891689557...</td>\n",
       "      <td>7584.000</td>\n",
       "      <td>38400.000</td>\n",
       "      <td>False</td>\n",
       "      <td>False</td>\n",
       "      <td>45984.000</td>\n",
       "    </tr>\n",
       "    <tr>\n",
       "      <th>891327558926688256</th>\n",
       "      <td>2017-07-29 16:00:24+00:00</td>\n",
       "      <td>iphone</td>\n",
       "      <td>This is Franklin. He would like you to stop ca...</td>\n",
       "      <td>https://twitter.com/dog_rates/status/891327558...</td>\n",
       "      <td>8166.000</td>\n",
       "      <td>36651.000</td>\n",
       "      <td>False</td>\n",
       "      <td>False</td>\n",
       "      <td>44817.000</td>\n",
       "    </tr>\n",
       "  </tbody>\n",
       "</table>\n",
       "</div>"
      ],
      "text/plain": [
       "                                   timestamp  source  \\\n",
       "tweet_id                                               \n",
       "892420643555336193 2017-08-01 16:23:56+00:00  iphone   \n",
       "892177421306343426 2017-08-01 00:17:27+00:00  iphone   \n",
       "891815181378084864 2017-07-31 00:18:03+00:00  iphone   \n",
       "891689557279858688 2017-07-30 15:58:51+00:00  iphone   \n",
       "891327558926688256 2017-07-29 16:00:24+00:00  iphone   \n",
       "\n",
       "                                                                 text  \\\n",
       "tweet_id                                                                \n",
       "892420643555336193  This is Phineas. He's a mystical boy. Only eve...   \n",
       "892177421306343426  This is Tilly. She's just checking pup on you....   \n",
       "891815181378084864  This is Archie. He is a rare Norwegian Pouncin...   \n",
       "891689557279858688  This is Darla. She commenced a snooze mid meal...   \n",
       "891327558926688256  This is Franklin. He would like you to stop ca...   \n",
       "\n",
       "                                                        expanded_urls  \\\n",
       "tweet_id                                                                \n",
       "892420643555336193  https://twitter.com/dog_rates/status/892420643...   \n",
       "892177421306343426  https://twitter.com/dog_rates/status/892177421...   \n",
       "891815181378084864  https://twitter.com/dog_rates/status/891815181...   \n",
       "891689557279858688  https://twitter.com/dog_rates/status/891689557...   \n",
       "891327558926688256  https://twitter.com/dog_rates/status/891327558...   \n",
       "\n",
       "                    retweet_count  favorite_count  is_reply  is_retweet  \\\n",
       "tweet_id                                                                  \n",
       "892420643555336193       7417.000       35140.000     False       False   \n",
       "892177421306343426       5517.000       30411.000     False       False   \n",
       "891815181378084864       3640.000       22869.000     False       False   \n",
       "891689557279858688       7584.000       38400.000     False       False   \n",
       "891327558926688256       8166.000       36651.000     False       False   \n",
       "\n",
       "                    audience_score  \n",
       "tweet_id                            \n",
       "892420643555336193       42557.000  \n",
       "892177421306343426       35928.000  \n",
       "891815181378084864       26509.000  \n",
       "891689557279858688       45984.000  \n",
       "891327558926688256       44817.000  "
      ]
     },
     "execution_count": 105,
     "metadata": {},
     "output_type": "execute_result"
    }
   ],
   "source": [
    "twitter_df.head()"
   ]
  },
  {
   "cell_type": "markdown",
   "metadata": {},
   "source": [
    "### `image_pred_df`"
   ]
  },
  {
   "cell_type": "code",
   "execution_count": 106,
   "metadata": {},
   "outputs": [
    {
     "data": {
      "text/html": [
       "<div>\n",
       "<style scoped>\n",
       "    .dataframe tbody tr th:only-of-type {\n",
       "        vertical-align: middle;\n",
       "    }\n",
       "\n",
       "    .dataframe tbody tr th {\n",
       "        vertical-align: top;\n",
       "    }\n",
       "\n",
       "    .dataframe thead th {\n",
       "        text-align: right;\n",
       "    }\n",
       "</style>\n",
       "<table border=\"1\" class=\"dataframe\">\n",
       "  <thead>\n",
       "    <tr style=\"text-align: right;\">\n",
       "      <th></th>\n",
       "      <th></th>\n",
       "      <th></th>\n",
       "      <th>img_url</th>\n",
       "      <th>pred_class</th>\n",
       "      <th>pred_confidence</th>\n",
       "      <th>is_dog</th>\n",
       "    </tr>\n",
       "    <tr>\n",
       "      <th>tweet_id</th>\n",
       "      <th>img_idx</th>\n",
       "      <th>pred_level</th>\n",
       "      <th></th>\n",
       "      <th></th>\n",
       "      <th></th>\n",
       "      <th></th>\n",
       "    </tr>\n",
       "  </thead>\n",
       "  <tbody>\n",
       "    <tr>\n",
       "      <th>666020888022790149</th>\n",
       "      <th>1</th>\n",
       "      <th>1</th>\n",
       "      <td>https://pbs.twimg.com/media/CT4udn0WwAA0aMy.jpg</td>\n",
       "      <td>Welsh_springer_spaniel</td>\n",
       "      <td>0.465</td>\n",
       "      <td>True</td>\n",
       "    </tr>\n",
       "    <tr>\n",
       "      <th>666029285002620928</th>\n",
       "      <th>1</th>\n",
       "      <th>1</th>\n",
       "      <td>https://pbs.twimg.com/media/CT42GRgUYAA5iDo.jpg</td>\n",
       "      <td>redbone</td>\n",
       "      <td>0.507</td>\n",
       "      <td>True</td>\n",
       "    </tr>\n",
       "    <tr>\n",
       "      <th>666033412701032449</th>\n",
       "      <th>1</th>\n",
       "      <th>1</th>\n",
       "      <td>https://pbs.twimg.com/media/CT4521TWwAEvMyu.jpg</td>\n",
       "      <td>German_shepherd</td>\n",
       "      <td>0.596</td>\n",
       "      <td>True</td>\n",
       "    </tr>\n",
       "    <tr>\n",
       "      <th>666044226329800704</th>\n",
       "      <th>1</th>\n",
       "      <th>1</th>\n",
       "      <td>https://pbs.twimg.com/media/CT5Dr8HUEAA-lEu.jpg</td>\n",
       "      <td>Rhodesian_ridgeback</td>\n",
       "      <td>0.408</td>\n",
       "      <td>True</td>\n",
       "    </tr>\n",
       "    <tr>\n",
       "      <th>666049248165822465</th>\n",
       "      <th>1</th>\n",
       "      <th>1</th>\n",
       "      <td>https://pbs.twimg.com/media/CT5IQmsXIAAKY4A.jpg</td>\n",
       "      <td>miniature_pinscher</td>\n",
       "      <td>0.560</td>\n",
       "      <td>True</td>\n",
       "    </tr>\n",
       "  </tbody>\n",
       "</table>\n",
       "</div>"
      ],
      "text/plain": [
       "                                                                               img_url  \\\n",
       "tweet_id           img_idx pred_level                                                    \n",
       "666020888022790149 1       1           https://pbs.twimg.com/media/CT4udn0WwAA0aMy.jpg   \n",
       "666029285002620928 1       1           https://pbs.twimg.com/media/CT42GRgUYAA5iDo.jpg   \n",
       "666033412701032449 1       1           https://pbs.twimg.com/media/CT4521TWwAEvMyu.jpg   \n",
       "666044226329800704 1       1           https://pbs.twimg.com/media/CT5Dr8HUEAA-lEu.jpg   \n",
       "666049248165822465 1       1           https://pbs.twimg.com/media/CT5IQmsXIAAKY4A.jpg   \n",
       "\n",
       "                                                   pred_class  \\\n",
       "tweet_id           img_idx pred_level                           \n",
       "666020888022790149 1       1           Welsh_springer_spaniel   \n",
       "666029285002620928 1       1                          redbone   \n",
       "666033412701032449 1       1                  German_shepherd   \n",
       "666044226329800704 1       1              Rhodesian_ridgeback   \n",
       "666049248165822465 1       1               miniature_pinscher   \n",
       "\n",
       "                                       pred_confidence  is_dog  \n",
       "tweet_id           img_idx pred_level                           \n",
       "666020888022790149 1       1                     0.465    True  \n",
       "666029285002620928 1       1                     0.507    True  \n",
       "666033412701032449 1       1                     0.596    True  \n",
       "666044226329800704 1       1                     0.408    True  \n",
       "666049248165822465 1       1                     0.560    True  "
      ]
     },
     "execution_count": 106,
     "metadata": {},
     "output_type": "execute_result"
    }
   ],
   "source": [
    "image_pred_df.head()"
   ]
  },
  {
   "cell_type": "markdown",
   "metadata": {},
   "source": [
    "### `dog_ratings_df`"
   ]
  },
  {
   "cell_type": "code",
   "execution_count": 107,
   "metadata": {},
   "outputs": [
    {
     "data": {
      "text/html": [
       "<div>\n",
       "<style scoped>\n",
       "    .dataframe tbody tr th:only-of-type {\n",
       "        vertical-align: middle;\n",
       "    }\n",
       "\n",
       "    .dataframe tbody tr th {\n",
       "        vertical-align: top;\n",
       "    }\n",
       "\n",
       "    .dataframe thead th {\n",
       "        text-align: right;\n",
       "    }\n",
       "</style>\n",
       "<table border=\"1\" class=\"dataframe\">\n",
       "  <thead>\n",
       "    <tr style=\"text-align: right;\">\n",
       "      <th></th>\n",
       "      <th></th>\n",
       "      <th>numerator</th>\n",
       "      <th>denominator</th>\n",
       "    </tr>\n",
       "    <tr>\n",
       "      <th>tweet_id</th>\n",
       "      <th>rating_no</th>\n",
       "      <th></th>\n",
       "      <th></th>\n",
       "    </tr>\n",
       "  </thead>\n",
       "  <tbody>\n",
       "    <tr>\n",
       "      <th>892420643555336193</th>\n",
       "      <th>0</th>\n",
       "      <td>13.000</td>\n",
       "      <td>10.000</td>\n",
       "    </tr>\n",
       "    <tr>\n",
       "      <th>892177421306343426</th>\n",
       "      <th>0</th>\n",
       "      <td>13.000</td>\n",
       "      <td>10.000</td>\n",
       "    </tr>\n",
       "    <tr>\n",
       "      <th>891815181378084864</th>\n",
       "      <th>0</th>\n",
       "      <td>12.000</td>\n",
       "      <td>10.000</td>\n",
       "    </tr>\n",
       "    <tr>\n",
       "      <th>891689557279858688</th>\n",
       "      <th>0</th>\n",
       "      <td>13.000</td>\n",
       "      <td>10.000</td>\n",
       "    </tr>\n",
       "    <tr>\n",
       "      <th>891327558926688256</th>\n",
       "      <th>0</th>\n",
       "      <td>12.000</td>\n",
       "      <td>10.000</td>\n",
       "    </tr>\n",
       "  </tbody>\n",
       "</table>\n",
       "</div>"
      ],
      "text/plain": [
       "                              numerator  denominator\n",
       "tweet_id           rating_no                        \n",
       "892420643555336193 0             13.000       10.000\n",
       "892177421306343426 0             13.000       10.000\n",
       "891815181378084864 0             12.000       10.000\n",
       "891689557279858688 0             13.000       10.000\n",
       "891327558926688256 0             12.000       10.000"
      ]
     },
     "execution_count": 107,
     "metadata": {},
     "output_type": "execute_result"
    }
   ],
   "source": [
    "dog_ratings_df.head()"
   ]
  },
  {
   "cell_type": "markdown",
   "metadata": {},
   "source": [
    "### `tweet_dog_info_df`"
   ]
  },
  {
   "cell_type": "code",
   "execution_count": 108,
   "metadata": {},
   "outputs": [
    {
     "data": {
      "text/html": [
       "<div>\n",
       "<style scoped>\n",
       "    .dataframe tbody tr th:only-of-type {\n",
       "        vertical-align: middle;\n",
       "    }\n",
       "\n",
       "    .dataframe tbody tr th {\n",
       "        vertical-align: top;\n",
       "    }\n",
       "\n",
       "    .dataframe thead th {\n",
       "        text-align: right;\n",
       "    }\n",
       "</style>\n",
       "<table border=\"1\" class=\"dataframe\">\n",
       "  <thead>\n",
       "    <tr style=\"text-align: right;\">\n",
       "      <th></th>\n",
       "      <th>name</th>\n",
       "      <th>doggo</th>\n",
       "      <th>floofer</th>\n",
       "      <th>pupper</th>\n",
       "      <th>puppo</th>\n",
       "    </tr>\n",
       "    <tr>\n",
       "      <th>tweet_id</th>\n",
       "      <th></th>\n",
       "      <th></th>\n",
       "      <th></th>\n",
       "      <th></th>\n",
       "      <th></th>\n",
       "    </tr>\n",
       "  </thead>\n",
       "  <tbody>\n",
       "    <tr>\n",
       "      <th>892420643555336193</th>\n",
       "      <td>Phineas</td>\n",
       "      <td>False</td>\n",
       "      <td>False</td>\n",
       "      <td>False</td>\n",
       "      <td>False</td>\n",
       "    </tr>\n",
       "    <tr>\n",
       "      <th>892177421306343426</th>\n",
       "      <td>Tilly</td>\n",
       "      <td>False</td>\n",
       "      <td>False</td>\n",
       "      <td>False</td>\n",
       "      <td>False</td>\n",
       "    </tr>\n",
       "    <tr>\n",
       "      <th>891815181378084864</th>\n",
       "      <td>Archie</td>\n",
       "      <td>False</td>\n",
       "      <td>False</td>\n",
       "      <td>False</td>\n",
       "      <td>False</td>\n",
       "    </tr>\n",
       "    <tr>\n",
       "      <th>891689557279858688</th>\n",
       "      <td>Darla</td>\n",
       "      <td>False</td>\n",
       "      <td>False</td>\n",
       "      <td>False</td>\n",
       "      <td>False</td>\n",
       "    </tr>\n",
       "    <tr>\n",
       "      <th>891327558926688256</th>\n",
       "      <td>Franklin</td>\n",
       "      <td>False</td>\n",
       "      <td>False</td>\n",
       "      <td>False</td>\n",
       "      <td>False</td>\n",
       "    </tr>\n",
       "  </tbody>\n",
       "</table>\n",
       "</div>"
      ],
      "text/plain": [
       "                        name  doggo  floofer  pupper  puppo\n",
       "tweet_id                                                   \n",
       "892420643555336193   Phineas  False    False   False  False\n",
       "892177421306343426     Tilly  False    False   False  False\n",
       "891815181378084864    Archie  False    False   False  False\n",
       "891689557279858688     Darla  False    False   False  False\n",
       "891327558926688256  Franklin  False    False   False  False"
      ]
     },
     "execution_count": 108,
     "metadata": {},
     "output_type": "execute_result"
    }
   ],
   "source": [
    "tweet_dog_info_df.head()"
   ]
  },
  {
   "cell_type": "markdown",
   "metadata": {},
   "source": [
    "## Columns Preview"
   ]
  },
  {
   "cell_type": "markdown",
   "metadata": {},
   "source": [
    "### `twitter_df`"
   ]
  },
  {
   "cell_type": "code",
   "execution_count": 109,
   "metadata": {},
   "outputs": [
    {
     "name": "stdout",
     "output_type": "stream",
     "text": [
      "<class 'pandas.core.frame.DataFrame'>\n",
      "Index: 2097 entries, 892420643555336193 to 666020888022790149\n",
      "Data columns (total 9 columns):\n",
      " #   Column          Non-Null Count  Dtype              \n",
      "---  ------          --------------  -----              \n",
      " 0   timestamp       2097 non-null   datetime64[ns, UTC]\n",
      " 1   source          2097 non-null   category           \n",
      " 2   text            2097 non-null   object             \n",
      " 3   expanded_urls   2094 non-null   object             \n",
      " 4   retweet_count   1815 non-null   float64            \n",
      " 5   favorite_count  1815 non-null   float64            \n",
      " 6   is_reply        2097 non-null   bool               \n",
      " 7   is_retweet      2097 non-null   bool               \n",
      " 8   audience_score  1815 non-null   float64            \n",
      "dtypes: bool(2), category(1), datetime64[ns, UTC](1), float64(3), object(2)\n",
      "memory usage: 121.0+ KB\n"
     ]
    }
   ],
   "source": [
    "twitter_df.info()"
   ]
  },
  {
   "cell_type": "markdown",
   "metadata": {},
   "source": [
    "### `image_pred_df`"
   ]
  },
  {
   "cell_type": "code",
   "execution_count": 110,
   "metadata": {},
   "outputs": [
    {
     "name": "stdout",
     "output_type": "stream",
     "text": [
      "<class 'pandas.core.frame.DataFrame'>\n",
      "MultiIndex: 6225 entries, ('666020888022790149', 1, 1) to ('892420643555336193', 1, 3)\n",
      "Data columns (total 4 columns):\n",
      " #   Column           Non-Null Count  Dtype  \n",
      "---  ------           --------------  -----  \n",
      " 0   img_url          6225 non-null   object \n",
      " 1   pred_class       6225 non-null   object \n",
      " 2   pred_confidence  6225 non-null   float64\n",
      " 3   is_dog           6225 non-null   bool   \n",
      "dtypes: bool(1), float64(1), object(2)\n",
      "memory usage: 273.0+ KB\n"
     ]
    }
   ],
   "source": [
    "image_pred_df.info()"
   ]
  },
  {
   "cell_type": "markdown",
   "metadata": {},
   "source": [
    "### `dog_ratings_df`"
   ]
  },
  {
   "cell_type": "code",
   "execution_count": 111,
   "metadata": {},
   "outputs": [
    {
     "name": "stdout",
     "output_type": "stream",
     "text": [
      "<class 'pandas.core.frame.DataFrame'>\n",
      "MultiIndex: 2362 entries, ('892420643555336193', 0) to ('666020888022790149', 0)\n",
      "Data columns (total 2 columns):\n",
      " #   Column       Non-Null Count  Dtype  \n",
      "---  ------       --------------  -----  \n",
      " 0   numerator    2362 non-null   float64\n",
      " 1   denominator  2362 non-null   float64\n",
      "dtypes: float64(2)\n",
      "memory usage: 142.4+ KB\n"
     ]
    }
   ],
   "source": [
    "dog_ratings_df.info()"
   ]
  },
  {
   "cell_type": "markdown",
   "metadata": {},
   "source": [
    "### `tweet_dog_info_df`"
   ]
  },
  {
   "cell_type": "code",
   "execution_count": 112,
   "metadata": {},
   "outputs": [
    {
     "name": "stdout",
     "output_type": "stream",
     "text": [
      "<class 'pandas.core.frame.DataFrame'>\n",
      "Index: 1678 entries, 892420643555336193 to 666418789513326592\n",
      "Data columns (total 5 columns):\n",
      " #   Column   Non-Null Count  Dtype \n",
      "---  ------   --------------  ----- \n",
      " 0   name     1502 non-null   object\n",
      " 1   doggo    1678 non-null   bool  \n",
      " 2   floofer  1678 non-null   bool  \n",
      " 3   pupper   1678 non-null   bool  \n",
      " 4   puppo    1678 non-null   bool  \n",
      "dtypes: bool(4), object(1)\n",
      "memory usage: 32.8+ KB\n"
     ]
    }
   ],
   "source": [
    "tweet_dog_info_df.info()"
   ]
  },
  {
   "cell_type": "markdown",
   "metadata": {},
   "source": [
    "## Numeric Columns Statistics"
   ]
  },
  {
   "cell_type": "markdown",
   "metadata": {},
   "source": [
    "### `twitter_df`"
   ]
  },
  {
   "cell_type": "code",
   "execution_count": 113,
   "metadata": {},
   "outputs": [
    {
     "data": {
      "text/html": [
       "<div>\n",
       "<style scoped>\n",
       "    .dataframe tbody tr th:only-of-type {\n",
       "        vertical-align: middle;\n",
       "    }\n",
       "\n",
       "    .dataframe tbody tr th {\n",
       "        vertical-align: top;\n",
       "    }\n",
       "\n",
       "    .dataframe thead th {\n",
       "        text-align: right;\n",
       "    }\n",
       "</style>\n",
       "<table border=\"1\" class=\"dataframe\">\n",
       "  <thead>\n",
       "    <tr style=\"text-align: right;\">\n",
       "      <th></th>\n",
       "      <th>retweet_count</th>\n",
       "      <th>favorite_count</th>\n",
       "      <th>audience_score</th>\n",
       "    </tr>\n",
       "  </thead>\n",
       "  <tbody>\n",
       "    <tr>\n",
       "      <th>count</th>\n",
       "      <td>1815.000</td>\n",
       "      <td>1815.000</td>\n",
       "      <td>1815.000</td>\n",
       "    </tr>\n",
       "    <tr>\n",
       "      <th>mean</th>\n",
       "      <td>2570.372</td>\n",
       "      <td>8731.993</td>\n",
       "      <td>11302.365</td>\n",
       "    </tr>\n",
       "    <tr>\n",
       "      <th>std</th>\n",
       "      <td>4445.390</td>\n",
       "      <td>12365.107</td>\n",
       "      <td>16568.270</td>\n",
       "    </tr>\n",
       "    <tr>\n",
       "      <th>min</th>\n",
       "      <td>11.000</td>\n",
       "      <td>69.000</td>\n",
       "      <td>80.000</td>\n",
       "    </tr>\n",
       "    <tr>\n",
       "      <th>25%</th>\n",
       "      <td>529.500</td>\n",
       "      <td>1569.500</td>\n",
       "      <td>2140.500</td>\n",
       "    </tr>\n",
       "    <tr>\n",
       "      <th>50%</th>\n",
       "      <td>1316.000</td>\n",
       "      <td>4333.000</td>\n",
       "      <td>5718.000</td>\n",
       "    </tr>\n",
       "    <tr>\n",
       "      <th>75%</th>\n",
       "      <td>2962.500</td>\n",
       "      <td>11201.000</td>\n",
       "      <td>14449.000</td>\n",
       "    </tr>\n",
       "    <tr>\n",
       "      <th>max</th>\n",
       "      <td>74834.000</td>\n",
       "      <td>151127.000</td>\n",
       "      <td>225961.000</td>\n",
       "    </tr>\n",
       "  </tbody>\n",
       "</table>\n",
       "</div>"
      ],
      "text/plain": [
       "       retweet_count  favorite_count  audience_score\n",
       "count       1815.000        1815.000        1815.000\n",
       "mean        2570.372        8731.993       11302.365\n",
       "std         4445.390       12365.107       16568.270\n",
       "min           11.000          69.000          80.000\n",
       "25%          529.500        1569.500        2140.500\n",
       "50%         1316.000        4333.000        5718.000\n",
       "75%         2962.500       11201.000       14449.000\n",
       "max        74834.000      151127.000      225961.000"
      ]
     },
     "execution_count": 113,
     "metadata": {},
     "output_type": "execute_result"
    }
   ],
   "source": [
    "twitter_df.describe()"
   ]
  },
  {
   "cell_type": "markdown",
   "metadata": {},
   "source": [
    "### `image_pred_df`"
   ]
  },
  {
   "cell_type": "code",
   "execution_count": 114,
   "metadata": {},
   "outputs": [
    {
     "data": {
      "text/html": [
       "<div>\n",
       "<style scoped>\n",
       "    .dataframe tbody tr th:only-of-type {\n",
       "        vertical-align: middle;\n",
       "    }\n",
       "\n",
       "    .dataframe tbody tr th {\n",
       "        vertical-align: top;\n",
       "    }\n",
       "\n",
       "    .dataframe thead th {\n",
       "        text-align: right;\n",
       "    }\n",
       "</style>\n",
       "<table border=\"1\" class=\"dataframe\">\n",
       "  <thead>\n",
       "    <tr style=\"text-align: right;\">\n",
       "      <th></th>\n",
       "      <th>pred_confidence</th>\n",
       "    </tr>\n",
       "  </thead>\n",
       "  <tbody>\n",
       "    <tr>\n",
       "      <th>count</th>\n",
       "      <td>6225.000</td>\n",
       "    </tr>\n",
       "    <tr>\n",
       "      <th>mean</th>\n",
       "      <td>0.263</td>\n",
       "    </tr>\n",
       "    <tr>\n",
       "      <th>std</th>\n",
       "      <td>0.291</td>\n",
       "    </tr>\n",
       "    <tr>\n",
       "      <th>min</th>\n",
       "      <td>0.000</td>\n",
       "    </tr>\n",
       "    <tr>\n",
       "      <th>25%</th>\n",
       "      <td>0.051</td>\n",
       "    </tr>\n",
       "    <tr>\n",
       "      <th>50%</th>\n",
       "      <td>0.135</td>\n",
       "    </tr>\n",
       "    <tr>\n",
       "      <th>75%</th>\n",
       "      <td>0.380</td>\n",
       "    </tr>\n",
       "    <tr>\n",
       "      <th>max</th>\n",
       "      <td>1.000</td>\n",
       "    </tr>\n",
       "  </tbody>\n",
       "</table>\n",
       "</div>"
      ],
      "text/plain": [
       "       pred_confidence\n",
       "count         6225.000\n",
       "mean             0.263\n",
       "std              0.291\n",
       "min              0.000\n",
       "25%              0.051\n",
       "50%              0.135\n",
       "75%              0.380\n",
       "max              1.000"
      ]
     },
     "execution_count": 114,
     "metadata": {},
     "output_type": "execute_result"
    }
   ],
   "source": [
    "image_pred_df.describe()"
   ]
  },
  {
   "cell_type": "markdown",
   "metadata": {},
   "source": [
    "### `dog_ratings_df`"
   ]
  },
  {
   "cell_type": "code",
   "execution_count": 115,
   "metadata": {},
   "outputs": [
    {
     "data": {
      "text/html": [
       "<div>\n",
       "<style scoped>\n",
       "    .dataframe tbody tr th:only-of-type {\n",
       "        vertical-align: middle;\n",
       "    }\n",
       "\n",
       "    .dataframe tbody tr th {\n",
       "        vertical-align: top;\n",
       "    }\n",
       "\n",
       "    .dataframe thead th {\n",
       "        text-align: right;\n",
       "    }\n",
       "</style>\n",
       "<table border=\"1\" class=\"dataframe\">\n",
       "  <thead>\n",
       "    <tr style=\"text-align: right;\">\n",
       "      <th></th>\n",
       "      <th>numerator</th>\n",
       "      <th>denominator</th>\n",
       "    </tr>\n",
       "  </thead>\n",
       "  <tbody>\n",
       "    <tr>\n",
       "      <th>count</th>\n",
       "      <td>2362.000</td>\n",
       "      <td>2362.000</td>\n",
       "    </tr>\n",
       "    <tr>\n",
       "      <th>mean</th>\n",
       "      <td>14.570</td>\n",
       "      <td>10.000</td>\n",
       "    </tr>\n",
       "    <tr>\n",
       "      <th>std</th>\n",
       "      <td>3.531</td>\n",
       "      <td>0.000</td>\n",
       "    </tr>\n",
       "    <tr>\n",
       "      <th>min</th>\n",
       "      <td>10.000</td>\n",
       "      <td>10.000</td>\n",
       "    </tr>\n",
       "    <tr>\n",
       "      <th>25%</th>\n",
       "      <td>12.000</td>\n",
       "      <td>10.000</td>\n",
       "    </tr>\n",
       "    <tr>\n",
       "      <th>50%</th>\n",
       "      <td>13.000</td>\n",
       "      <td>10.000</td>\n",
       "    </tr>\n",
       "    <tr>\n",
       "      <th>75%</th>\n",
       "      <td>19.000</td>\n",
       "      <td>10.000</td>\n",
       "    </tr>\n",
       "    <tr>\n",
       "      <th>max</th>\n",
       "      <td>20.000</td>\n",
       "      <td>10.000</td>\n",
       "    </tr>\n",
       "  </tbody>\n",
       "</table>\n",
       "</div>"
      ],
      "text/plain": [
       "       numerator  denominator\n",
       "count   2362.000     2362.000\n",
       "mean      14.570       10.000\n",
       "std        3.531        0.000\n",
       "min       10.000       10.000\n",
       "25%       12.000       10.000\n",
       "50%       13.000       10.000\n",
       "75%       19.000       10.000\n",
       "max       20.000       10.000"
      ]
     },
     "execution_count": 115,
     "metadata": {},
     "output_type": "execute_result"
    }
   ],
   "source": [
    "dog_ratings_df.describe()"
   ]
  },
  {
   "cell_type": "markdown",
   "metadata": {},
   "source": [
    "### `tweet_dog_info_df`"
   ]
  },
  {
   "cell_type": "code",
   "execution_count": 116,
   "metadata": {},
   "outputs": [
    {
     "data": {
      "text/html": [
       "<div>\n",
       "<style scoped>\n",
       "    .dataframe tbody tr th:only-of-type {\n",
       "        vertical-align: middle;\n",
       "    }\n",
       "\n",
       "    .dataframe tbody tr th {\n",
       "        vertical-align: top;\n",
       "    }\n",
       "\n",
       "    .dataframe thead th {\n",
       "        text-align: right;\n",
       "    }\n",
       "</style>\n",
       "<table border=\"1\" class=\"dataframe\">\n",
       "  <thead>\n",
       "    <tr style=\"text-align: right;\">\n",
       "      <th></th>\n",
       "      <th>name</th>\n",
       "      <th>doggo</th>\n",
       "      <th>floofer</th>\n",
       "      <th>pupper</th>\n",
       "      <th>puppo</th>\n",
       "    </tr>\n",
       "  </thead>\n",
       "  <tbody>\n",
       "    <tr>\n",
       "      <th>count</th>\n",
       "      <td>1502</td>\n",
       "      <td>1678</td>\n",
       "      <td>1678</td>\n",
       "      <td>1678</td>\n",
       "      <td>1678</td>\n",
       "    </tr>\n",
       "    <tr>\n",
       "      <th>unique</th>\n",
       "      <td>931</td>\n",
       "      <td>2</td>\n",
       "      <td>2</td>\n",
       "      <td>2</td>\n",
       "      <td>2</td>\n",
       "    </tr>\n",
       "    <tr>\n",
       "      <th>top</th>\n",
       "      <td>Charlie</td>\n",
       "      <td>False</td>\n",
       "      <td>False</td>\n",
       "      <td>False</td>\n",
       "      <td>False</td>\n",
       "    </tr>\n",
       "    <tr>\n",
       "      <th>freq</th>\n",
       "      <td>12</td>\n",
       "      <td>1585</td>\n",
       "      <td>1668</td>\n",
       "      <td>1423</td>\n",
       "      <td>1648</td>\n",
       "    </tr>\n",
       "  </tbody>\n",
       "</table>\n",
       "</div>"
      ],
      "text/plain": [
       "           name  doggo floofer pupper  puppo\n",
       "count      1502   1678    1678   1678   1678\n",
       "unique      931      2       2      2      2\n",
       "top     Charlie  False   False  False  False\n",
       "freq         12   1585    1668   1423   1648"
      ]
     },
     "execution_count": 116,
     "metadata": {},
     "output_type": "execute_result"
    }
   ],
   "source": [
    "tweet_dog_info_df.describe()"
   ]
  },
  {
   "cell_type": "markdown",
   "metadata": {},
   "source": [
    "## Store the Cleaned Data\n",
    "Below we'll store each final and cleaned dataframe into CSV format for each."
   ]
  },
  {
   "cell_type": "code",
   "execution_count": 117,
   "metadata": {},
   "outputs": [],
   "source": [
    "twitter_df.to_csv('twitter_archive_master.csv')\n",
    "image_pred_df.to_csv('image_predictions_master.csv')\n",
    "dog_ratings_df.to_csv('tweet_dog_ratings_master.csv')\n",
    "tweet_dog_info_df.to_csv('tweet_dog_infos_master.csv')"
   ]
  },
  {
   "cell_type": "markdown",
   "metadata": {},
   "source": [
    "# Data Analysis\n",
    "Questions to be answered:\n",
    "- How does the dog rating relate with the audience score of the tweet?\n",
    "- What is the most favored dog stage?\n",
    "- Which one does the public audience favors more, tweets with videos or photos?"
   ]
  },
  {
   "cell_type": "markdown",
   "metadata": {},
   "source": [
    "## Question: How does the dog rating relate with the audience score of the tweet?"
   ]
  },
  {
   "cell_type": "markdown",
   "metadata": {},
   "source": [
    "Calculating the correlation between the audience score and \"highest dog rating in each tweet\" in general below."
   ]
  },
  {
   "cell_type": "code",
   "execution_count": 118,
   "metadata": {},
   "outputs": [
    {
     "name": "stdout",
     "output_type": "stream",
     "text": [
      "Correlation between audience_score and numerator_max is -0.25.\n"
     ]
    }
   ],
   "source": [
    "numerators = dog_ratings_df.groupby('tweet_id').numerator.max()\n",
    "aud_score_dog_rating = twitter_df.join(numerators)[['audience_score', 'numerator']].dropna().rename(columns={'numerator': 'numerator_max'})\n",
    "c = aud_score_dog_rating.corr().loc['audience_score', 'numerator_max']\n",
    "print(f'Correlation between audience_score and numerator_max is {c:.2f}.')"
   ]
  },
  {
   "cell_type": "markdown",
   "metadata": {},
   "source": [
    "Below I'll remove outliers from the data by considering dog rating numerator values with counts < 10 as outliers. This is based on the observation of the counts where some of the outliers have only 2 values."
   ]
  },
  {
   "cell_type": "code",
   "execution_count": 119,
   "metadata": {},
   "outputs": [
    {
     "name": "stdout",
     "output_type": "stream",
     "text": [
      "Counts of dog rating numerator values:\n",
      "12.000    439\n",
      "20.000    369\n",
      "11.000    353\n",
      "13.000    291\n",
      "19.000    116\n",
      "18.000     88\n",
      "14.000     50\n",
      "17.000     39\n",
      "16.000     29\n",
      "15.000     24\n",
      "19.750      1\n",
      "11.270      1\n",
      "10.000      1\n",
      "13.500      1\n",
      "Name: numerator_max, dtype: int64\n"
     ]
    }
   ],
   "source": [
    "counts = aud_score_dog_rating.numerator_max.value_counts()\n",
    "print('Counts of dog rating numerator values:')\n",
    "print(counts)"
   ]
  },
  {
   "cell_type": "markdown",
   "metadata": {},
   "source": [
    "Below I'll print the numerator values that are considered as outliers."
   ]
  },
  {
   "cell_type": "code",
   "execution_count": 120,
   "metadata": {},
   "outputs": [
    {
     "name": "stdout",
     "output_type": "stream",
     "text": [
      "Rating numerator outliers: [19.75 11.27 10.   13.5 ]\n"
     ]
    }
   ],
   "source": [
    "non_outlier_idxs = counts[counts>=10].index\n",
    "aud_score_dog_rating = aud_score_dog_rating.query('numerator_max in @non_outlier_idxs')\n",
    "print(f'Rating numerator outliers: {counts[~counts.index.isin(non_outlier_idxs)].index.values}')"
   ]
  },
  {
   "cell_type": "markdown",
   "metadata": {},
   "source": [
    "Below I'll plot the mean of audience score VS the dog rating numerator value."
   ]
  },
  {
   "cell_type": "code",
   "execution_count": 121,
   "metadata": {},
   "outputs": [
    {
     "data": {
      "image/png": "[encoded data removed]",
      "text/plain": [
       "<Figure size 720x432 with 1 Axes>"
      ]
     },
     "metadata": {
      "needs_background": "light"
     },
     "output_type": "display_data"
    }
   ],
   "source": [
    "plt.figure(figsize=(10,6))\n",
    "sb.barplot(data=aud_score_dog_rating, x='numerator_max', y='audience_score', color=sb.color_palette()[0])\n",
    "plt.xticks(rotation=30);\n",
    "plt.ylabel('');\n",
    "plt.xlabel('Highest Rating Numerator in each Tweet Status')\n",
    "plt.title('Mean Audience Score for each Dog Rating Numerator');"
   ]
  },
  {
   "cell_type": "markdown",
   "metadata": {},
   "source": [
    "Below I'll calculate the correlation between audience score and the dog rating numerator values for numerator values of 11 up to 14."
   ]
  },
  {
   "cell_type": "code",
   "execution_count": 122,
   "metadata": {},
   "outputs": [
    {
     "name": "stdout",
     "output_type": "stream",
     "text": [
      "Correlation between audience_score and numerator_max for numerator_max value of 11.0 to 14.0 is 0.35.\n"
     ]
    }
   ],
   "source": [
    "# finding correlation for numerator value of 11 to 14\n",
    "numerators = dog_ratings_df.groupby('tweet_id').numerator.max()\n",
    "aud_score_dog_rating = twitter_df.join(numerators)[['audience_score', 'numerator']].dropna().rename(columns={'numerator': 'numerator_max'})\n",
    "aud_score_dog_rating_linear = aud_score_dog_rating.query('numerator_max in @non_outlier_idxs and numerator_max <= 14')\n",
    "\n",
    "c = aud_score_dog_rating_linear.corr().loc['audience_score', 'numerator_max']\n",
    "print(f'Correlation between audience_score and numerator_max for numerator_max value of 11.0 to 14.0 is {c:.2f}.')"
   ]
  },
  {
   "cell_type": "markdown",
   "metadata": {},
   "source": [
    "Below I'll re-plot the mean audience score for each dog rating numerator, for numerator values of 11 up to 14."
   ]
  },
  {
   "cell_type": "code",
   "execution_count": 123,
   "metadata": {},
   "outputs": [
    {
     "data": {
      "image/png": "[encoded data removed]",
      "text/plain": [
       "<Figure size 720x432 with 1 Axes>"
      ]
     },
     "metadata": {
      "needs_background": "light"
     },
     "output_type": "display_data"
    }
   ],
   "source": [
    "plt.figure(figsize=(10,6))\n",
    "sb.barplot(data=aud_score_dog_rating_linear, x='numerator_max', y='audience_score', color=sb.color_palette()[0])\n",
    "plt.xticks(rotation=30);\n",
    "plt.ylabel('');\n",
    "plt.xlabel('Highest Rating Numerator in each Tweet Status')\n",
    "plt.title('Mean Audience Score for each Dog Rating Numerator');"
   ]
  },
  {
   "cell_type": "markdown",
   "metadata": {},
   "source": [
    "Below I'll calculate the correlation between audience score, retweet count, and favorite count with the dog rating numerator, in general."
   ]
  },
  {
   "cell_type": "code",
   "execution_count": 124,
   "metadata": {},
   "outputs": [
    {
     "data": {
      "text/html": [
       "<div>\n",
       "<style scoped>\n",
       "    .dataframe tbody tr th:only-of-type {\n",
       "        vertical-align: middle;\n",
       "    }\n",
       "\n",
       "    .dataframe tbody tr th {\n",
       "        vertical-align: top;\n",
       "    }\n",
       "\n",
       "    .dataframe thead th {\n",
       "        text-align: right;\n",
       "    }\n",
       "</style>\n",
       "<table border=\"1\" class=\"dataframe\">\n",
       "  <thead>\n",
       "    <tr style=\"text-align: right;\">\n",
       "      <th></th>\n",
       "      <th>audience_score</th>\n",
       "      <th>numerator</th>\n",
       "      <th>retweet_count</th>\n",
       "      <th>favorite_count</th>\n",
       "    </tr>\n",
       "  </thead>\n",
       "  <tbody>\n",
       "    <tr>\n",
       "      <th>audience_score</th>\n",
       "      <td>1.000</td>\n",
       "      <td>-0.249</td>\n",
       "      <td>0.960</td>\n",
       "      <td>0.995</td>\n",
       "    </tr>\n",
       "    <tr>\n",
       "      <th>numerator</th>\n",
       "      <td>-0.249</td>\n",
       "      <td>1.000</td>\n",
       "      <td>-0.190</td>\n",
       "      <td>-0.266</td>\n",
       "    </tr>\n",
       "    <tr>\n",
       "      <th>retweet_count</th>\n",
       "      <td>0.960</td>\n",
       "      <td>-0.190</td>\n",
       "      <td>1.000</td>\n",
       "      <td>0.926</td>\n",
       "    </tr>\n",
       "    <tr>\n",
       "      <th>favorite_count</th>\n",
       "      <td>0.995</td>\n",
       "      <td>-0.266</td>\n",
       "      <td>0.926</td>\n",
       "      <td>1.000</td>\n",
       "    </tr>\n",
       "  </tbody>\n",
       "</table>\n",
       "</div>"
      ],
      "text/plain": [
       "                audience_score  numerator  retweet_count  favorite_count\n",
       "audience_score           1.000     -0.249          0.960           0.995\n",
       "numerator               -0.249      1.000         -0.190          -0.266\n",
       "retweet_count            0.960     -0.190          1.000           0.926\n",
       "favorite_count           0.995     -0.266          0.926           1.000"
      ]
     },
     "execution_count": 124,
     "metadata": {},
     "output_type": "execute_result"
    }
   ],
   "source": [
    "numerators = dog_ratings_df.groupby('tweet_id').numerator.max()\n",
    "aud_score_dog_rating = twitter_df.join(numerators)[['audience_score', 'numerator', 'retweet_count', 'favorite_count']].dropna()\n",
    "aud_score_dog_rating.corr()"
   ]
  },
  {
   "cell_type": "markdown",
   "metadata": {},
   "source": [
    "Below I'll produce several plots to visualize the distribution of audience score for each dog rating numerator value."
   ]
  },
  {
   "cell_type": "code",
   "execution_count": 125,
   "metadata": {},
   "outputs": [
    {
     "data": {
      "text/plain": [
       "<AxesSubplot:xlabel='numerator', ylabel='audience_score'>"
      ]
     },
     "execution_count": 125,
     "metadata": {},
     "output_type": "execute_result"
    },
    {
     "data": {
      "image/png": "[encoded data removed]",
      "text/plain": [
       "<Figure size 432x288 with 1 Axes>"
      ]
     },
     "metadata": {
      "needs_background": "light"
     },
     "output_type": "display_data"
    }
   ],
   "source": [
    "# aud_score_dog_rating.plot(kind='scatter', x='numerator', y='audience_score', alpha=0.2)\n",
    "sb.regplot(data=aud_score_dog_rating, x=aud_score_dog_rating.numerator.astype(int), y='audience_score', x_jitter=0.3,\n",
    "          fit_reg=False, scatter_kws={'alpha':0.1})"
   ]
  },
  {
   "cell_type": "code",
   "execution_count": 126,
   "metadata": {},
   "outputs": [
    {
     "data": {
      "text/plain": [
       "<AxesSubplot:xlabel='numerator', ylabel='audience_score'>"
      ]
     },
     "execution_count": 126,
     "metadata": {},
     "output_type": "execute_result"
    },
    {
     "data": {
      "image/png": "[encoded data removed]",
      "text/plain": [
       "<Figure size 1440x720 with 1 Axes>"
      ]
     },
     "metadata": {
      "needs_background": "light"
     },
     "output_type": "display_data"
    }
   ],
   "source": [
    "aud_score_dog_rating.numerator = aud_score_dog_rating.numerator.astype('category')\n",
    "plt.figure(figsize=(20,10))\n",
    "sb.violinplot(data=aud_score_dog_rating, x='numerator', y='audience_score')"
   ]
  },
  {
   "cell_type": "code",
   "execution_count": 127,
   "metadata": {},
   "outputs": [
    {
     "data": {
      "text/plain": [
       "<AxesSubplot:xlabel='numerator', ylabel='audience_score'>"
      ]
     },
     "execution_count": 127,
     "metadata": {},
     "output_type": "execute_result"
    },
    {
     "data": {
      "image/png": "[encoded data removed]",
      "text/plain": [
       "<Figure size 1440x720 with 1 Axes>"
      ]
     },
     "metadata": {
      "needs_background": "light"
     },
     "output_type": "display_data"
    }
   ],
   "source": [
    "plt.figure(figsize=(20,10))\n",
    "sb.boxplot(data=aud_score_dog_rating, x='numerator', y='audience_score')"
   ]
  },
  {
   "cell_type": "markdown",
   "metadata": {},
   "source": [
    "## Question: What is the most favored dog stage?\n",
    "Answer: In general, floofer is favored by most audience. All those fluffs are really cute indeed!\n",
    "\n",
    "Below I'll plot the count of each dog stage."
   ]
  },
  {
   "cell_type": "code",
   "execution_count": 128,
   "metadata": {},
   "outputs": [
    {
     "data": {
      "image/png": "[encoded data removed]",
      "text/plain": [
       "<Figure size 432x288 with 1 Axes>"
      ]
     },
     "metadata": {
      "needs_background": "light"
     },
     "output_type": "display_data"
    }
   ],
   "source": [
    "dog_stages_cols = ['doggo', 'floofer', 'pupper', 'puppo']\n",
    "has_dog_stage = tweet_dog_info_df[dog_stages_cols].sum(axis=1) > 0\n",
    "dog_stages_info = tweet_dog_info_df.loc[has_dog_stage][dog_stages_cols]\n",
    "count = dog_stages_info.sum()\n",
    "count = count.sort_values(ascending=False)\n",
    "count.plot(kind='bar')\n",
    "plt.ylabel('count');\n",
    "plt.xticks(rotation=0);"
   ]
  },
  {
   "cell_type": "markdown",
   "metadata": {},
   "source": [
    "Below I'll plot the distribution of audience score for each dog stage."
   ]
  },
  {
   "cell_type": "code",
   "execution_count": 129,
   "metadata": {},
   "outputs": [
    {
     "data": {
      "image/png": "[encoded data removed]",
      "text/plain": [
       "<Figure size 1080x360 with 4 Axes>"
      ]
     },
     "metadata": {
      "needs_background": "light"
     },
     "output_type": "display_data"
    }
   ],
   "source": [
    "from matplotlib.ticker import FuncFormatter\n",
    "\n",
    "dog_stage_audience_scores = dog_stages_info.join(twitter_df)\n",
    "\n",
    "def convert_to_kilo(x, pos):\n",
    "    return f'{int(x / 1000)}' +'k'\n",
    "\n",
    "formatter = FuncFormatter(convert_to_kilo)\n",
    "\n",
    "fig = plt.figure(figsize=(15,5))\n",
    "fig.suptitle('Histogram of Audience Score for each Dog Stage')\n",
    "for i, stage in enumerate(dog_stages_cols, start=1):\n",
    "    plt.subplot(1, 4, i)\n",
    "    plt.gca().xaxis.set_major_formatter(formatter)\n",
    "    sb.histplot(dog_stage_audience_scores.query(stage).audience_score)\n",
    "    plt.title(stage[0].upper() + stage[1:])\n",
    "    plt.xlabel('')\n",
    "    plt.ylabel('')\n",
    "plt.tight_layout()"
   ]
  },
  {
   "cell_type": "markdown",
   "metadata": {},
   "source": [
    "**Discussion:**  \n",
    "Since the distribution is skewed, we'll use median instead of mean to exclude outliers.\n",
    "\n",
    "Below I'll plot the median audience score for each dog stage."
   ]
  },
  {
   "cell_type": "code",
   "execution_count": 130,
   "metadata": {},
   "outputs": [
    {
     "data": {
      "image/png": "[encoded data removed]",
      "text/plain": [
       "<Figure size 720x432 with 1 Axes>"
      ]
     },
     "metadata": {
      "needs_background": "light"
     },
     "output_type": "display_data"
    }
   ],
   "source": [
    "results = []\n",
    "\n",
    "for stage in dog_stages_cols:\n",
    "    mean_score = dog_stage_audience_scores.query(stage).audience_score.median()\n",
    "    results.append({'stage': stage, 'median_audience_score': mean_score})\n",
    "\n",
    "result_df = pd.DataFrame(results)\n",
    "result_df= result_df.sort_values('median_audience_score', ascending=False)\n",
    "\n",
    "plt.figure(figsize=(10,6))\n",
    "sb.barplot(data=result_df, x='stage', y='median_audience_score', color=sb.color_palette()[0]);\n",
    "plt.xlabel('')\n",
    "plt.xticks(ticks=np.arange(4),labels=['Floofer', 'Puppo', 'Doggo', 'Pupper'])\n",
    "plt.ylabel('')\n",
    "plt.title('Median Audience Score for each Dog Stage');"
   ]
  },
  {
   "cell_type": "markdown",
   "metadata": {},
   "source": [
    "## Question: Which one does the public audience favors more, tweets with videos or photos?\n",
    "Answer: Video has higher audience score in general. Median is again used because of the highly skewed distribution of `audience_score` for each value of `is_video`.\n",
    "\n",
    "Below I'll create the `is_video` column."
   ]
  },
  {
   "cell_type": "code",
   "execution_count": 131,
   "metadata": {},
   "outputs": [
    {
     "data": {
      "text/html": [
       "<div>\n",
       "<style scoped>\n",
       "    .dataframe tbody tr th:only-of-type {\n",
       "        vertical-align: middle;\n",
       "    }\n",
       "\n",
       "    .dataframe tbody tr th {\n",
       "        vertical-align: top;\n",
       "    }\n",
       "\n",
       "    .dataframe thead th {\n",
       "        text-align: right;\n",
       "    }\n",
       "</style>\n",
       "<table border=\"1\" class=\"dataframe\">\n",
       "  <thead>\n",
       "    <tr style=\"text-align: right;\">\n",
       "      <th></th>\n",
       "      <th>timestamp</th>\n",
       "      <th>source</th>\n",
       "      <th>text</th>\n",
       "      <th>expanded_urls</th>\n",
       "      <th>retweet_count</th>\n",
       "      <th>favorite_count</th>\n",
       "      <th>is_reply</th>\n",
       "      <th>is_retweet</th>\n",
       "      <th>audience_score</th>\n",
       "      <th>is_video</th>\n",
       "    </tr>\n",
       "    <tr>\n",
       "      <th>tweet_id</th>\n",
       "      <th></th>\n",
       "      <th></th>\n",
       "      <th></th>\n",
       "      <th></th>\n",
       "      <th></th>\n",
       "      <th></th>\n",
       "      <th></th>\n",
       "      <th></th>\n",
       "      <th></th>\n",
       "      <th></th>\n",
       "    </tr>\n",
       "  </thead>\n",
       "  <tbody>\n",
       "    <tr>\n",
       "      <th>892420643555336193</th>\n",
       "      <td>2017-08-01 16:23:56+00:00</td>\n",
       "      <td>iphone</td>\n",
       "      <td>This is Phineas. He's a mystical boy. Only eve...</td>\n",
       "      <td>https://twitter.com/dog_rates/status/892420643...</td>\n",
       "      <td>7417.000</td>\n",
       "      <td>35140.000</td>\n",
       "      <td>False</td>\n",
       "      <td>False</td>\n",
       "      <td>42557.000</td>\n",
       "      <td>False</td>\n",
       "    </tr>\n",
       "    <tr>\n",
       "      <th>892177421306343426</th>\n",
       "      <td>2017-08-01 00:17:27+00:00</td>\n",
       "      <td>iphone</td>\n",
       "      <td>This is Tilly. She's just checking pup on you....</td>\n",
       "      <td>https://twitter.com/dog_rates/status/892177421...</td>\n",
       "      <td>5517.000</td>\n",
       "      <td>30411.000</td>\n",
       "      <td>False</td>\n",
       "      <td>False</td>\n",
       "      <td>35928.000</td>\n",
       "      <td>False</td>\n",
       "    </tr>\n",
       "    <tr>\n",
       "      <th>891815181378084864</th>\n",
       "      <td>2017-07-31 00:18:03+00:00</td>\n",
       "      <td>iphone</td>\n",
       "      <td>This is Archie. He is a rare Norwegian Pouncin...</td>\n",
       "      <td>https://twitter.com/dog_rates/status/891815181...</td>\n",
       "      <td>3640.000</td>\n",
       "      <td>22869.000</td>\n",
       "      <td>False</td>\n",
       "      <td>False</td>\n",
       "      <td>26509.000</td>\n",
       "      <td>False</td>\n",
       "    </tr>\n",
       "    <tr>\n",
       "      <th>891689557279858688</th>\n",
       "      <td>2017-07-30 15:58:51+00:00</td>\n",
       "      <td>iphone</td>\n",
       "      <td>This is Darla. She commenced a snooze mid meal...</td>\n",
       "      <td>https://twitter.com/dog_rates/status/891689557...</td>\n",
       "      <td>7584.000</td>\n",
       "      <td>38400.000</td>\n",
       "      <td>False</td>\n",
       "      <td>False</td>\n",
       "      <td>45984.000</td>\n",
       "      <td>False</td>\n",
       "    </tr>\n",
       "    <tr>\n",
       "      <th>891327558926688256</th>\n",
       "      <td>2017-07-29 16:00:24+00:00</td>\n",
       "      <td>iphone</td>\n",
       "      <td>This is Franklin. He would like you to stop ca...</td>\n",
       "      <td>https://twitter.com/dog_rates/status/891327558...</td>\n",
       "      <td>8166.000</td>\n",
       "      <td>36651.000</td>\n",
       "      <td>False</td>\n",
       "      <td>False</td>\n",
       "      <td>44817.000</td>\n",
       "      <td>False</td>\n",
       "    </tr>\n",
       "  </tbody>\n",
       "</table>\n",
       "</div>"
      ],
      "text/plain": [
       "                                   timestamp  source  \\\n",
       "tweet_id                                               \n",
       "892420643555336193 2017-08-01 16:23:56+00:00  iphone   \n",
       "892177421306343426 2017-08-01 00:17:27+00:00  iphone   \n",
       "891815181378084864 2017-07-31 00:18:03+00:00  iphone   \n",
       "891689557279858688 2017-07-30 15:58:51+00:00  iphone   \n",
       "891327558926688256 2017-07-29 16:00:24+00:00  iphone   \n",
       "\n",
       "                                                                 text  \\\n",
       "tweet_id                                                                \n",
       "892420643555336193  This is Phineas. He's a mystical boy. Only eve...   \n",
       "892177421306343426  This is Tilly. She's just checking pup on you....   \n",
       "891815181378084864  This is Archie. He is a rare Norwegian Pouncin...   \n",
       "891689557279858688  This is Darla. She commenced a snooze mid meal...   \n",
       "891327558926688256  This is Franklin. He would like you to stop ca...   \n",
       "\n",
       "                                                        expanded_urls  \\\n",
       "tweet_id                                                                \n",
       "892420643555336193  https://twitter.com/dog_rates/status/892420643...   \n",
       "892177421306343426  https://twitter.com/dog_rates/status/892177421...   \n",
       "891815181378084864  https://twitter.com/dog_rates/status/891815181...   \n",
       "891689557279858688  https://twitter.com/dog_rates/status/891689557...   \n",
       "891327558926688256  https://twitter.com/dog_rates/status/891327558...   \n",
       "\n",
       "                    retweet_count  favorite_count  is_reply  is_retweet  \\\n",
       "tweet_id                                                                  \n",
       "892420643555336193       7417.000       35140.000     False       False   \n",
       "892177421306343426       5517.000       30411.000     False       False   \n",
       "891815181378084864       3640.000       22869.000     False       False   \n",
       "891689557279858688       7584.000       38400.000     False       False   \n",
       "891327558926688256       8166.000       36651.000     False       False   \n",
       "\n",
       "                    audience_score is_video  \n",
       "tweet_id                                     \n",
       "892420643555336193       42557.000    False  \n",
       "892177421306343426       35928.000    False  \n",
       "891815181378084864       26509.000    False  \n",
       "891689557279858688       45984.000    False  \n",
       "891327558926688256       44817.000    False  "
      ]
     },
     "execution_count": 131,
     "metadata": {},
     "output_type": "execute_result"
    }
   ],
   "source": [
    "twitter_df['is_video'] = twitter_df.expanded_urls.str.contains('video')\n",
    "twitter_df.head()"
   ]
  },
  {
   "cell_type": "markdown",
   "metadata": {},
   "source": [
    "Below I'll plot the distribution of audience score for tweets with photo and video."
   ]
  },
  {
   "cell_type": "code",
   "execution_count": 132,
   "metadata": {},
   "outputs": [
    {
     "data": {
      "image/png": "[encoded data removed]",
      "text/plain": [
       "<Figure size 864x360 with 2 Axes>"
      ]
     },
     "metadata": {
      "needs_background": "light"
     },
     "output_type": "display_data"
    }
   ],
   "source": [
    "g = sb.FacetGrid(data=twitter_df, col='is_video', sharey=False, height=5, aspect=1.2)\n",
    "plt.suptitle('Histogram of Audience Score for Tweets with Photo vs Video')\n",
    "g.map(sb.histplot, 'audience_score', common_norm=False)\n",
    "axes = g.axes.flatten()\n",
    "axes[0].set_title('Photo')\n",
    "axes[1].set_title('Video');\n",
    "g.set_xlabels('')\n",
    "\n",
    "for ax in axes:\n",
    "    ax.xaxis.set_major_formatter(formatter)"
   ]
  },
  {
   "cell_type": "markdown",
   "metadata": {},
   "source": [
    "**Discussion:**  \n",
    "Since the distribution is skewed, we'll use median instead of mean to exclude outliers.\n",
    "\n",
    "Below I'll then plot the median audience score of tweets with photos vs videos."
   ]
  },
  {
   "cell_type": "code",
   "execution_count": 133,
   "metadata": {},
   "outputs": [
    {
     "data": {
      "text/plain": [
       "is_video\n",
       "False    5501.000\n",
       "True    14995.000\n",
       "Name: audience_score, dtype: float64"
      ]
     },
     "execution_count": 133,
     "metadata": {},
     "output_type": "execute_result"
    }
   ],
   "source": [
    "median_score_is_video = twitter_df.groupby('is_video').audience_score.median()\n",
    "median_score_is_video"
   ]
  },
  {
   "cell_type": "code",
   "execution_count": 134,
   "metadata": {},
   "outputs": [
    {
     "data": {
      "image/png": "[encoded data removed]",
      "text/plain": [
       "<Figure size 720x432 with 1 Axes>"
      ]
     },
     "metadata": {
      "needs_background": "light"
     },
     "output_type": "display_data"
    }
   ],
   "source": [
    "plt.figure(figsize=(10,6))\n",
    "median_score_is_video.plot(kind='bar')\n",
    "plt.xticks(rotation=0, ticks=range(2), labels=['Photo', 'Video'])\n",
    "plt.xlabel('')\n",
    "plt.title('Median Audience Score for Tweets with Photo vs Video');"
   ]
  },
  {
   "cell_type": "markdown",
   "metadata": {},
   "source": [
    "# Conclusion\n",
    "Based on the above analyses, the following conclusions are made:\n",
    "- In general, dog rating is not a reliable source to predict audience score of the tweet. However, a notable positive linear relationship occurs for dog rating values from 11 to 14, where the audience score increases linearly with the dog rating within this range. Higher than 14, there is no more linear relationship between audience score and dog rating.\n",
    "- The dog stage that is generally most favored by public audience is Floofer.\n",
    "- Tweets with videos is generally more favored by public audience than tweets with photos."
   ]
  }
 ],
 "metadata": {
  "kernelspec": {
   "display_name": "Python 3",
   "language": "python",
   "name": "python3"
  },
  "language_info": {
   "codemirror_mode": {
    "name": "ipython",
    "version": 3
   },
   "file_extension": ".py",
   "mimetype": "text/x-python",
   "name": "python",
   "nbconvert_exporter": "python",
   "pygments_lexer": "ipython3",
   "version": "3.7.9"
  }
 },
 "nbformat": 4,
 "nbformat_minor": 4
}
