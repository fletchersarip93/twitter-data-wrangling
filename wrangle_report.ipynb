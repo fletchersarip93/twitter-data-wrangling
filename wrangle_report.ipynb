{
 "cells": [
  {
   "cell_type": "markdown",
   "metadata": {},
   "source": [
    "# Quality Issues\n",
    "- Column Data Types - `twitter_df`\n",
    "    - `tweet_id` is of type integer, while it should be string because it's an ID.\n",
    "    - `in_reply_to_status_id`, `in_reply_to_user_id`, `retweeted_status_id`, `retweeted_status_user_id` are of type float, while they should be string because they are IDs.\n",
    "    - `timestamp` and `retweeted_status_timestamp` are of type string, while they should be datetime.\n",
    "- Column Data Types - `image_pred_df`\n",
    "    - `tweet_id` is integer, while it should be string since it is an ID.\n",
    "- Data Quality - Dog Stage Columns \"None\" String Values\n",
    "    - There are string \"None\" values in `doggo`, `floofer`, `pupper`, and `puppo` columns, which are invalid and misleading. This can make it hard for programmatic analysis later on.\n",
    "- Column Data Type - Dog Stages Columns in `twitter_df`\n",
    "    - For the `doggo`, `floofer`, `pupper`, and `puppo` columns, I would expect their data types to be boolean instead of string, with value `True` if the corresponding dog stage appears in the tweet status.\n",
    "- Data Accuracy - Multiple Dog Stages in a Row (while actually there is only one dog)\n",
    "    - Some rows actually only have one dog, but the tweet status mentions multiple dog stages in the text. For these cases, the multiple dog stages will be misleading.\n",
    "- Data Accuracy - `rating_numerator` and `rating_denominator` in `twitter_df`\n",
    "    - It seems that the original rating detection didn't take into account possibility of the rating having decimal point in the numerator.\n",
    "    - Some of the denominator are not 10.\n",
    "- Data Validity - Dog Name in `tweet_dog_info_df` Containing Invalid Names\n",
    "    - Mostly the invalid names are the \"None\" and all the names that starts with lower case."
   ]
  },
  {
   "cell_type": "markdown",
   "metadata": {},
   "source": [
    "# Tidiness Issues\n",
    "- Data Tidiness - `tweet_infos_df` separated from `twitter_df`\n",
    "    - An obvious data tidiness issue is the `tweet_infos_df` being separated from the `twitter_df`. Both of them should be combined together, because the columns `retweet_count` and `favorite_count` should belong to `twitter_df`.\n",
    "- Data Tidiness - Change Index of `twitter_df` and `image_pred_df` to `tweet_id`\n",
    "- Data Tidiness - Dog State and Dog Name Columns should not be in `twitter_df`"
   ]
  }
 ],
 "metadata": {
  "kernelspec": {
   "display_name": "Python 3",
   "language": "python",
   "name": "python3"
  },
  "language_info": {
   "codemirror_mode": {
    "name": "ipython",
    "version": 3
   },
   "file_extension": ".py",
   "mimetype": "text/x-python",
   "name": "python",
   "nbconvert_exporter": "python",
   "pygments_lexer": "ipython3",
   "version": "3.7.9"
  }
 },
 "nbformat": 4,
 "nbformat_minor": 4
}
